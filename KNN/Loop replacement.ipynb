{
 "cells": [
  {
   "cell_type": "code",
   "execution_count": 1,
   "metadata": {},
   "outputs": [],
   "source": [
    "import torch\n",
    "import time\n",
    "#import matplotlib.pyplot as plt\n",
    "#from collections import defaultdict\n",
    "\n",
    "class NNDescent:\n",
    "  def __init__(self, data, k=3):\n",
    "    # The data is a (N x d) matrix with N instances of d-dimensional points\n",
    "    self.data = data\n",
    "    N = data.shape[0]\n",
    "    self.k = k\n",
    "    \n",
    "    # A 2D tensor representing a directed graph.\n",
    "    # The value a = graph[i,j] represents an edge from point x_i to x_a.\n",
    "    self.graph = torch.zeros(size=[N, k], dtype=torch.long)\n",
    "    self.initialize_graph_randomly()\n",
    "\n",
    "    # A set of tuples (i,j) of indices for which the distance has already been calculated.\n",
    "    self.explored_edges = set()\n",
    "\n",
    "    # A 2D tensor representing the distance between point x_i and x_graph[i,j]\n",
    "    self.k_distances = torch.zeros([N, k])\n",
    "    self.calculate_all_distances()\n",
    "    \n",
    "\n",
    "  def initialize_graph_randomly(self):\n",
    "    '''\n",
    "    Initializes self.graph with random values such that each point has k distinct neighbors\n",
    "    '''\n",
    "    N, k = self.graph.shape\n",
    "    for i, row in enumerate(self.graph):\n",
    "      random_row = torch.randperm(N-1)[:k] # k random values without replacement\n",
    "      random_row[random_row >= i] += 1 # excluding i to avoid loops in graph\n",
    "      self.graph[i] = random_row\n",
    "\n",
    "  def calculate_all_distances(self):\n",
    "    '''\n",
    "    Updates the distances (self.k_distances) of the edges found in self.graph.\n",
    "    '''\n",
    "    # Note: Start with for loop for simplicity. TODO: Try to remove loop.\n",
    "    for i, row in enumerate(self.graph):\n",
    "      # Indices of current k neighbors in self.graph\n",
    "      neighbor_indices = [(i,int(r)) for r in row]\n",
    "\n",
    "      # The distances of those neighbors are saved in k_distances\n",
    "      self.k_distances[i] = torch.Tensor([dist(self.data[a],self.data[b]) for a,b in neighbor_indices])\n",
    "\n",
    "      # Add pairs to explored_edges set\n",
    "      self.explored_edges.update(neighbor_indices) \n",
    "    \n",
    "\n",
    "  def update_graph(self, iter=5):\n",
    "    '''\n",
    "      Updates the graph using algorithm: https://pynndescent.readthedocs.io/en/latest/how_pynndescent_works.html\n",
    "    '''\n",
    "    # [STEP 1: Start with random graph.] Iterate\n",
    "    for it in range(iter):\n",
    "      print(\"Iteration number\",it,\"with average distance of\",torch.mean(self.k_distances).item())\n",
    "      has_changed = False\n",
    "\n",
    "      # [STEP 2: For each node:] (TODO: Investigate whether this can be vectorized.)\n",
    "      for i, neighbors in enumerate(self.graph):\n",
    "        # Distances of current neighbors\n",
    "        dist_current_neighbors = self.k_distances[i]\n",
    "\n",
    "        # [STEP 3: Measure distance from the node to the neighbors of its neighbors]\n",
    "        # Find neighbors of neighbors\n",
    "        potential_neighbors = {a.item() for a in self.graph[neighbors].flatten() \\\n",
    "                               if a not in neighbors and a!=i and (i,int(a)) not in self.explored_edges}\n",
    "        potential_distances = torch.Tensor([dist(self.data[i],self.data[n]) for n in potential_neighbors])\n",
    "        self.explored_edges.update([(i,int(r)) for r in potential_neighbors])\n",
    "\n",
    "        # Concatenate potential neighbors to list of neighbors (indices and distances)\n",
    "        cat_idx = torch.cat([neighbors, torch.Tensor(list(potential_neighbors))])\n",
    "        cat_dist = torch.cat([self.k_distances[i], potential_distances])\n",
    "\n",
    "        # [STEP 4: If any are closer, then update the graph accordingly, and only keep the k closest]\n",
    "        # Sort using torch.sort(), which also returns sorted indices\n",
    "        dist_sorted, idx = torch.sort(cat_dist)\n",
    "        if torch.max(idx[:self.k]) >= self.k:\n",
    "          has_changed = True\n",
    "          self.graph[i] = cat_idx[idx[:self.k]]\n",
    "          self.k_distances[i] = dist_sorted[:self.k]\n",
    "        \n",
    "      # [STEP 5: If any changes were made, repeat iteration, otherwise stop]\n",
    "      if not has_changed:\n",
    "        print(\"Nothing changed in iteration\",it)\n",
    "        break\n",
    "    print(\"Done.\")\n",
    "\n",
    "    def predict(self,x):\n",
    "      '''\n",
    "      Predict output using tree. Hasn't been implemented yet.\n",
    "      '''\n",
    "      pass\n",
    "\n",
    "\n",
    "def dist(x,y):\n",
    "  # Square of euclidian distance. Skip the root for faster computation.\n",
    "  return torch.sum((x-y)**2)\n",
    "\n"
   ]
  },
  {
   "cell_type": "code",
   "execution_count": 2,
   "metadata": {},
   "outputs": [
    {
     "data": {
      "text/plain": [
       "tensor([[1, 7, 2],\n",
       "        [0, 7, 2],\n",
       "        [6, 7, 0],\n",
       "        [5, 6, 2],\n",
       "        [2, 1, 7],\n",
       "        [0, 3, 4],\n",
       "        [4, 1, 0],\n",
       "        [1, 6, 5]])"
      ]
     },
     "execution_count": 2,
     "metadata": {},
     "output_type": "execute_result"
    }
   ],
   "source": [
    "k=3\n",
    "d=2\n",
    "torch.manual_seed(1)\n",
    "data = torch.Tensor([[1.0,1.0], [2.0,1.0], [3.0,1.0], [4.0,1.0],\n",
    "                     [1.0,2.0], [2.0,2.0], [3.0,2.0], [4.0,2.0]])  \n",
    "n = NNDescent(data, k=k)\n",
    "n.graph"
   ]
  },
  {
   "cell_type": "code",
   "execution_count": 3,
   "metadata": {},
   "outputs": [
    {
     "name": "stdout",
     "output_type": "stream",
     "text": [
      "Iteration number 0 with average distance of 3.4166667461395264\n",
      "Iteration number 1 with average distance of 1.5\n",
      "Iteration number 2 with average distance of 1.3333333730697632\n",
      "Nothing changed in iteration 2\n",
      "Done.\n"
     ]
    }
   ],
   "source": [
    "n.update_graph()"
   ]
  },
  {
   "cell_type": "code",
   "execution_count": 4,
   "metadata": {},
   "outputs": [
    {
     "data": {
      "text/plain": [
       "tensor([[1, 4, 5],\n",
       "        [0, 2, 5],\n",
       "        [6, 1, 7],\n",
       "        [7, 2, 6],\n",
       "        [0, 5, 1],\n",
       "        [1, 6, 4],\n",
       "        [2, 5, 7],\n",
       "        [6, 2, 5]])"
      ]
     },
     "execution_count": 4,
     "metadata": {},
     "output_type": "execute_result"
    }
   ],
   "source": [
    "n.graph"
   ]
  },
  {
   "cell_type": "code",
   "execution_count": 5,
   "metadata": {},
   "outputs": [
    {
     "data": {
      "text/plain": [
       "tensor([[4, 1, 5],\n",
       "        [0, 5, 2],\n",
       "        [1, 6, 3],\n",
       "        [7, 2, 6],\n",
       "        [0, 5, 1],\n",
       "        [4, 1, 6],\n",
       "        [7, 2, 5],\n",
       "        [3, 6, 2]])"
      ]
     },
     "execution_count": 5,
     "metadata": {},
     "output_type": "execute_result"
    }
   ],
   "source": [
    "#print the true K argmin\n",
    "m=((data.unsqueeze(1)-data.unsqueeze(0))**2).sum(-1)+torch.eye(len(data))*100\n",
    "torch.topk(-m,k=3,dim=1)[1]"
   ]
  },
  {
   "cell_type": "code",
   "execution_count": 7,
   "metadata": {},
   "outputs": [
    {
     "data": {
      "text/plain": [
       "tensor([[0, 2, 5],\n",
       "        [1, 4, 5],\n",
       "        [2, 5, 7],\n",
       "        [6, 2, 5],\n",
       "        [1, 4, 5],\n",
       "        [0, 2, 5],\n",
       "        [6, 1, 7],\n",
       "        [2, 5, 7]])"
      ]
     },
     "execution_count": 7,
     "metadata": {},
     "output_type": "execute_result"
    }
   ],
   "source": [
    "#code to iterate one more time\n",
    "\n",
    "#get the neighbours of the first value in each row of n.graph\n",
    "new_neighbours=torch.index_select(n.graph,0,n.graph[:,0]) \n",
    "new_neighbours "
   ]
  },
  {
   "cell_type": "code",
   "execution_count": 8,
   "metadata": {},
   "outputs": [
    {
     "data": {
      "text/plain": [
       "tensor([[1, 4, 5],\n",
       "        [0, 2, 5],\n",
       "        [6, 1, 7],\n",
       "        [7, 2, 6],\n",
       "        [0, 5, 1],\n",
       "        [1, 6, 4],\n",
       "        [2, 5, 7],\n",
       "        [6, 2, 5]])"
      ]
     },
     "execution_count": 8,
     "metadata": {},
     "output_type": "execute_result"
    }
   ],
   "source": [
    "old_neighbours=n.graph\n",
    "old_neighbours #current neighbours in the nn graph"
   ]
  },
  {
   "cell_type": "code",
   "execution_count": 9,
   "metadata": {},
   "outputs": [
    {
     "data": {
      "text/plain": [
       "tensor([[0, 1, 2, 4, 5, 5],\n",
       "        [0, 1, 2, 4, 5, 5],\n",
       "        [1, 2, 5, 6, 7, 7],\n",
       "        [2, 2, 5, 6, 6, 7],\n",
       "        [0, 1, 1, 4, 5, 5],\n",
       "        [0, 1, 2, 4, 5, 6],\n",
       "        [1, 2, 5, 6, 7, 7],\n",
       "        [2, 2, 5, 5, 6, 7]])"
      ]
     },
     "execution_count": 9,
     "metadata": {},
     "output_type": "execute_result"
    }
   ],
   "source": [
    "nlist=torch.sort(torch.cat((old_neighbours,new_neighbours),dim=1),dim=1)[0]\n",
    "nlist #adds old and new neighbours, and sorts them"
   ]
  },
  {
   "cell_type": "code",
   "execution_count": 10,
   "metadata": {},
   "outputs": [
    {
     "data": {
      "text/plain": [
       "tensor([[False, False, False, False, False,  True],\n",
       "        [False, False, False, False, False,  True],\n",
       "        [False, False, False, False, False,  True],\n",
       "        [False,  True, False, False,  True, False],\n",
       "        [False, False,  True, False, False,  True],\n",
       "        [False, False, False, False, False, False],\n",
       "        [False, False, False, False, False,  True],\n",
       "        [False,  True, False,  True, False, False]])"
      ]
     },
     "execution_count": 10,
     "metadata": {},
     "output_type": "execute_result"
    }
   ],
   "source": [
    "shift=torch.cat((torch.full((len(nlist),1),-1),torch.sort(nlist,dim=1)[0][:,:-1]),dim=1)\n",
    "unwanted_indices=nlist==shift\n",
    "unwanted_indices #obtains the location of repeated values (for the repeated locations only!)"
   ]
  },
  {
   "cell_type": "code",
   "execution_count": 11,
   "metadata": {},
   "outputs": [
    {
     "data": {
      "text/plain": [
       "tensor([[ True, False, False, False, False,  True],\n",
       "        [False,  True, False, False, False,  True],\n",
       "        [False,  True, False, False, False,  True],\n",
       "        [False,  True, False, False,  True, False],\n",
       "        [False, False,  True,  True, False,  True],\n",
       "        [False, False, False, False,  True, False],\n",
       "        [False, False, False,  True, False,  True],\n",
       "        [False,  True, False,  True, False,  True]])"
      ]
     },
     "execution_count": 11,
     "metadata": {},
     "output_type": "execute_result"
    }
   ],
   "source": [
    "#include this line if you want to exclude the same index for each row, ie 0 is not a neighbour of 0\n",
    "same_index=torch.arange(len(nlist)).repeat(2*k,1).T==nlist #boolean mask\n",
    "unwanted_indices=torch.logical_or(same_index,unwanted_indices) #take or to get mask\n",
    "unwanted_indices"
   ]
  },
  {
   "cell_type": "code",
   "execution_count": 18,
   "metadata": {},
   "outputs": [
    {
     "data": {
      "text/plain": [
       "tensor([[[1., 1.],\n",
       "         [2., 1.],\n",
       "         [3., 1.],\n",
       "         [1., 2.],\n",
       "         [2., 2.],\n",
       "         [2., 2.]],\n",
       "\n",
       "        [[1., 1.],\n",
       "         [2., 1.],\n",
       "         [3., 1.],\n",
       "         [1., 2.],\n",
       "         [2., 2.],\n",
       "         [2., 2.]],\n",
       "\n",
       "        [[2., 1.],\n",
       "         [3., 1.],\n",
       "         [2., 2.],\n",
       "         [3., 2.],\n",
       "         [4., 2.],\n",
       "         [4., 2.]],\n",
       "\n",
       "        [[3., 1.],\n",
       "         [3., 1.],\n",
       "         [2., 2.],\n",
       "         [3., 2.],\n",
       "         [3., 2.],\n",
       "         [4., 2.]],\n",
       "\n",
       "        [[1., 1.],\n",
       "         [2., 1.],\n",
       "         [2., 1.],\n",
       "         [1., 2.],\n",
       "         [2., 2.],\n",
       "         [2., 2.]],\n",
       "\n",
       "        [[1., 1.],\n",
       "         [2., 1.],\n",
       "         [3., 1.],\n",
       "         [1., 2.],\n",
       "         [2., 2.],\n",
       "         [3., 2.]],\n",
       "\n",
       "        [[2., 1.],\n",
       "         [3., 1.],\n",
       "         [2., 2.],\n",
       "         [3., 2.],\n",
       "         [4., 2.],\n",
       "         [4., 2.]],\n",
       "\n",
       "        [[3., 1.],\n",
       "         [3., 1.],\n",
       "         [2., 2.],\n",
       "         [2., 2.],\n",
       "         [3., 2.],\n",
       "         [4., 2.]]])"
      ]
     },
     "execution_count": 18,
     "metadata": {},
     "output_type": "execute_result"
    }
   ],
   "source": [
    "neighbours_data=torch.index_select(data,0,nlist.flatten()).reshape(*nlist.shape,-1)\n",
    "neighbours_data #obtains all the values of the new 2k number of neighbours"
   ]
  },
  {
   "cell_type": "code",
   "execution_count": 16,
   "metadata": {},
   "outputs": [
    {
     "data": {
      "text/plain": [
       "tensor([[[1., 1.],\n",
       "         [1., 1.],\n",
       "         [1., 1.],\n",
       "         [1., 1.],\n",
       "         [1., 1.],\n",
       "         [1., 1.]],\n",
       "\n",
       "        [[2., 1.],\n",
       "         [2., 1.],\n",
       "         [2., 1.],\n",
       "         [2., 1.],\n",
       "         [2., 1.],\n",
       "         [2., 1.]],\n",
       "\n",
       "        [[3., 1.],\n",
       "         [3., 1.],\n",
       "         [3., 1.],\n",
       "         [3., 1.],\n",
       "         [3., 1.],\n",
       "         [3., 1.]],\n",
       "\n",
       "        [[4., 1.],\n",
       "         [4., 1.],\n",
       "         [4., 1.],\n",
       "         [4., 1.],\n",
       "         [4., 1.],\n",
       "         [4., 1.]],\n",
       "\n",
       "        [[1., 2.],\n",
       "         [1., 2.],\n",
       "         [1., 2.],\n",
       "         [1., 2.],\n",
       "         [1., 2.],\n",
       "         [1., 2.]],\n",
       "\n",
       "        [[2., 2.],\n",
       "         [2., 2.],\n",
       "         [2., 2.],\n",
       "         [2., 2.],\n",
       "         [2., 2.],\n",
       "         [2., 2.]],\n",
       "\n",
       "        [[3., 2.],\n",
       "         [3., 2.],\n",
       "         [3., 2.],\n",
       "         [3., 2.],\n",
       "         [3., 2.],\n",
       "         [3., 2.]],\n",
       "\n",
       "        [[4., 2.],\n",
       "         [4., 2.],\n",
       "         [4., 2.],\n",
       "         [4., 2.],\n",
       "         [4., 2.],\n",
       "         [4., 2.]]])"
      ]
     },
     "execution_count": 16,
     "metadata": {},
     "output_type": "execute_result"
    }
   ],
   "source": [
    "reshaped_data=torch.transpose(data.repeat(2*k,1).reshape(2*k,len(nlist),d),0,1)\n",
    "reshaped_data #taking the data but repeating it 2k times so we can perform distance computation"
   ]
  },
  {
   "cell_type": "code",
   "execution_count": 19,
   "metadata": {},
   "outputs": [],
   "source": [
    "dist=((reshaped_data-neighbours_data)**2).sum(-1) #calculate the distance\n",
    "dist[unwanted_indices]=float(\"Inf\") #set the distance at the unwanted indices to infinity"
   ]
  },
  {
   "cell_type": "code",
   "execution_count": 22,
   "metadata": {},
   "outputs": [],
   "source": [
    "sort,idx=torch.sort(dist,dim=1)\n",
    "#sort distances and get indices"
   ]
  },
  {
   "cell_type": "code",
   "execution_count": 15,
   "metadata": {},
   "outputs": [
    {
     "data": {
      "text/plain": [
       "tensor([[1, 4, 5],\n",
       "        [0, 2, 5],\n",
       "        [1, 6, 5],\n",
       "        [2, 7, 6],\n",
       "        [0, 5, 1],\n",
       "        [1, 4, 6],\n",
       "        [2, 5, 7],\n",
       "        [6, 2, 5]])"
      ]
     },
     "execution_count": 15,
     "metadata": {},
     "output_type": "execute_result"
    }
   ],
   "source": [
    "#use gather to obtain the final values\n",
    "nn=torch.gather(nlist,dim=1,index=idx)[:,:k]\n",
    "nn"
   ]
  },
  {
   "cell_type": "code",
   "execution_count": 16,
   "metadata": {},
   "outputs": [
    {
     "data": {
      "text/plain": [
       "tensor([[1, 4, 5],\n",
       "        [0, 2, 5],\n",
       "        [6, 1, 7],\n",
       "        [7, 2, 6],\n",
       "        [0, 5, 1],\n",
       "        [1, 6, 4],\n",
       "        [2, 5, 7],\n",
       "        [6, 2, 5]])"
      ]
     },
     "execution_count": 16,
     "metadata": {},
     "output_type": "execute_result"
    }
   ],
   "source": [
    "n.graph #no update since the algo terminated already"
   ]
  },
  {
   "cell_type": "code",
   "execution_count": 20,
   "metadata": {},
   "outputs": [
    {
     "data": {
      "text/plain": [
       "tensor([[inf, 1., 4., 1., 2., inf],\n",
       "        [1., inf, 1., 2., 1., inf],\n",
       "        [1., inf, 2., 1., 2., inf],\n",
       "        [1., inf, 5., 2., inf, 1.],\n",
       "        [1., 2., inf, inf, 1., inf],\n",
       "        [2., 1., 2., 1., inf, 1.],\n",
       "        [2., 1., 1., inf, 1., inf],\n",
       "        [2., inf, 4., inf, 1., inf]])"
      ]
     },
     "execution_count": 20,
     "metadata": {},
     "output_type": "execute_result"
    }
   ],
   "source": [
    "dist"
   ]
  },
  {
   "cell_type": "code",
   "execution_count": 23,
   "metadata": {},
   "outputs": [
    {
     "data": {
      "text/plain": [
       "tensor([[1., 1., 2.],\n",
       "        [1., 1., 1.],\n",
       "        [1., 1., 2.],\n",
       "        [1., 1., 2.],\n",
       "        [1., 1., 2.],\n",
       "        [1., 1., 1.],\n",
       "        [1., 1., 1.],\n",
       "        [1., 2., 4.]])"
      ]
     },
     "execution_count": 23,
     "metadata": {},
     "output_type": "execute_result"
    }
   ],
   "source": [
    "torch.gather(dist,dim=1,index=idx)[:,:k]"
   ]
  },
  {
   "cell_type": "code",
   "execution_count": null,
   "metadata": {},
   "outputs": [],
   "source": []
  },
  {
   "cell_type": "code",
   "execution_count": null,
   "metadata": {},
   "outputs": [],
   "source": []
  },
  {
   "cell_type": "code",
   "execution_count": 94,
   "metadata": {},
   "outputs": [],
   "source": [
    "#updating KNN graph from leaf code for Yihang\n",
    "\n",
    "k=5\n",
    "leaf=torch.tensor([0,1,2,3,4])#.reshape(5,1)\n",
    "nn=torch.zeros([2*k,k-1])"
   ]
  },
  {
   "cell_type": "code",
   "execution_count": 95,
   "metadata": {},
   "outputs": [
    {
     "data": {
      "text/plain": [
       "tensor([[0., 0., 0., 0.],\n",
       "        [0., 0., 0., 0.],\n",
       "        [0., 0., 0., 0.],\n",
       "        [0., 0., 0., 0.],\n",
       "        [0., 0., 0., 0.],\n",
       "        [0., 0., 0., 0.],\n",
       "        [0., 0., 0., 0.],\n",
       "        [0., 0., 0., 0.],\n",
       "        [0., 0., 0., 0.],\n",
       "        [0., 0., 0., 0.]])"
      ]
     },
     "execution_count": 95,
     "metadata": {},
     "output_type": "execute_result"
    }
   ],
   "source": [
    "#goal is to update the first 5 rows of the NN graph\n",
    "nn"
   ]
  },
  {
   "cell_type": "code",
   "execution_count": 96,
   "metadata": {},
   "outputs": [
    {
     "data": {
      "text/plain": [
       "tensor([[1, 2, 3, 4],\n",
       "        [2, 3, 4, 0],\n",
       "        [3, 4, 0, 1],\n",
       "        [4, 0, 1, 2],\n",
       "        [0, 1, 2, 3]])"
      ]
     },
     "execution_count": 96,
     "metadata": {},
     "output_type": "execute_result"
    }
   ],
   "source": [
    "#NN update\n",
    "idx_update=torch.as_strided(leaf.repeat(1,2),size=[k,k-1],stride=[1,1],storage_offset=1)\n",
    "idx_update"
   ]
  },
  {
   "cell_type": "code",
   "execution_count": 97,
   "metadata": {},
   "outputs": [],
   "source": [
    "nn[leaf,:]=idx_update.float()"
   ]
  },
  {
   "cell_type": "code",
   "execution_count": 98,
   "metadata": {},
   "outputs": [
    {
     "data": {
      "text/plain": [
       "tensor([[1., 2., 3., 4.],\n",
       "        [2., 3., 4., 0.],\n",
       "        [3., 4., 0., 1.],\n",
       "        [4., 0., 1., 2.],\n",
       "        [0., 1., 2., 3.],\n",
       "        [0., 0., 0., 0.],\n",
       "        [0., 0., 0., 0.],\n",
       "        [0., 0., 0., 0.],\n",
       "        [0., 0., 0., 0.],\n",
       "        [0., 0., 0., 0.]])"
      ]
     },
     "execution_count": 98,
     "metadata": {},
     "output_type": "execute_result"
    }
   ],
   "source": [
    "nn"
   ]
  },
  {
   "cell_type": "code",
   "execution_count": 99,
   "metadata": {},
   "outputs": [],
   "source": [
    "#above we see the first 5 rows updated to their neighbours"
   ]
  },
  {
   "cell_type": "code",
   "execution_count": null,
   "metadata": {},
   "outputs": [],
   "source": [
    "'''\n",
    "i would advise the following:\n",
    "first obtain idx_update for each leaf and repeatedly concatenate them together\n",
    "then obtain all the leaf indices and repeatedly concatenate them together\n",
    "finally update the NN graph in 1 go with nn[leaf,:]=idx_update\n",
    "this way you don't keep editing the NN graph you perform less operations per loop, ie faster\n",
    "'''"
   ]
  }
 ],
 "metadata": {
  "kernelspec": {
   "display_name": "Python 3",
   "language": "python",
   "name": "python3"
  },
  "language_info": {
   "codemirror_mode": {
    "name": "ipython",
    "version": 3
   },
   "file_extension": ".py",
   "mimetype": "text/x-python",
   "name": "python",
   "nbconvert_exporter": "python",
   "pygments_lexer": "ipython3",
   "version": "3.7.7"
  }
 },
 "nbformat": 4,
 "nbformat_minor": 4
}
