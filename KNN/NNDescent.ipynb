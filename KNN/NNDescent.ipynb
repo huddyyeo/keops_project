{
  "nbformat": 4,
  "nbformat_minor": 0,
  "metadata": {
    "colab": {
      "name": "nndescent.ipynb",
      "provenance": [],
      "collapsed_sections": []
    },
    "kernelspec": {
      "name": "python3",
      "display_name": "Python 3"
    }
  },
  "cells": [
    {
      "cell_type": "code",
      "metadata": {
        "id": "u3D2r-Nlhvj6"
      },
      "source": [
        "import numpy as np\n",
        "import networkx as nx \n",
        "from collections import defaultdict\n",
        "import time\n",
        "\n",
        "def dist(x,y):\n",
        "  return np.sum((x-y)**2)\n",
        "\n",
        "class graph:\n",
        "  def __init__(self):\n",
        "    self.graph=defaultdict(set)\n",
        "    self.ddict=defaultdict(float)\n",
        "    self.explored_edges=defaultdict(set)\n",
        "  def add_key(self,a,x):\n",
        "    self.keys[a].add(x)\n",
        "  def add_edge(self,a,b):\n",
        "    self.graph[str(a)].add(b)\n",
        "    self.graph[str(b)].add(a)\n",
        "  def replace_edge_list(self,a,x):\n",
        "    self.graph[str(a)]=set(x)\n",
        "  def del_edge(self,a,b):\n",
        "    self.graph[str(a)].remove(b)\n",
        "    self.graph[str(b)].remove(a)\n",
        "  def edge_list(self):\n",
        "    edge=set()\n",
        "    for key in set(self.graph.keys()):\n",
        "      tmp=set([(int(key),i) for i in self.graph[key]])\n",
        "      edge=edge.union(tmp)\n",
        "    return edge\n",
        "  def get_edge(self,a):\n",
        "    return self.graph[str(a)]\n",
        "  def visualize(self): \n",
        "        G = nx.Graph() \n",
        "        G.add_edges_from(self.edge_list()) \n",
        "        nx.draw_networkx(G) \n",
        "        plt.show() \n",
        "\n",
        "#construct NN graph\n",
        "def construct_graph(x,k=3,count=3,init=3):\n",
        "  def combi(x):\n",
        "    combi=set()\n",
        "    for i in x:\n",
        "      for j in x:\n",
        "        if (j,i) not in combi and i!=j:\n",
        "          combi.add((i,j))\n",
        "    return combi  \n",
        "  g=graph()\n",
        "  l=len(x)\n",
        "  for i in range(len(x)):\n",
        "    for r in range(init):\n",
        "      while True:\n",
        "        j=int(l * np.random.random())\n",
        "        if j!=i:\n",
        "          break\n",
        "      g.add_edge(i,j)\n",
        "      d=dist(x[i],x[j])\n",
        "      g.ddict[(i,j)]=d\n",
        "      g.ddict[(j,i)]=d\n",
        "      g.explored_edges[i].add(j)\n",
        "      g.explored_edges[j].add(i)  \n",
        "\n",
        "  #start update here\n",
        "  for i in range(count):\n",
        "    neighbours_set=set()\n",
        "\n",
        "    for index in range(l):\n",
        "      el=g.get_edge(index)\n",
        "      neighbours=set([j for j in combi(el) if j[1] not in g.get_edge(j[0])])\n",
        "      neighbours_set=neighbours_set.union(neighbours)   \n",
        "    \n",
        "    if neighbours_set==set():      \n",
        "      break\n",
        "\n",
        "    for pair in list(neighbours_set):\n",
        "      d=dist(x[pair[0]],x[pair[1]])\n",
        "      g.ddict[pair]=d\n",
        "      g.ddict[(pair[1],pair[0])]=d\n",
        "      g.explored_edges[pair[0]].add(pair[1])\n",
        "      g.explored_edges[pair[1]].add(pair[0])\n",
        "\n",
        "    \n",
        "    #recalculate all neighbours\n",
        "    for index in range(l):\n",
        "      nodes_update=list(g.explored_edges[index])\n",
        "      \n",
        "      dist_nodes=[g.ddict[(i,index)] for i in nodes_update] #the distances of these pairs\n",
        "      d,final_nodes=[list(j) for j in list(zip(*sorted(zip(dist_nodes,nodes_update))[:k]))] #sort these pairs and take the top k pairs\n",
        "\n",
        "      final_nodes=set(final_nodes)\n",
        "      g.replace_edge_list(index,final_nodes)       \n",
        "    \n",
        "  return g   \n",
        "\n",
        "def argmin(x,y,g,k=5):\n",
        "  indices=[]\n",
        "  d=[]\n",
        "  visited=set()\n",
        "  def add_index(i):\n",
        "    indices.append(i)\n",
        "    d.append(dist(y,x[i]))\n",
        "  add_index(np.random.randint(len(x)))\n",
        "  while True:\n",
        "    i=None\n",
        "    for index in indices:\n",
        "      #select this node for expansion\n",
        "      if index not in visited:\n",
        "        #print(index)\n",
        "        i=index\n",
        "        break\n",
        "    if i is None:\n",
        "      return indices\n",
        "    for new_node in g.get_edge(i):\n",
        "      if new_node not in indices:\n",
        "        add_index(new_node)    \n",
        "    visited.add(i)\n",
        "    d,indices=[list(i) for i in list(zip(*sorted(zip(d,indices))[:k]))]  "
      ],
      "execution_count": null,
      "outputs": []
    },
    {
      "cell_type": "code",
      "metadata": {
        "id": "eycl7T3UiEZG"
      },
      "source": [
        "#testing large dataset\n",
        "size=1000\n",
        "x = np.random.randn(size, 2)\n",
        "y = np.random.randn(size, 2)\n",
        "\n",
        "def get_k_argmin(x,y,k=3):\n",
        "  argmin=np.zeros([len(x),k])\n",
        "  for i in range(len(y)):\n",
        "    d=[dist(j,y[i]) for j in x]\n",
        "    argmin[i]=np.argsort(d)[:k]\n",
        "  return np.squeeze(argmin)"
      ],
      "execution_count": null,
      "outputs": []
    },
    {
      "cell_type": "code",
      "metadata": {
        "colab": {
          "base_uri": "https://localhost:8080/"
        },
        "id": "IX_AK2S1iM6N",
        "outputId": "5de2ebf6-0a80-4367-9916-013d318e6933"
      },
      "source": [
        "#test nndescent\n",
        "nndescent=[]\n",
        "start=time.time()\n",
        "g=construct_graph(x,8,init=8,count=3)\n",
        "print('construct NN graph time taken:',time.time()-start)\n",
        "start=time.time()\n",
        "for i in y:\n",
        "  nndescent.append(argmin(x,i,g,3)[0])\n",
        "print('NN descent search time taken',time.time()-start)\n",
        "nndescent=np.squeeze(np.array(nndescent))"
      ],
      "execution_count": null,
      "outputs": [
        {
          "output_type": "stream",
          "text": [
            "construct NN graph time taken: 5.320017099380493\n",
            "NN descent search time taken 0.8994917869567871\n"
          ],
          "name": "stdout"
        }
      ]
    },
    {
      "cell_type": "code",
      "metadata": {
        "colab": {
          "base_uri": "https://localhost:8080/"
        },
        "id": "i2BixxJZiTkg",
        "outputId": "f181e896-cbb6-4e67-ad78-db6a99215be1"
      },
      "source": [
        "#test argmin and argsort\n",
        "npargmin=[]\n",
        "npargsort=[]\n",
        "start=time.time()\n",
        "for j in y:\n",
        "  d=[dist(i,j) for i in x]\n",
        "  npargmin.append(np.argmin(d))\n",
        "\n",
        "print('argmin search time taken',time.time()-start)\n",
        "npargmin=np.array(npargmin) \n",
        "start=time.time()\n",
        "for j in y:\n",
        "  d=[dist(i,j) for i in x]\n",
        "  npargsort.append(np.argsort(d)[0])\n",
        "\n",
        "print('argsort search time taken',time.time()-start)\n",
        "npargsort=np.array(npargsort) "
      ],
      "execution_count": null,
      "outputs": [
        {
          "output_type": "stream",
          "text": [
            "argmin search time taken 6.523342609405518\n",
            "argsort search time taken 6.667661905288696\n"
          ],
          "name": "stdout"
        }
      ]
    },
    {
      "cell_type": "code",
      "metadata": {
        "colab": {
          "base_uri": "https://localhost:8080/"
        },
        "id": "X9-8krxXigLb",
        "outputId": "0e7ecf16-9238-49f5-c65e-137b4de383d5"
      },
      "source": [
        "#calculate percentage of correct predictions\n",
        "print(np.sum(npargmin==nndescent)/len(nndescent))"
      ],
      "execution_count": null,
      "outputs": [
        {
          "output_type": "stream",
          "text": [
            "0.85\n"
          ],
          "name": "stdout"
        }
      ]
    },
    {
      "cell_type": "code",
      "metadata": {
        "id": "KhMpHt3oihsD"
      },
      "source": [
        "#obtain actual top 3 argmin\n",
        "k_argmin=get_k_argmin(x,y,3)"
      ],
      "execution_count": null,
      "outputs": []
    },
    {
      "cell_type": "code",
      "metadata": {
        "colab": {
          "base_uri": "https://localhost:8080/"
        },
        "id": "Xci608BPii4Q",
        "outputId": "e1020812-4689-4b8f-c54f-efa1a5939287"
      },
      "source": [
        "#check if predicted argmin is within actual top 3 argmin\n",
        "print(np.sum([np.sum(k_argmin[:,i]==nndescent) for i in range(3)])/len(nndescent))"
      ],
      "execution_count": null,
      "outputs": [
        {
          "output_type": "stream",
          "text": [
            "0.903\n"
          ],
          "name": "stdout"
        }
      ]
    },
    {
      "cell_type": "code",
      "metadata": {
        "id": "-L8v4P5WFhnu"
      },
      "source": [
        ""
      ],
      "execution_count": null,
      "outputs": []
    }
  ]
}