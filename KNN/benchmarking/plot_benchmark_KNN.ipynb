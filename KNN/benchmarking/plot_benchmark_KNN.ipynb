{
  "nbformat": 4,
  "nbformat_minor": 0,
  "metadata": {
    "kernelspec": {
      "display_name": "Python 3",
      "language": "python",
      "name": "python3"
    },
    "language_info": {
      "codemirror_mode": {
        "name": "ipython",
        "version": 3
      },
      "file_extension": ".py",
      "mimetype": "text/x-python",
      "name": "python",
      "nbconvert_exporter": "python",
      "pygments_lexer": "ipython3",
      "version": "3.7.8"
    },
    "colab": {
      "name": "plot_benchmark_KNN.ipynb",
      "provenance": [],
      "collapsed_sections": []
    },
    "accelerator": "GPU"
  },
  "cells": [
    {
      "cell_type": "code",
      "metadata": {
        "id": "LnGGFL5gu-HB",
        "colab": {
          "base_uri": "https://localhost:8080/"
        },
        "outputId": "d75a3c61-0587-470e-f25f-6ebc618d9cb6"
      },
      "source": [
        "%matplotlib inline\n",
        "!pip install si_prefix\n",
        "!pip install sphinx\n",
        "!pip install pykeops[full] > install.log\n",
        "import pykeops"
      ],
      "execution_count": null,
      "outputs": [
        {
          "output_type": "stream",
          "text": [
            "Collecting si_prefix\n",
            "\u001b[?25l  Downloading https://files.pythonhosted.org/packages/60/bb/22cca3c8a531fc73ceb94c70143ef63684da22a63a4b13cdf3b44ce34178/si-prefix-1.2.2.tar.gz (64kB)\n",
            "\r\u001b[K     |█████                           | 10kB 24.3MB/s eta 0:00:01\r\u001b[K     |██████████                      | 20kB 30.7MB/s eta 0:00:01\r\u001b[K     |███████████████▏                | 30kB 23.3MB/s eta 0:00:01\r\u001b[K     |████████████████████▏           | 40kB 21.0MB/s eta 0:00:01\r\u001b[K     |█████████████████████████▎      | 51kB 23.5MB/s eta 0:00:01\r\u001b[K     |██████████████████████████████▎ | 61kB 22.0MB/s eta 0:00:01\r\u001b[K     |████████████████████████████████| 71kB 8.6MB/s \n",
            "\u001b[?25hBuilding wheels for collected packages: si-prefix\n",
            "  Building wheel for si-prefix (setup.py) ... \u001b[?25l\u001b[?25hdone\n",
            "  Created wheel for si-prefix: filename=si_prefix-1.2.2-cp36-none-any.whl size=5876 sha256=f9ba19e3274b616912ab594a03d23cc5fb58633f643f83c1712ebedec551a408\n",
            "  Stored in directory: /root/.cache/pip/wheels/57/d5/5b/3441f65c8ff1a4a01b196a82d91b8bcf4e1ff5409c9ef09d55\n",
            "Successfully built si-prefix\n",
            "Installing collected packages: si-prefix\n",
            "Successfully installed si-prefix-1.2.2\n",
            "Requirement already satisfied: sphinx in /usr/local/lib/python3.6/dist-packages (1.8.5)\n",
            "Requirement already satisfied: Jinja2>=2.3 in /usr/local/lib/python3.6/dist-packages (from sphinx) (2.11.3)\n",
            "Requirement already satisfied: snowballstemmer>=1.1 in /usr/local/lib/python3.6/dist-packages (from sphinx) (2.1.0)\n",
            "Requirement already satisfied: setuptools in /usr/local/lib/python3.6/dist-packages (from sphinx) (53.0.0)\n",
            "Requirement already satisfied: six>=1.5 in /usr/local/lib/python3.6/dist-packages (from sphinx) (1.15.0)\n",
            "Requirement already satisfied: babel!=2.0,>=1.3 in /usr/local/lib/python3.6/dist-packages (from sphinx) (2.9.0)\n",
            "Requirement already satisfied: docutils>=0.11 in /usr/local/lib/python3.6/dist-packages (from sphinx) (0.16)\n",
            "Requirement already satisfied: Pygments>=2.0 in /usr/local/lib/python3.6/dist-packages (from sphinx) (2.6.1)\n",
            "Requirement already satisfied: imagesize in /usr/local/lib/python3.6/dist-packages (from sphinx) (1.2.0)\n",
            "Requirement already satisfied: sphinxcontrib-websupport in /usr/local/lib/python3.6/dist-packages (from sphinx) (1.2.4)\n",
            "Requirement already satisfied: requests>=2.0.0 in /usr/local/lib/python3.6/dist-packages (from sphinx) (2.23.0)\n",
            "Requirement already satisfied: alabaster<0.8,>=0.7 in /usr/local/lib/python3.6/dist-packages (from sphinx) (0.7.12)\n",
            "Requirement already satisfied: packaging in /usr/local/lib/python3.6/dist-packages (from sphinx) (20.9)\n",
            "Requirement already satisfied: MarkupSafe>=0.23 in /usr/local/lib/python3.6/dist-packages (from Jinja2>=2.3->sphinx) (1.1.1)\n",
            "Requirement already satisfied: pytz>=2015.7 in /usr/local/lib/python3.6/dist-packages (from babel!=2.0,>=1.3->sphinx) (2018.9)\n",
            "Requirement already satisfied: sphinxcontrib-serializinghtml in /usr/local/lib/python3.6/dist-packages (from sphinxcontrib-websupport->sphinx) (1.1.4)\n",
            "Requirement already satisfied: idna<3,>=2.5 in /usr/local/lib/python3.6/dist-packages (from requests>=2.0.0->sphinx) (2.10)\n",
            "Requirement already satisfied: chardet<4,>=3.0.2 in /usr/local/lib/python3.6/dist-packages (from requests>=2.0.0->sphinx) (3.0.4)\n",
            "Requirement already satisfied: certifi>=2017.4.17 in /usr/local/lib/python3.6/dist-packages (from requests>=2.0.0->sphinx) (2020.12.5)\n",
            "Requirement already satisfied: urllib3!=1.25.0,!=1.25.1,<1.26,>=1.21.1 in /usr/local/lib/python3.6/dist-packages (from requests>=2.0.0->sphinx) (1.24.3)\n",
            "Requirement already satisfied: pyparsing>=2.0.2 in /usr/local/lib/python3.6/dist-packages (from packaging->sphinx) (2.4.7)\n",
            "\u001b[31mERROR: breathe 4.27.0 has requirement Sphinx<3.6,>=3.0, but you'll have sphinx 1.8.5 which is incompatible.\u001b[0m\n"
          ],
          "name": "stdout"
        }
      ]
    },
    {
      "cell_type": "markdown",
      "metadata": {
        "id": "4a7cSUpju-HE"
      },
      "source": [
        "\n",
        "# K-Nearest Neighbours search (WIP)\n",
        "\n",
        "Let's compare the performances of PyTorch, JAX, FAISS and KeOps fpr \n",
        "K-NN queries on random samples and standard datasets.\n",
        "\n",
        "<div class=\"alert alert-info\"><h4>Note</h4><p>In this demo, we use exact **bruteforce** computations \n",
        "    (tensorized for PyTorch and online for KeOps), without leveraging any multiscale\n",
        "    or low-rank (Nystroem/multipole) decomposition of the Kernel matrix.\n",
        "    First support for these approximation schemes is scheduled for\n",
        "    May-June 2021.</p></div>\n",
        "\n",
        " \n"
      ]
    },
    {
      "cell_type": "code",
      "metadata": {
        "colab": {
          "base_uri": "https://localhost:8080/"
        },
        "id": "4PHY22IfPelr",
        "outputId": "52eaa56a-dffc-4cdd-9ac6-a9bce040229a"
      },
      "source": [
        "from google.colab import drive\n",
        "drive.mount(\"/content/drive\", force_remount=True)"
      ],
      "execution_count": null,
      "outputs": [
        {
          "output_type": "stream",
          "text": [
            "Mounted at /content/drive\n"
          ],
          "name": "stdout"
        }
      ]
    },
    {
      "cell_type": "code",
      "metadata": {
        "colab": {
          "base_uri": "https://localhost:8080/"
        },
        "id": "xZIUpuFpR-J8",
        "outputId": "5d683f65-3585-472d-b700-cd912d561f39"
      },
      "source": [
        "cd /content/drive/My Drive/keops"
      ],
      "execution_count": null,
      "outputs": [
        {
          "output_type": "stream",
          "text": [
            "/content/drive/My Drive/keops\n"
          ],
          "name": "stdout"
        }
      ]
    },
    {
      "cell_type": "code",
      "metadata": {
        "colab": {
          "base_uri": "https://localhost:8080/"
        },
        "id": "AApYbJSFR6DJ",
        "outputId": "aa92d23a-673e-4236-8f43-6f9fb7c9bc62"
      },
      "source": [
        "!ls /content/drive/My\\ Drive/keops/*.py"
      ],
      "execution_count": null,
      "outputs": [
        {
          "output_type": "stream",
          "text": [
            "'/content/drive/My Drive/keops/benchmark_utils.py'\n",
            "'/content/drive/My Drive/keops/dataset_utils.py'\n",
            "'/content/drive/My Drive/keops/ivf_functional.py'\n"
          ],
          "name": "stdout"
        }
      ]
    },
    {
      "cell_type": "markdown",
      "metadata": {
        "id": "Ehy3eQIFu-HF"
      },
      "source": [
        "## Setup\n",
        "\n"
      ]
    },
    {
      "cell_type": "code",
      "metadata": {
        "id": "zEPoK_WlU889"
      },
      "source": [
        "import sys\n",
        "sys.path.append('/content/drive/My Drive/keops')"
      ],
      "execution_count": null,
      "outputs": []
    },
    {
      "cell_type": "code",
      "metadata": {
        "id": "bB6to_r-u-HF"
      },
      "source": [
        "import numpy as np\n",
        "import torch\n",
        "from matplotlib import pyplot as plt\n",
        "from functools import partial\n",
        "\n",
        "from benchmark_utils import (\n",
        "    flatten,\n",
        "    random_normal,\n",
        "    full_benchmark,\n",
        "    timer,\n",
        "    tensor,\n",
        "    int_tensor,\n",
        "    jax_tensor,\n",
        ")\n",
        "from dataset_utils import generate_samples\n",
        "\n",
        "use_cuda = torch.cuda.is_available()"
      ],
      "execution_count": null,
      "outputs": []
    },
    {
      "cell_type": "markdown",
      "metadata": {
        "id": "NDyKpw99u-HF"
      },
      "source": [
        "Benchmark specifications:\n",
        "\n",
        "\n"
      ]
    },
    {
      "cell_type": "code",
      "metadata": {
        "id": "h_tpkXaZu-HF"
      },
      "source": [
        "# Values of K that we'll loop upon:\n",
        "#Ks = [1, 25, 100]\n",
        "Ks = [1, 2, 5, 10, 20, 50, 100]"
      ],
      "execution_count": null,
      "outputs": []
    },
    {
      "cell_type": "markdown",
      "metadata": {
        "id": "fe8p3bOpu-HG"
      },
      "source": [
        "## Simple bruteforce implementations\n",
        "\n",
        "Define a simple Gaussian RBF product, using a **tensorized** implementation.\n",
        "Note that expanding the squared norm $\\|x-y\\|^2$ as a sum\n",
        "$\\|x\\|^2 - 2 \\langle x, y \\rangle + \\|y\\|^2$ allows us\n",
        "to leverage the fast matrix-matrix product of the BLAS/cuBLAS\n",
        "libraries.\n",
        "\n",
        "\n",
        "PyTorch bruteforce:\n",
        "\n",
        "\n"
      ]
    },
    {
      "cell_type": "code",
      "metadata": {
        "id": "LP_Xyycru-HG"
      },
      "source": [
        "\"\"\"\n",
        "def KNN_KeOps(K, metric=\"euclidean\", **kwargs):\n",
        "    def fit(x_train):\n",
        "        # Setup the K-NN estimator:\n",
        "        x_train = tensor(x_train)\n",
        "        start = timer()\n",
        "\n",
        "        # N.B.: The \"training\" time here should be negligible.\n",
        "        elapsed = timer() - start\n",
        "\n",
        "        def f(x_test):\n",
        "            x_test = tensor(x_test)\n",
        "            start = timer()\n",
        "\n",
        "            # Actual K-NN query:\n",
        "\n",
        "            elapsed = timer() - start\n",
        "\n",
        "            indices = indices.cpu().numpy()\n",
        "            return indices, elapsed\n",
        "\n",
        "        return f, elapsed\n",
        "\n",
        "    return fit\n",
        "\"\"\"\n",
        "\n",
        "\n",
        "def KNN_torch(K, metric=\"euclidean\", **kwargs):\n",
        "    def fit(x_train):\n",
        "        # Setup the K-NN estimator:\n",
        "        x_train = tensor(x_train)\n",
        "        start = timer()\n",
        "        # The \"training\" time here should be negligible:\n",
        "        x_train_norm = (x_train ** 2).sum(-1)\n",
        "        elapsed = timer() - start\n",
        "\n",
        "        def f(x_test):\n",
        "            x_test = tensor(x_test)\n",
        "            start = timer()\n",
        "\n",
        "            # Actual K-NN query:\n",
        "            if metric == \"euclidean\":\n",
        "                x_test_norm = (x_test ** 2).sum(-1)\n",
        "                diss = (\n",
        "                    x_test_norm.view(-1, 1)\n",
        "                    + x_train_norm.view(1, -1)\n",
        "                    - 2 * x_test @ x_train.t()\n",
        "                )\n",
        "\n",
        "            elif metric == \"manhattan\":\n",
        "                diss = (x_test[:, None, :] - x_train[None, :, :]).abs().sum(dim=2)\n",
        "\n",
        "            elif metric == \"angular\":\n",
        "                diss = -x_test @ x_train.t()\n",
        "\n",
        "            elif metric == \"hyperbolic\":\n",
        "                x_test_norm = (x_test ** 2).sum(-1)\n",
        "                diss = (\n",
        "                    x_test_norm.view(-1, 1)\n",
        "                    + x_train_norm.view(1, -1)\n",
        "                    - 2 * x_test @ x_train.t()\n",
        "                )\n",
        "                diss /= x_test[:, 0].view(-1, 1) * x_train[:, 0].view(1, -1)\n",
        "\n",
        "            out = diss.topk(K, dim=1, largest=False)\n",
        "\n",
        "            elapsed = timer() - start\n",
        "            indices = out.indices.cpu().numpy()\n",
        "            return indices, elapsed\n",
        "\n",
        "        return f, elapsed\n",
        "\n",
        "    return fit"
      ],
      "execution_count": null,
      "outputs": []
    },
    {
      "cell_type": "markdown",
      "metadata": {
        "id": "3s8WYh3Wu-HH"
      },
      "source": [
        "PyTorch bruteforce, with small batches to avoid memory overflows:\n",
        "\n"
      ]
    },
    {
      "cell_type": "code",
      "metadata": {
        "id": "SwNQDRJ0u-HH"
      },
      "source": [
        "def KNN_torch_batch_loop(K, metric=\"euclidean\", **kwargs):\n",
        "    def fit(x_train):\n",
        "        # Setup the K-NN estimator:\n",
        "        x_train = tensor(x_train)\n",
        "        Ntrain, D = x_train.shape\n",
        "        start = timer()\n",
        "        # The \"training\" time here should be negligible:\n",
        "        x_train_norm = (x_train ** 2).sum(-1)\n",
        "        elapsed = timer() - start\n",
        "\n",
        "        def f(x_test):\n",
        "            x_test = tensor(x_test)\n",
        "\n",
        "            # Estimate the largest reasonable batch size:\n",
        "            Ntest = x_test.shape[0]\n",
        "            #  torch.cuda.get_device_properties(deviceId).total_memory\n",
        "            av_mem = int(5e8)\n",
        "            Ntest_loop = min(max(1, av_mem // (4 * D * Ntrain)), Ntest)\n",
        "            Nloop = (Ntest - 1) // Ntest_loop + 1\n",
        "            # print(f\"{Ntest} queries, split in {Nloop} batches of {Ntest_loop} queries each.\")\n",
        "            out = int_tensor(Ntest, K)\n",
        "\n",
        "            start = timer()\n",
        "            # Actual K-NN query:\n",
        "            for k in range(Nloop):\n",
        "                x_test_k = x_test[Ntest_loop * k : Ntest_loop * (k + 1), :]\n",
        "                if metric == \"euclidean\":\n",
        "                    x_test_norm = (x_test_k ** 2).sum(-1)\n",
        "                    diss = (\n",
        "                        x_test_norm.view(-1, 1)\n",
        "                        + x_train_norm.view(1, -1)\n",
        "                        - 2 * x_test_k @ x_train.t()\n",
        "                    )\n",
        "\n",
        "                elif metric == \"manhattan\":\n",
        "                    diss = (x_test_k[:, None, :] - x_train[None, :, :]).abs().sum(dim=2)\n",
        "\n",
        "                elif metric == \"angular\":\n",
        "                    diss = -x_test_k @ x_train.t()\n",
        "\n",
        "                elif metric == \"hyperbolic\":\n",
        "                    x_test_norm = (x_test_k ** 2).sum(-1)\n",
        "                    diss = (\n",
        "                        x_test_norm.view(-1, 1)\n",
        "                        + x_train_norm.view(1, -1)\n",
        "                        - 2 * x_test_k @ x_train.t()\n",
        "                    )\n",
        "                    diss /= x_test_k[:, 0].view(-1, 1) * x_train[:, 0].view(1, -1)\n",
        "\n",
        "                out[Ntest_loop * k : Ntest_loop * (k + 1), :] = diss.topk(\n",
        "                    K, dim=1, largest=False\n",
        "                ).indices\n",
        "                del diss\n",
        "            # torch.cuda.empty_cache()\n",
        "\n",
        "            elapsed = timer() - start\n",
        "            indices = out.cpu().numpy()\n",
        "            return indices, elapsed\n",
        "\n",
        "        return f, elapsed\n",
        "\n",
        "    return fit"
      ],
      "execution_count": null,
      "outputs": []
    },
    {
      "cell_type": "markdown",
      "metadata": {
        "id": "AduYd69ou-HH"
      },
      "source": [
        "Distance matrices with JAX:\n",
        "\n"
      ]
    },
    {
      "cell_type": "code",
      "metadata": {
        "id": "WyFtOAXAu-HI"
      },
      "source": [
        "from functools import partial\n",
        "import jax\n",
        "import jax.numpy as jnp\n",
        "\n",
        "\n",
        "@partial(jax.jit, static_argnums=(2, 3))\n",
        "def knn_jax_fun(x_train, x_test, K, metric):\n",
        "    if metric == \"euclidean\":\n",
        "        diss = (\n",
        "            (x_test ** 2).sum(-1)[:, None]\n",
        "            + (x_train ** 2).sum(-1)[None, :]\n",
        "            - 2 * x_test @ x_train.T\n",
        "        )\n",
        "    elif metric == \"manhattan\":\n",
        "        diss = jax.lax.abs(x_test[:, None, :] - x_train[None, :, :]).sum(-1)\n",
        "    elif metric == \"angular\":\n",
        "        diss = -x_test @ x_train.T\n",
        "    elif metric == \"hyperbolic\":\n",
        "        diss = (\n",
        "            (x_test ** 2).sum(-1)[:, None]\n",
        "            + (x_train ** 2).sum(-1)[None, :]\n",
        "            - 2 * x_test @ x_train.T\n",
        "        )\n",
        "        diss = diss / (x_test[:, 0][:, None] * x_train[:, 0][None, :])\n",
        "\n",
        "    indices = jax.lax.top_k(-diss, K)[1]\n",
        "    return indices"
      ],
      "execution_count": null,
      "outputs": []
    },
    {
      "cell_type": "markdown",
      "metadata": {
        "id": "Efxgnou5u-HI"
      },
      "source": [
        "JAX bruteforce:\n",
        "\n"
      ]
    },
    {
      "cell_type": "code",
      "metadata": {
        "id": "2tNs_Wdfu-HI"
      },
      "source": [
        "def KNN_JAX(K, metric=\"euclidean\", **kwargs):\n",
        "    def fit(x_train):\n",
        "\n",
        "        # Setup the K-NN estimator:\n",
        "        start = timer(use_torch=False)\n",
        "        x_train = jax_tensor(x_train)\n",
        "        elapsed = timer(use_torch=False) - start\n",
        "\n",
        "        def f(x_test):\n",
        "            x_test = jax_tensor(x_test)\n",
        "\n",
        "            # Actual K-NN query:\n",
        "            start = timer(use_torch=False)\n",
        "            indices = knn_jax_fun(x_train, x_test, K, metric)\n",
        "            indices = np.array(indices)\n",
        "            elapsed = timer(use_torch=False) - start\n",
        "            return indices, elapsed\n",
        "\n",
        "        return f, elapsed\n",
        "\n",
        "    return fit"
      ],
      "execution_count": null,
      "outputs": []
    },
    {
      "cell_type": "markdown",
      "metadata": {
        "id": "ry-KyfaJu-HI"
      },
      "source": [
        "JAX bruteforce, with small batches to avoid memory overflows:\n",
        "\n"
      ]
    },
    {
      "cell_type": "code",
      "metadata": {
        "id": "cBi31b5Qu-HI"
      },
      "source": [
        "def KNN_JAX_batch_loop(K, metric=\"euclidean\", **kwargs):\n",
        "    def fit(x_train):\n",
        "\n",
        "        # Setup the K-NN estimator:\n",
        "        start = timer(use_torch=False)\n",
        "        x_train = jax_tensor(x_train)\n",
        "        elapsed = timer(use_torch=False) - start\n",
        "\n",
        "        def f(x_test):\n",
        "            x_test = jax_tensor(x_test)\n",
        "\n",
        "            # Estimate the largest reasonable batch size\n",
        "            #  torch.cuda.get_device_properties(deviceId).total_memory\n",
        "            av_mem = int(5e8)\n",
        "            Ntrain, D = x_train.shape\n",
        "            Ntest = x_test.shape[0]\n",
        "            Ntest_loop = min(max(1, av_mem // (4 * D * Ntrain)), Ntest)\n",
        "            Nloop = (Ntest - 1) // Ntest_loop + 1\n",
        "            # print(f\"{Ntest} queries, split in {Nloop} batches of {Ntest_loop} queries each.\")\n",
        "            indices = np.zeros((Ntest, K), dtype=int)\n",
        "\n",
        "            start = timer(use_torch=False)\n",
        "            # Actual K-NN query:\n",
        "            for k in range(Nloop):\n",
        "                x_test_k = x_test[Ntest_loop * k : Ntest_loop * (k + 1), :]\n",
        "                indices[Ntest_loop * k : Ntest_loop * (k + 1), :] = knn_jax_fun(\n",
        "                    x_train, x_test_k, K, metric\n",
        "                )\n",
        "            elapsed = timer(use_torch=False) - start\n",
        "            return indices, elapsed\n",
        "\n",
        "        return f, elapsed\n",
        "\n",
        "    return fit"
      ],
      "execution_count": null,
      "outputs": []
    },
    {
      "cell_type": "markdown",
      "metadata": {
        "id": "zqMWi1rlu-HJ"
      },
      "source": [
        "KeOps bruteforce implementation:\n",
        "\n",
        "\n"
      ]
    },
    {
      "cell_type": "code",
      "metadata": {
        "id": "QI8sv_cnu-HJ"
      },
      "source": [
        "from pykeops.torch import LazyTensor, Vi, Vj\n",
        "\n",
        "\n",
        "def KNN_KeOps(K, metric=\"euclidean\", **kwargs):\n",
        "    def fit(x_train):\n",
        "        # Setup the K-NN estimator:\n",
        "        x_train = tensor(x_train)\n",
        "        start = timer()\n",
        "\n",
        "        # Encoding as KeOps LazyTensors:\n",
        "        D = x_train.shape[1]\n",
        "        X_i = Vi(0, D)\n",
        "        X_j = Vj(1, D)\n",
        "\n",
        "        # Symbolic distance matrix:\n",
        "        if metric == \"euclidean\":\n",
        "            D_ij = ((X_i - X_j) ** 2).sum(-1)\n",
        "        elif metric == \"manhattan\":\n",
        "            D_ij = (X_i - X_j).abs().sum(-1)\n",
        "        elif metric == \"angular\":\n",
        "            D_ij = -(X_i | X_j)\n",
        "        elif metric == \"hyperbolic\":\n",
        "            D_ij = ((X_i - X_j) ** 2).sum(-1) / (X_i[0] * X_j[0])\n",
        "\n",
        "        # K-NN query operator:\n",
        "        KNN_fun = D_ij.argKmin(K, dim=1)\n",
        "\n",
        "        # N.B.: The \"training\" time here should be negligible.\n",
        "        elapsed = timer() - start\n",
        "\n",
        "        def f(x_test):\n",
        "            x_test = tensor(x_test)\n",
        "            start = timer()\n",
        "\n",
        "            # Actual K-NN query:\n",
        "            indices = KNN_fun(x_test, x_train)\n",
        "\n",
        "            elapsed = timer() - start\n",
        "\n",
        "            indices = indices.cpu().numpy()\n",
        "            return indices, elapsed\n",
        "\n",
        "        return f, elapsed\n",
        "\n",
        "    return fit"
      ],
      "execution_count": null,
      "outputs": []
    },
    {
      "cell_type": "code",
      "metadata": {
        "id": "EfSybhzpXV1f"
      },
      "source": [
        "from ivf_functional import ivf\n",
        "def ivf_flat(K,  **kwargs):\n",
        "    \n",
        "    \n",
        "    def fit(x_train):\n",
        "        KNN = ivf(k=K)\n",
        "        x_train = tensor(x_train)\n",
        "        # Setup the K-NN estimator:\n",
        "        start = timer()\n",
        "        KNN.fit(x_train,clusters=100,a=6)\n",
        "\n",
        "        elapsed = timer() - start\n",
        "\n",
        "        def f(x_test):\n",
        "            x_test = tensor(x_test)\n",
        "            start = timer()\n",
        "            indices = KNN.kneighbors(x_test)\n",
        "\n",
        "            elapsed = timer() - start\n",
        "            indices = indices.cpu().numpy()\n",
        "            return indices, elapsed\n",
        "\n",
        "        return f, elapsed\n",
        "\n",
        "    return fit"
      ],
      "execution_count": null,
      "outputs": []
    },
    {
      "cell_type": "markdown",
      "metadata": {
        "id": "e_5LC3WYu-HJ"
      },
      "source": [
        "## SciKit-Learn tree-based and bruteforce methods\n",
        "\n",
        "\n"
      ]
    },
    {
      "cell_type": "code",
      "metadata": {
        "id": "gWWhRDy_u-HJ"
      },
      "source": [
        "from sklearn.neighbors import NearestNeighbors\n",
        "\n",
        "\n",
        "def KNN_sklearn(K, metric=\"euclidean\", algorithm=None, **kwargs):\n",
        "\n",
        "    if metric in [\"euclidean\", \"angular\"]:\n",
        "        p = 2\n",
        "    elif metric == \"manhattan\":\n",
        "        p = 1\n",
        "    else:\n",
        "        raise NotImplementedError(\"This distance is not supported.\")\n",
        "\n",
        "    KNN = NearestNeighbors(n_neighbors=K, algorithm=algorithm, p=p, n_jobs=-1)\n",
        "\n",
        "    def fit(x_train):\n",
        "        # Setup the K-NN estimator:\n",
        "        start = timer()\n",
        "        KNN.fit(x_train)\n",
        "        elapsed = timer() - start\n",
        "\n",
        "        def f(x_test):\n",
        "            start = timer()\n",
        "            distances, indices = KNN.kneighbors(x_test)\n",
        "            elapsed = timer() - start\n",
        "\n",
        "            return indices, elapsed\n",
        "\n",
        "        return f, elapsed\n",
        "\n",
        "    return fit\n",
        "\n",
        "\n",
        "KNN_sklearn_auto = partial(KNN_sklearn, algorithm=\"auto\")\n",
        "KNN_sklearn_ball_tree = partial(KNN_sklearn, algorithm=\"ball_tree\")\n",
        "KNN_sklearn_kd_tree = partial(KNN_sklearn, algorithm=\"kd_tree\")\n",
        "KNN_sklearn_brute = partial(KNN_sklearn, algorithm=\"brute\")"
      ],
      "execution_count": null,
      "outputs": []
    },
    {
      "cell_type": "markdown",
      "metadata": {
        "id": "rtbM6gcOu-HK"
      },
      "source": [
        "## NumPy vs. PyTorch vs. KeOps (Gpu)\n",
        "\n"
      ]
    },
    {
      "cell_type": "code",
      "metadata": {
        "id": "k8aKGYQHu-HK"
      },
      "source": [
        "def run_KNN_benchmark(name=None,**kwargs):\n",
        "\n",
        "    # Load the dataset and some info:\n",
        "    dataset = generate_samples(key=name,**kwargs)(1)\n",
        "    N_train, dimension = dataset[\"train\"].shape\n",
        "    N_test, _ = dataset[\"test\"].shape\n",
        "    metric = dataset[\"metric\"]\n",
        "\n",
        "    # Routines to benchmark:\n",
        "    routines = [\n",
        "        (ivf_flat, \"IVF-Flat Keops (GPU)\", {}),        \n",
        "        (KNN_sklearn_auto, \"sklearn, auto (CPU)\", {}),\n",
        "        (KNN_sklearn_ball_tree, \"sklearn, Ball-tree (CPU)\", {}),\n",
        "        (KNN_sklearn_kd_tree, \"sklearn, KD-tree (CPU)\", {}),\n",
        "        (KNN_sklearn_brute, \"sklearn, bruteforce (CPU)\", {}),\n",
        "        (KNN_torch_batch_loop, \"PyTorch (small batches, GPU)\", {}),\n",
        "        (KNN_KeOps, \"KeOps (GPU)\", {}),\n",
        "    ]\n",
        "\n",
        "    # Actual run:\n",
        "    full_benchmark(\n",
        "        f\"K-NN search on: {N_test:,} queries on a dataset of {N_train:,} points\\nin dimension {dimension:,} with a {metric} metric.\",\n",
        "        routines,\n",
        "        generate_samples(key=name,**kwargs),\n",
        "        min_time=1e-4,\n",
        "        max_time=60,\n",
        "        problem_sizes=Ks,\n",
        "        xlabel=\"Number of neighbours K\",\n",
        "    )"
      ],
      "execution_count": null,
      "outputs": []
    },
    {
      "cell_type": "markdown",
      "metadata": {
        "id": "35Qf2xcPu-HK"
      },
      "source": [
        "## On random samples:\n",
        "\n",
        "Small dataset in $\\mathbb{R}^3$:\n",
        "\n"
      ]
    },
    {
      "cell_type": "code",
      "metadata": {
        "colab": {
          "base_uri": "https://localhost:8080/",
          "height": 1000
        },
        "id": "CmvWEGqWa0V2",
        "outputId": "1b6db02f-c61f-4bc6-c9a4-dc75adaccd1e"
      },
      "source": [
        "run_KNN_benchmark(metric='euclidean',ntrain=10**5,ntest=10**5,d=2)"
      ],
      "execution_count": null,
      "outputs": [
        {
          "output_type": "stream",
          "text": [
            "Benchmarking : K-NN search on: 100,000 queries on a dataset of 100,000 points\n",
            "in dimension 2 with a euclidean metric. ===============================\n",
            "IVF-Flat Keops (GPU) -------------\n",
            "  1x100 loops of size    1 : train =   1x100x  13.2 ms, test  =   1x100x   4.5 ms, recall =  89%\n",
            "  1x 10 loops of size    2 : train =   1x 10x  13.0 ms, test  =   1x 10x   5.2 ms, recall =  89%\n",
            "  1x 10 loops of size    5 : train =   1x 10x  14.7 ms, test  =   1x 10x   6.3 ms, recall =  89%\n",
            "  1x 10 loops of size   10 : train =   1x 10x  15.0 ms, test  =   1x 10x   7.9 ms, recall =  89%\n",
            "  1x 10 loops of size   20 : train =   1x 10x  14.2 ms, test  =   1x 10x  10.3 ms, recall =  89%\n",
            "  1x 10 loops of size   50 : train =   1x 10x  13.3 ms, test  =   1x 10x  25.9 ms, recall =  89%\n",
            "  1x  1 loops of size  100 : train =   1x  1x  13.0 ms, test  =   1x  1x    1.9 s, recall =  88%\n",
            "sklearn, auto (CPU) -------------\n",
            "  1x100 loops of size    1 : train =   1x100x  46.3 ms, test  =   1x100x 203.9 ms, recall = 100%\n",
            "  1x 10 loops of size    2 : train =   1x 10x  46.7 ms, test  =   1x 10x 202.3 ms, recall = 100%\n",
            "  1x  1 loops of size    5 : train =   1x  1x  46.2 ms, test  =   1x  1x 303.8 ms, recall = 100%\n",
            "  1x  1 loops of size   10 : train =   1x  1x  46.0 ms, test  =   1x  1x 305.9 ms, recall = 100%\n",
            "  1x  1 loops of size   20 : train =   1x  1x  46.7 ms, test  =   1x  1x 512.7 ms, recall = 100%\n",
            "  1x  1 loops of size   50 : train =   1x  1x  48.8 ms, test  =   1x  1x 930.4 ms, recall = 100%\n",
            "  1x  1 loops of size  100 : train =   1x  1x  45.4 ms, test  =   1x  1x    1.6 s, recall = 100%\n",
            "sklearn, Ball-tree (CPU) -------------\n",
            "  1x100 loops of size    1 : train =   1x100x  42.5 ms, test  =   1x100x    2.0 s, recall = 100%\n",
            "  1x 10 loops of size    2 : train =   1x 10x  41.8 ms, test  =   1x 10x    2.2 s, recall = 100%\n",
            "  1x  1 loops of size    5 : train =   1x  1x  42.4 ms, test  =   1x  1x    2.6 s, recall = 100%\n",
            "  1x  1 loops of size   10 : train =   1x  1x  47.8 ms, test  =   1x  1x    3.0 s, recall = 100%\n",
            "  1x  1 loops of size   20 : train =   1x  1x  42.1 ms, test  =   1x  1x    4.0 s, recall = 100%\n",
            "  1x  1 loops of size   50 : train =   1x  1x  42.1 ms, test  =   1x  1x    6.3 s, recall = 100%\n",
            "  1x  1 loops of size  100 : train =   1x  1x  44.7 ms, test  =   1x  1x   10.1 s, recall = 100%\n",
            "sklearn, KD-tree (CPU) -------------\n",
            "  1x100 loops of size    1 : train =   1x100x  46.9 ms, test  =   1x100x 202.2 ms, recall = 100%\n",
            "  1x 10 loops of size    2 : train =   1x 10x  47.3 ms, test  =   1x 10x 212.5 ms, recall = 100%\n",
            "  1x  1 loops of size    5 : train =   1x  1x  46.9 ms, test  =   1x  1x 304.2 ms, recall = 100%\n",
            "  1x  1 loops of size   10 : train =   1x  1x  46.8 ms, test  =   1x  1x 408.1 ms, recall = 100%\n",
            "  1x  1 loops of size   20 : train =   1x  1x  48.0 ms, test  =   1x  1x 525.6 ms, recall = 100%\n",
            "  1x  1 loops of size   50 : train =   1x  1x  47.3 ms, test  =   1x  1x 937.7 ms, recall = 100%\n",
            "  1x  1 loops of size  100 : train =   1x  1x  51.0 ms, test  =   1x  1x    1.6 s, recall = 100%\n",
            "sklearn, bruteforce (CPU) -------------\n",
            "** Too slow!\n",
            "PyTorch (small batches, GPU) -------------\n",
            "  1x100 loops of size    1 : train =   1x100x 198.7 µs, test  =   1x100x    2.5 s, recall = 100%\n",
            "  1x 10 loops of size    2 : train =   1x 10x 603.4 µs, test  =   1x 10x    2.8 s, recall = 100%\n",
            "  1x  1 loops of size    5 : train =   1x  1x   1.2 ms, test  =   1x  1x    3.0 s, recall = 100%\n",
            "  1x  1 loops of size   10 : train =   1x  1x   1.2 ms, test  =   1x  1x    3.1 s, recall = 100%\n",
            "  1x  1 loops of size   20 : train =   1x  1x   1.1 ms, test  =   1x  1x    3.2 s, recall = 100%\n",
            "  1x  1 loops of size   50 : train =   1x  1x   1.1 ms, test  =   1x  1x    3.4 s, recall = 100%\n",
            "  1x  1 loops of size  100 : train =   1x  1x   1.1 ms, test  =   1x  1x    3.5 s, recall = 100%\n",
            "KeOps (GPU) -------------\n",
            "  1x100 loops of size    1 : train =   1x100x  52.8 µs, test  =   1x100x  24.7 ms, recall = 100%\n",
            "  1x 10 loops of size    2 : train =   1x 10x  63.0 µs, test  =   1x 10x  30.0 ms, recall = 100%\n",
            "  1x  1 loops of size    5 : train =   1x  1x  78.1 µs, test  =   1x  1x  35.3 ms, recall = 100%\n",
            "  1x  1 loops of size   10 : train =   1x  1x  94.0 µs, test  =   1x  1x  74.3 ms, recall = 100%\n",
            "  1x  1 loops of size   20 : train =   1x  1x  83.8 µs, test  =   1x  1x  78.9 ms, recall = 100%\n",
            "  1x  1 loops of size   50 : train =   1x  1x 100.2 µs, test  =   1x  1x  99.9 ms, recall = 100%\n",
            "  1x  1 loops of size  100 : train =   1x  1x 136.1 µs, test  =   1x  1x    9.1 s, recall = 100%\n"
          ],
          "name": "stdout"
        },
        {
          "output_type": "error",
          "ename": "OSError",
          "evalue": "ignored",
          "traceback": [
            "\u001b[0;31m---------------------------------------------------------------------------\u001b[0m",
            "\u001b[0;31mOSError\u001b[0m                                   Traceback (most recent call last)",
            "\u001b[0;32m<ipython-input-23-f9ffafcc8ad7>\u001b[0m in \u001b[0;36m<module>\u001b[0;34m()\u001b[0m\n\u001b[0;32m----> 1\u001b[0;31m \u001b[0mrun_KNN_benchmark\u001b[0m\u001b[0;34m(\u001b[0m\u001b[0mmetric\u001b[0m\u001b[0;34m=\u001b[0m\u001b[0;34m'euclidean'\u001b[0m\u001b[0;34m,\u001b[0m\u001b[0mntrain\u001b[0m\u001b[0;34m=\u001b[0m\u001b[0;36m10\u001b[0m\u001b[0;34m**\u001b[0m\u001b[0;36m5\u001b[0m\u001b[0;34m,\u001b[0m\u001b[0mntest\u001b[0m\u001b[0;34m=\u001b[0m\u001b[0;36m10\u001b[0m\u001b[0;34m**\u001b[0m\u001b[0;36m5\u001b[0m\u001b[0;34m,\u001b[0m\u001b[0md\u001b[0m\u001b[0;34m=\u001b[0m\u001b[0;36m2\u001b[0m\u001b[0;34m)\u001b[0m\u001b[0;34m\u001b[0m\u001b[0;34m\u001b[0m\u001b[0m\n\u001b[0m",
            "\u001b[0;32m<ipython-input-22-cda497acc7ee>\u001b[0m in \u001b[0;36mrun_KNN_benchmark\u001b[0;34m(name, **kwargs)\u001b[0m\n\u001b[1;32m     26\u001b[0m         \u001b[0mmax_time\u001b[0m\u001b[0;34m=\u001b[0m\u001b[0;36m60\u001b[0m\u001b[0;34m,\u001b[0m\u001b[0;34m\u001b[0m\u001b[0;34m\u001b[0m\u001b[0m\n\u001b[1;32m     27\u001b[0m         \u001b[0mproblem_sizes\u001b[0m\u001b[0;34m=\u001b[0m\u001b[0mKs\u001b[0m\u001b[0;34m,\u001b[0m\u001b[0;34m\u001b[0m\u001b[0;34m\u001b[0m\u001b[0m\n\u001b[0;32m---> 28\u001b[0;31m         \u001b[0mxlabel\u001b[0m\u001b[0;34m=\u001b[0m\u001b[0;34m\"Number of neighbours K\"\u001b[0m\u001b[0;34m,\u001b[0m\u001b[0;34m\u001b[0m\u001b[0;34m\u001b[0m\u001b[0m\n\u001b[0m\u001b[1;32m     29\u001b[0m     )\n",
            "\u001b[0;32m/content/drive/My Drive/keops/benchmark_utils.py\u001b[0m in \u001b[0;36mfull_benchmark\u001b[0;34m(to_plot, routines, generate_samples, problem_sizes, min_time, max_time, red_time, loops, xlabel, ylabel, frequency, legend_location, linestyles)\u001b[0m\n\u001b[1;32m    489\u001b[0m         \u001b[0mheader\u001b[0m\u001b[0;34m=\u001b[0m\u001b[0mheader\u001b[0m\u001b[0;34m,\u001b[0m\u001b[0;34m\u001b[0m\u001b[0;34m\u001b[0m\u001b[0m\n\u001b[1;32m    490\u001b[0m         \u001b[0mcomments\u001b[0m\u001b[0;34m=\u001b[0m\u001b[0;34m\"\"\u001b[0m\u001b[0;34m,\u001b[0m\u001b[0;34m\u001b[0m\u001b[0;34m\u001b[0m\u001b[0m\n\u001b[0;32m--> 491\u001b[0;31m         \u001b[0mdelimiter\u001b[0m\u001b[0;34m=\u001b[0m\u001b[0;34m\",\"\u001b[0m\u001b[0;34m,\u001b[0m\u001b[0;34m\u001b[0m\u001b[0;34m\u001b[0m\u001b[0m\n\u001b[0m\u001b[1;32m    492\u001b[0m     )\n",
            "\u001b[0;32m<__array_function__ internals>\u001b[0m in \u001b[0;36msavetxt\u001b[0;34m(*args, **kwargs)\u001b[0m\n",
            "\u001b[0;32m/usr/local/lib/python3.6/dist-packages/numpy/lib/npyio.py\u001b[0m in \u001b[0;36msavetxt\u001b[0;34m(fname, X, fmt, delimiter, newline, header, footer, comments, encoding)\u001b[0m\n\u001b[1;32m   1355\u001b[0m     \u001b[0;32mif\u001b[0m \u001b[0m_is_string_like\u001b[0m\u001b[0;34m(\u001b[0m\u001b[0mfname\u001b[0m\u001b[0;34m)\u001b[0m\u001b[0;34m:\u001b[0m\u001b[0;34m\u001b[0m\u001b[0;34m\u001b[0m\u001b[0m\n\u001b[1;32m   1356\u001b[0m         \u001b[0;31m# datasource doesn't support creating a new file ...\u001b[0m\u001b[0;34m\u001b[0m\u001b[0;34m\u001b[0m\u001b[0;34m\u001b[0m\u001b[0m\n\u001b[0;32m-> 1357\u001b[0;31m         \u001b[0mopen\u001b[0m\u001b[0;34m(\u001b[0m\u001b[0mfname\u001b[0m\u001b[0;34m,\u001b[0m \u001b[0;34m'wt'\u001b[0m\u001b[0;34m)\u001b[0m\u001b[0;34m.\u001b[0m\u001b[0mclose\u001b[0m\u001b[0;34m(\u001b[0m\u001b[0;34m)\u001b[0m\u001b[0;34m\u001b[0m\u001b[0;34m\u001b[0m\u001b[0m\n\u001b[0m\u001b[1;32m   1358\u001b[0m         \u001b[0mfh\u001b[0m \u001b[0;34m=\u001b[0m \u001b[0mnp\u001b[0m\u001b[0;34m.\u001b[0m\u001b[0mlib\u001b[0m\u001b[0;34m.\u001b[0m\u001b[0m_datasource\u001b[0m\u001b[0;34m.\u001b[0m\u001b[0mopen\u001b[0m\u001b[0;34m(\u001b[0m\u001b[0mfname\u001b[0m\u001b[0;34m,\u001b[0m \u001b[0;34m'wt'\u001b[0m\u001b[0;34m,\u001b[0m \u001b[0mencoding\u001b[0m\u001b[0;34m=\u001b[0m\u001b[0mencoding\u001b[0m\u001b[0;34m)\u001b[0m\u001b[0;34m\u001b[0m\u001b[0;34m\u001b[0m\u001b[0m\n\u001b[1;32m   1359\u001b[0m         \u001b[0mown_fh\u001b[0m \u001b[0;34m=\u001b[0m \u001b[0;32mTrue\u001b[0m\u001b[0;34m\u001b[0m\u001b[0;34m\u001b[0m\u001b[0m\n",
            "\u001b[0;31mOSError\u001b[0m: [Errno 22] Invalid argument: 'output/K-NN search on: 100,000 queries on a dataset of 100,000 points\\nin dimension 2 with a euclidean metric..csv'"
          ]
        },
        {
          "output_type": "display_data",
          "data": {
            "image/png": "[encoded data removed]",
            "text/plain": [
              "<Figure size 864x576 with 1 Axes>"
            ]
          },
          "metadata": {
            "tags": [],
            "needs_background": "light"
          }
        }
      ]
    },
    {
      "cell_type": "code",
      "metadata": {
        "colab": {
          "base_uri": "https://localhost:8080/",
          "height": 1000
        },
        "id": "HIJ_D5Y1Tjqn",
        "outputId": "b3bf2d6c-cf61-4970-c216-06923a5555e2"
      },
      "source": [
        "run_KNN_benchmark(metric='euclidean',ntrain=10**5,ntest=10**5,d=2)"
      ],
      "execution_count": null,
      "outputs": [
        {
          "output_type": "stream",
          "text": [
            "Compiling libKeOpstorch522a65742d in /root/.cache/pykeops-1.4.2-cpython-36:\n",
            "       formula: ArgKMin_Reduction(Sum(Square((Var(0,2,0) - Var(1,2,1)))),1,0)\n",
            "       aliases: Var(0,2,0); Var(1,2,1); \n",
            "       dtype  : float32\n",
            "... Done.\n",
            "Benchmarking : K-NN search on: 100,000 queries on a dataset of 100,000 points\n",
            "in dimension 2 with a euclidean metric. ===============================\n",
            "IVF-Flat Keops (GPU) -------------\n",
            "Compiling libKeOpstorch5fba8c75d5 in /root/.cache/pykeops-1.4.2-cpython-36:\n",
            "       formula: ArgMin_Reduction(Sum(Square((Var(0,2,0) - Var(1,2,1)))),0)\n",
            "       aliases: Var(0,2,0); Var(1,2,1); \n",
            "       dtype  : float32\n",
            "... Done.\n",
            "Compiling libKeOpstorch52de9bd20c in /root/.cache/pykeops-1.4.2-cpython-36:\n",
            "       formula: ArgKMin_Reduction(Sum(Square((Var(0,2,0) - Var(1,2,1)))),5,0)\n",
            "       aliases: Var(0,2,0); Var(1,2,1); \n",
            "       dtype  : float32\n",
            "... Done.\n",
            "  1x100 loops of size    1 : train =   1x100x  17.8 ms, test  =   1x100x   4.8 ms, recall =  89%\n",
            "Compiling libKeOpstorch6178f28b49 in /root/.cache/pykeops-1.4.2-cpython-36:\n",
            "       formula: ArgKMin_Reduction(Sum(Square((Var(0,2,0) - Var(1,2,1)))),2,0)\n",
            "       aliases: Var(0,2,0); Var(1,2,1); \n",
            "       dtype  : float32\n",
            "... Done.\n",
            "  1x 10 loops of size    2 : train =   1x 10x  19.7 ms, test  =   1x 10x   6.8 ms, recall =  89%\n",
            "  1x 10 loops of size    5 : train =   1x 10x  18.2 ms, test  =   1x 10x   5.9 ms, recall =  88%\n",
            "Compiling libKeOpstorchb73ef06255 in /root/.cache/pykeops-1.4.2-cpython-36:\n",
            "       formula: ArgKMin_Reduction(Sum(Square((Var(0,2,0) - Var(1,2,1)))),10,0)\n",
            "       aliases: Var(0,2,0); Var(1,2,1); \n",
            "       dtype  : float32\n",
            "... Done.\n",
            "  1x 10 loops of size   10 : train =   1x 10x  19.1 ms, test  =   1x 10x   7.4 ms, recall =  88%\n",
            "Compiling libKeOpstorchd700e02d26 in /root/.cache/pykeops-1.4.2-cpython-36:\n",
            "       formula: ArgKMin_Reduction(Sum(Square((Var(0,2,0) - Var(1,2,1)))),20,0)\n",
            "       aliases: Var(0,2,0); Var(1,2,1); \n",
            "       dtype  : float32\n",
            "... Done.\n",
            "  1x 10 loops of size   20 : train =   1x 10x  19.1 ms, test  =   1x 10x   9.5 ms, recall =  88%\n",
            "Compiling libKeOpstorch9fdf2680cc in /root/.cache/pykeops-1.4.2-cpython-36:\n",
            "       formula: ArgKMin_Reduction(Sum(Square((Var(0,2,0) - Var(1,2,1)))),50,0)\n",
            "       aliases: Var(0,2,0); Var(1,2,1); \n",
            "       dtype  : float32\n",
            "... Done.\n",
            "  1x 10 loops of size   50 : train =   1x 10x  16.9 ms, test  =   1x 10x  25.0 ms, recall =  87%\n",
            "Compiling libKeOpstorchf0c3ae8573 in /root/.cache/pykeops-1.4.2-cpython-36:\n",
            "       formula: ArgKMin_Reduction(Sum(Square((Var(0,2,0) - Var(1,2,1)))),100,0)\n",
            "       aliases: Var(0,2,0); Var(1,2,1); \n",
            "       dtype  : float32\n",
            "... Done.\n",
            "  1x  1 loops of size  100 : train =   1x  1x  17.6 ms, test  =   1x  1x    1.8 s, recall =  87%\n",
            "sklearn, auto (CPU) -------------\n",
            "  1x100 loops of size    1 : train =   1x100x  47.7 ms, test  =   1x100x 203.1 ms, recall = 100%\n",
            "  1x 10 loops of size    2 : train =   1x 10x  47.1 ms, test  =   1x 10x 203.0 ms, recall = 100%\n",
            "  1x  1 loops of size    5 : train =   1x  1x  48.3 ms, test  =   1x  1x 304.3 ms, recall = 100%\n",
            "  1x  1 loops of size   10 : train =   1x  1x  48.2 ms, test  =   1x  1x 306.0 ms, recall = 100%\n",
            "  1x  1 loops of size   20 : train =   1x  1x  48.2 ms, test  =   1x  1x 522.2 ms, recall = 100%\n",
            "  1x  1 loops of size   50 : train =   1x  1x  54.7 ms, test  =   1x  1x 997.6 ms, recall = 100%\n",
            "  1x  1 loops of size  100 : train =   1x  1x  48.6 ms, test  =   1x  1x    1.6 s, recall = 100%\n",
            "sklearn, Ball-tree (CPU) -------------\n",
            "  1x100 loops of size    1 : train =   1x100x  43.6 ms, test  =   1x100x    2.2 s, recall = 100%\n",
            "  1x 10 loops of size    2 : train =   1x 10x  43.6 ms, test  =   1x 10x    2.3 s, recall = 100%\n",
            "  1x  1 loops of size    5 : train =   1x  1x  42.9 ms, test  =   1x  1x    2.8 s, recall = 100%\n",
            "  1x  1 loops of size   10 : train =   1x  1x  43.8 ms, test  =   1x  1x    3.3 s, recall = 100%\n",
            "  1x  1 loops of size   20 : train =   1x  1x  44.0 ms, test  =   1x  1x    4.3 s, recall = 100%\n",
            "  1x  1 loops of size   50 : train =   1x  1x  45.9 ms, test  =   1x  1x    6.6 s, recall = 100%\n",
            "  1x  1 loops of size  100 : train =   1x  1x  44.7 ms, test  =   1x  1x   10.8 s, recall = 100%\n",
            "sklearn, KD-tree (CPU) -------------\n",
            "  1x100 loops of size    1 : train =   1x100x  48.8 ms, test  =   1x100x 203.2 ms, recall = 100%\n",
            "  1x 10 loops of size    2 : train =   1x 10x  49.6 ms, test  =   1x 10x 203.0 ms, recall = 100%\n",
            "  1x  1 loops of size    5 : train =   1x  1x  55.1 ms, test  =   1x  1x 304.9 ms, recall = 100%\n",
            "  1x  1 loops of size   10 : train =   1x  1x  48.2 ms, test  =   1x  1x 412.8 ms, recall = 100%\n",
            "  1x  1 loops of size   20 : train =   1x  1x  48.2 ms, test  =   1x  1x 550.9 ms, recall = 100%\n",
            "  1x  1 loops of size   50 : train =   1x  1x  48.7 ms, test  =   1x  1x 899.7 ms, recall = 100%\n",
            "  1x  1 loops of size  100 : train =   1x  1x  50.4 ms, test  =   1x  1x    1.7 s, recall = 100%\n",
            "PyTorch (small batches, GPU) -------------\n",
            "  1x100 loops of size    1 : train =   1x100x 114.2 µs, test  =   1x100x    2.5 s, recall = 100%\n",
            "  1x 10 loops of size    2 : train =   1x 10x 603.9 µs, test  =   1x 10x    2.8 s, recall = 100%\n",
            "  1x  1 loops of size    5 : train =   1x  1x   1.2 ms, test  =   1x  1x    2.9 s, recall = 100%\n",
            "  1x  1 loops of size   10 : train =   1x  1x   1.2 ms, test  =   1x  1x    3.1 s, recall = 100%\n",
            "  1x  1 loops of size   20 : train =   1x  1x   1.2 ms, test  =   1x  1x    3.2 s, recall = 100%\n",
            "  1x  1 loops of size   50 : train =   1x  1x   1.2 ms, test  =   1x  1x    3.4 s, recall = 100%\n",
            "  1x  1 loops of size  100 : train =   1x  1x   1.2 ms, test  =   1x  1x    3.5 s, recall = 100%\n",
            "JAX (small batches, GPU) -------------\n"
          ],
          "name": "stdout"
        },
        {
          "output_type": "error",
          "ename": "KeyboardInterrupt",
          "evalue": "ignored",
          "traceback": [
            "\u001b[0;31m---------------------------------------------------------------------------\u001b[0m",
            "\u001b[0;31mKeyboardInterrupt\u001b[0m                         Traceback (most recent call last)",
            "\u001b[0;32m<ipython-input-19-f9ffafcc8ad7>\u001b[0m in \u001b[0;36m<module>\u001b[0;34m()\u001b[0m\n\u001b[0;32m----> 1\u001b[0;31m \u001b[0mrun_KNN_benchmark\u001b[0m\u001b[0;34m(\u001b[0m\u001b[0mmetric\u001b[0m\u001b[0;34m=\u001b[0m\u001b[0;34m'euclidean'\u001b[0m\u001b[0;34m,\u001b[0m\u001b[0mntrain\u001b[0m\u001b[0;34m=\u001b[0m\u001b[0;36m10\u001b[0m\u001b[0;34m**\u001b[0m\u001b[0;36m5\u001b[0m\u001b[0;34m,\u001b[0m\u001b[0mntest\u001b[0m\u001b[0;34m=\u001b[0m\u001b[0;36m10\u001b[0m\u001b[0;34m**\u001b[0m\u001b[0;36m5\u001b[0m\u001b[0;34m,\u001b[0m\u001b[0md\u001b[0m\u001b[0;34m=\u001b[0m\u001b[0;36m2\u001b[0m\u001b[0;34m)\u001b[0m\u001b[0;34m\u001b[0m\u001b[0;34m\u001b[0m\u001b[0m\n\u001b[0m",
            "\u001b[0;32m<ipython-input-18-790250fb3f85>\u001b[0m in \u001b[0;36mrun_KNN_benchmark\u001b[0;34m(name, **kwargs)\u001b[0m\n\u001b[1;32m     30\u001b[0m         \u001b[0mmax_time\u001b[0m\u001b[0;34m=\u001b[0m\u001b[0;36m60\u001b[0m\u001b[0;34m,\u001b[0m\u001b[0;34m\u001b[0m\u001b[0;34m\u001b[0m\u001b[0m\n\u001b[1;32m     31\u001b[0m         \u001b[0mproblem_sizes\u001b[0m\u001b[0;34m=\u001b[0m\u001b[0mKs\u001b[0m\u001b[0;34m,\u001b[0m\u001b[0;34m\u001b[0m\u001b[0;34m\u001b[0m\u001b[0m\n\u001b[0;32m---> 32\u001b[0;31m         \u001b[0mxlabel\u001b[0m\u001b[0;34m=\u001b[0m\u001b[0;34m\"Number of neighbours K\"\u001b[0m\u001b[0;34m,\u001b[0m\u001b[0;34m\u001b[0m\u001b[0;34m\u001b[0m\u001b[0m\n\u001b[0m\u001b[1;32m     33\u001b[0m     )\n",
            "\u001b[0;32m/content/drive/My Drive/keops/benchmark_utils.py\u001b[0m in \u001b[0;36mfull_benchmark\u001b[0;34m(to_plot, routines, generate_samples, problem_sizes, min_time, max_time, red_time, loops, xlabel, ylabel, frequency, legend_location, linestyles)\u001b[0m\n\u001b[1;32m    416\u001b[0m             \u001b[0mloops\u001b[0m\u001b[0;34m=\u001b[0m\u001b[0mloops\u001b[0m\u001b[0;34m,\u001b[0m\u001b[0;34m\u001b[0m\u001b[0;34m\u001b[0m\u001b[0m\n\u001b[1;32m    417\u001b[0m         )\n\u001b[0;32m--> 418\u001b[0;31m         \u001b[0;32mfor\u001b[0m \u001b[0mroutine\u001b[0m \u001b[0;32min\u001b[0m \u001b[0mroutines\u001b[0m\u001b[0;34m\u001b[0m\u001b[0;34m\u001b[0m\u001b[0m\n\u001b[0m\u001b[1;32m    419\u001b[0m     ]\n\u001b[1;32m    420\u001b[0m     \u001b[0mbenches\u001b[0m \u001b[0;34m=\u001b[0m \u001b[0mnp\u001b[0m\u001b[0;34m.\u001b[0m\u001b[0marray\u001b[0m\u001b[0;34m(\u001b[0m\u001b[0mlines\u001b[0m\u001b[0;34m)\u001b[0m\u001b[0;34m.\u001b[0m\u001b[0mT\u001b[0m\u001b[0;34m\u001b[0m\u001b[0;34m\u001b[0m\u001b[0m\n",
            "\u001b[0;32m/content/drive/My Drive/keops/benchmark_utils.py\u001b[0m in \u001b[0;36m<listcomp>\u001b[0;34m(.0)\u001b[0m\n\u001b[1;32m    416\u001b[0m             \u001b[0mloops\u001b[0m\u001b[0;34m=\u001b[0m\u001b[0mloops\u001b[0m\u001b[0;34m,\u001b[0m\u001b[0;34m\u001b[0m\u001b[0;34m\u001b[0m\u001b[0m\n\u001b[1;32m    417\u001b[0m         )\n\u001b[0;32m--> 418\u001b[0;31m         \u001b[0;32mfor\u001b[0m \u001b[0mroutine\u001b[0m \u001b[0;32min\u001b[0m \u001b[0mroutines\u001b[0m\u001b[0;34m\u001b[0m\u001b[0;34m\u001b[0m\u001b[0m\n\u001b[0m\u001b[1;32m    419\u001b[0m     ]\n\u001b[1;32m    420\u001b[0m     \u001b[0mbenches\u001b[0m \u001b[0;34m=\u001b[0m \u001b[0mnp\u001b[0m\u001b[0;34m.\u001b[0m\u001b[0marray\u001b[0m\u001b[0;34m(\u001b[0m\u001b[0mlines\u001b[0m\u001b[0;34m)\u001b[0m\u001b[0;34m.\u001b[0m\u001b[0mT\u001b[0m\u001b[0;34m\u001b[0m\u001b[0;34m\u001b[0m\u001b[0m\n",
            "\u001b[0;32m/content/drive/My Drive/keops/benchmark_utils.py\u001b[0m in \u001b[0;36mbench_config\u001b[0;34m(routine, label, kwargs, generate_samples, problem_sizes, max_time, red_time, loops)\u001b[0m\n\u001b[1;32m    327\u001b[0m                 \u001b[0mloops\u001b[0m\u001b[0;34m=\u001b[0m\u001b[0mnloops\u001b[0m\u001b[0;34m,\u001b[0m\u001b[0;34m\u001b[0m\u001b[0;34m\u001b[0m\u001b[0m\n\u001b[1;32m    328\u001b[0m                 \u001b[0mgenerate_samples\u001b[0m\u001b[0;34m=\u001b[0m\u001b[0mgenerate_samples\u001b[0m\u001b[0;34m,\u001b[0m\u001b[0;34m\u001b[0m\u001b[0;34m\u001b[0m\u001b[0m\n\u001b[0;32m--> 329\u001b[0;31m                 \u001b[0;34m**\u001b[0m\u001b[0mkwargs\u001b[0m\u001b[0;34m,\u001b[0m\u001b[0;34m\u001b[0m\u001b[0;34m\u001b[0m\u001b[0m\n\u001b[0m\u001b[1;32m    330\u001b[0m             )\n\u001b[1;32m    331\u001b[0m \u001b[0;34m\u001b[0m\u001b[0m\n",
            "\u001b[0;32m/content/drive/My Drive/keops/benchmark_utils.py\u001b[0m in \u001b[0;36mbenchmark\u001b[0;34m(routine, label, N, max_time, loops, generate_samples, **kwargs)\u001b[0m\n\u001b[1;32m    291\u001b[0m \u001b[0;34m\u001b[0m\u001b[0m\n\u001b[1;32m    292\u001b[0m     \u001b[0;31m# Actual benchmark:\u001b[0m\u001b[0;34m\u001b[0m\u001b[0;34m\u001b[0m\u001b[0;34m\u001b[0m\u001b[0m\n\u001b[0;32m--> 293\u001b[0;31m     \u001b[0melapsed\u001b[0m \u001b[0;34m=\u001b[0m \u001b[0mbenchmark_loop\u001b[0m\u001b[0;34m(\u001b[0m\u001b[0mN\u001b[0m\u001b[0;34m,\u001b[0m \u001b[0mloops\u001b[0m\u001b[0;34m,\u001b[0m \u001b[0mroutine\u001b[0m\u001b[0;34m,\u001b[0m \u001b[0mmax_time\u001b[0m\u001b[0;34m,\u001b[0m \u001b[0margs\u001b[0m\u001b[0;34m,\u001b[0m \u001b[0mkwargs\u001b[0m\u001b[0;34m)\u001b[0m\u001b[0;34m\u001b[0m\u001b[0;34m\u001b[0m\u001b[0m\n\u001b[0m\u001b[1;32m    294\u001b[0m \u001b[0;34m\u001b[0m\u001b[0m\n\u001b[1;32m    295\u001b[0m     \u001b[0;32mif\u001b[0m \u001b[0;32mTrue\u001b[0m\u001b[0;34m:\u001b[0m\u001b[0;34m\u001b[0m\u001b[0;34m\u001b[0m\u001b[0m\n",
            "\u001b[0;32m/content/drive/My Drive/keops/benchmark_utils.py\u001b[0m in \u001b[0;36mtrain_test_loop\u001b[0;34m(N, loops, routine, max_time, args, kwargs)\u001b[0m\n\u001b[1;32m    256\u001b[0m     \u001b[0;32mfor\u001b[0m \u001b[0mi\u001b[0m \u001b[0;32min\u001b[0m \u001b[0mrange\u001b[0m\u001b[0;34m(\u001b[0m\u001b[0mloops\u001b[0m\u001b[0;34m)\u001b[0m\u001b[0;34m:\u001b[0m\u001b[0;34m\u001b[0m\u001b[0;34m\u001b[0m\u001b[0m\n\u001b[1;32m    257\u001b[0m         \u001b[0mclear_gpu_cache\u001b[0m\u001b[0;34m(\u001b[0m\u001b[0;34m)\u001b[0m\u001b[0;34m\u001b[0m\u001b[0;34m\u001b[0m\u001b[0m\n\u001b[0;32m--> 258\u001b[0;31m         \u001b[0moutput\u001b[0m\u001b[0;34m,\u001b[0m \u001b[0melapsed\u001b[0m \u001b[0;34m=\u001b[0m \u001b[0mmodel\u001b[0m\u001b[0;34m(\u001b[0m\u001b[0mx_test\u001b[0m\u001b[0;34m)\u001b[0m\u001b[0;34m\u001b[0m\u001b[0;34m\u001b[0m\u001b[0m\n\u001b[0m\u001b[1;32m    259\u001b[0m         \u001b[0mtest_time\u001b[0m \u001b[0;34m+=\u001b[0m \u001b[0melapsed\u001b[0m\u001b[0;34m\u001b[0m\u001b[0;34m\u001b[0m\u001b[0m\n\u001b[1;32m    260\u001b[0m \u001b[0;34m\u001b[0m\u001b[0m\n",
            "\u001b[0;32m<ipython-input-13-2aca51ad669a>\u001b[0m in \u001b[0;36mf\u001b[0;34m(x_test)\u001b[0m\n\u001b[1;32m     25\u001b[0m                 \u001b[0mx_test_k\u001b[0m \u001b[0;34m=\u001b[0m \u001b[0mx_test\u001b[0m\u001b[0;34m[\u001b[0m\u001b[0mNtest_loop\u001b[0m \u001b[0;34m*\u001b[0m \u001b[0mk\u001b[0m \u001b[0;34m:\u001b[0m \u001b[0mNtest_loop\u001b[0m \u001b[0;34m*\u001b[0m \u001b[0;34m(\u001b[0m\u001b[0mk\u001b[0m \u001b[0;34m+\u001b[0m \u001b[0;36m1\u001b[0m\u001b[0;34m)\u001b[0m\u001b[0;34m,\u001b[0m \u001b[0;34m:\u001b[0m\u001b[0;34m]\u001b[0m\u001b[0;34m\u001b[0m\u001b[0;34m\u001b[0m\u001b[0m\n\u001b[1;32m     26\u001b[0m                 indices[Ntest_loop * k : Ntest_loop * (k + 1), :] = knn_jax_fun(\n\u001b[0;32m---> 27\u001b[0;31m                     \u001b[0mx_train\u001b[0m\u001b[0;34m,\u001b[0m \u001b[0mx_test_k\u001b[0m\u001b[0;34m,\u001b[0m \u001b[0mK\u001b[0m\u001b[0;34m,\u001b[0m \u001b[0mmetric\u001b[0m\u001b[0;34m\u001b[0m\u001b[0;34m\u001b[0m\u001b[0m\n\u001b[0m\u001b[1;32m     28\u001b[0m                 )\n\u001b[1;32m     29\u001b[0m             \u001b[0melapsed\u001b[0m \u001b[0;34m=\u001b[0m \u001b[0mtimer\u001b[0m\u001b[0;34m(\u001b[0m\u001b[0muse_torch\u001b[0m\u001b[0;34m=\u001b[0m\u001b[0;32mFalse\u001b[0m\u001b[0;34m)\u001b[0m \u001b[0;34m-\u001b[0m \u001b[0mstart\u001b[0m\u001b[0;34m\u001b[0m\u001b[0;34m\u001b[0m\u001b[0m\n",
            "\u001b[0;32m/usr/local/lib/python3.6/dist-packages/jax/interpreters/xla.py\u001b[0m in \u001b[0;36m__array__\u001b[0;34m(self, dtype, context)\u001b[0m\n\u001b[1;32m   1237\u001b[0m \u001b[0;34m\u001b[0m\u001b[0m\n\u001b[1;32m   1238\u001b[0m   \u001b[0;32mdef\u001b[0m \u001b[0m__array__\u001b[0m\u001b[0;34m(\u001b[0m\u001b[0mself\u001b[0m\u001b[0;34m,\u001b[0m \u001b[0mdtype\u001b[0m\u001b[0;34m=\u001b[0m\u001b[0;32mNone\u001b[0m\u001b[0;34m,\u001b[0m \u001b[0mcontext\u001b[0m\u001b[0;34m=\u001b[0m\u001b[0;32mNone\u001b[0m\u001b[0;34m)\u001b[0m\u001b[0;34m:\u001b[0m\u001b[0;34m\u001b[0m\u001b[0;34m\u001b[0m\u001b[0m\n\u001b[0;32m-> 1239\u001b[0;31m     \u001b[0;32mreturn\u001b[0m \u001b[0mnp\u001b[0m\u001b[0;34m.\u001b[0m\u001b[0masarray\u001b[0m\u001b[0;34m(\u001b[0m\u001b[0mself\u001b[0m\u001b[0;34m.\u001b[0m\u001b[0m_value\u001b[0m\u001b[0;34m,\u001b[0m \u001b[0mdtype\u001b[0m\u001b[0;34m=\u001b[0m\u001b[0mdtype\u001b[0m\u001b[0;34m)\u001b[0m\u001b[0;34m\u001b[0m\u001b[0;34m\u001b[0m\u001b[0m\n\u001b[0m\u001b[1;32m   1240\u001b[0m \u001b[0;34m\u001b[0m\u001b[0m\n\u001b[1;32m   1241\u001b[0m   \u001b[0msetattr\u001b[0m\u001b[0;34m(\u001b[0m\u001b[0mdevice_array\u001b[0m\u001b[0;34m,\u001b[0m \u001b[0;34m\"__array__\"\u001b[0m\u001b[0;34m,\u001b[0m \u001b[0m__array__\u001b[0m\u001b[0;34m)\u001b[0m\u001b[0;34m\u001b[0m\u001b[0;34m\u001b[0m\u001b[0m\n",
            "\u001b[0;31mKeyboardInterrupt\u001b[0m: "
          ]
        }
      ]
    },
    {
      "cell_type": "code",
      "metadata": {
        "id": "bWRzY8pSu-HK",
        "colab": {
          "base_uri": "https://localhost:8080/",
          "height": 1000
        },
        "outputId": "f8169e01-3628-4e9c-92f7-22cdae6a4da8"
      },
      "source": [
        "run_KNN_benchmark(metric='euclidean',ntrain=10**5,ntest=10**5,d=2)"
      ],
      "execution_count": null,
      "outputs": [
        {
          "output_type": "stream",
          "text": [
            "Benchmarking : K-NN search on: 100,000 queries on a dataset of 100,000 points\n",
            "in dimension 2 with a euclidean metric. ===============================\n",
            "IVF-Flat Keops (GPU) -------------\n",
            "  1x100 loops of size    1 : train =   1x100x  18.4 ms, test  =   1x100x   5.9 ms, recall =  93%\n",
            "Compiling libKeOpstorch6178f28b49 in /root/.cache/pykeops-1.4.2-cpython-36:\n",
            "       formula: ArgKMin_Reduction(Sum(Square((Var(0,2,0) - Var(1,2,1)))),2,0)\n",
            "       aliases: Var(0,2,0); Var(1,2,1); \n",
            "       dtype  : float32\n",
            "... Done.\n",
            "  1x 10 loops of size    2 : train =   1x 10x  19.6 ms, test  =   1x 10x  10.3 ms, recall =  93%\n",
            "  1x 10 loops of size    5 : train =   1x 10x  18.3 ms, test  =   1x 10x   8.1 ms, recall =  93%\n",
            "Compiling libKeOpstorchb73ef06255 in /root/.cache/pykeops-1.4.2-cpython-36:\n",
            "       formula: ArgKMin_Reduction(Sum(Square((Var(0,2,0) - Var(1,2,1)))),10,0)\n",
            "       aliases: Var(0,2,0); Var(1,2,1); \n",
            "       dtype  : float32\n",
            "... Done.\n",
            "  1x 10 loops of size   10 : train =   1x 10x  18.6 ms, test  =   1x 10x  11.1 ms, recall =  93%\n",
            "Compiling libKeOpstorchd700e02d26 in /root/.cache/pykeops-1.4.2-cpython-36:\n",
            "       formula: ArgKMin_Reduction(Sum(Square((Var(0,2,0) - Var(1,2,1)))),20,0)\n",
            "       aliases: Var(0,2,0); Var(1,2,1); \n",
            "       dtype  : float32\n",
            "... Done.\n",
            "  1x 10 loops of size   20 : train =   1x 10x  19.2 ms, test  =   1x 10x  14.5 ms, recall =  93%\n",
            "Compiling libKeOpstorch9fdf2680cc in /root/.cache/pykeops-1.4.2-cpython-36:\n",
            "       formula: ArgKMin_Reduction(Sum(Square((Var(0,2,0) - Var(1,2,1)))),50,0)\n",
            "       aliases: Var(0,2,0); Var(1,2,1); \n",
            "       dtype  : float32\n",
            "... Done.\n",
            "  1x 10 loops of size   50 : train =   1x 10x  16.7 ms, test  =   1x 10x  34.3 ms, recall =  93%\n",
            "Compiling libKeOpstorchf0c3ae8573 in /root/.cache/pykeops-1.4.2-cpython-36:\n",
            "       formula: ArgKMin_Reduction(Sum(Square((Var(0,2,0) - Var(1,2,1)))),100,0)\n",
            "       aliases: Var(0,2,0); Var(1,2,1); \n",
            "       dtype  : float32\n",
            "... Done.\n",
            "  1x  1 loops of size  100 : train =   1x  1x  17.1 ms, test  =   1x  1x    2.8 s, recall =  92%\n",
            "sklearn, auto (CPU) -------------\n",
            "  1x100 loops of size    1 : train =   1x100x  53.5 ms, test  =   1x100x 202.5 ms, recall = 100%\n",
            "  1x 10 loops of size    2 : train =   1x 10x  54.0 ms, test  =   1x 10x 223.1 ms, recall = 100%\n",
            "  1x  1 loops of size    5 : train =   1x  1x  54.3 ms, test  =   1x  1x 304.8 ms, recall = 100%\n",
            "  1x  1 loops of size   10 : train =   1x  1x  53.8 ms, test  =   1x  1x 415.3 ms, recall = 100%\n",
            "  1x  1 loops of size   20 : train =   1x  1x  54.7 ms, test  =   1x  1x 546.7 ms, recall = 100%\n",
            "  1x  1 loops of size   50 : train =   1x  1x  54.5 ms, test  =   1x  1x 884.8 ms, recall = 100%\n",
            "  1x  1 loops of size  100 : train =   1x  1x  55.1 ms, test  =   1x  1x    1.6 s, recall = 100%\n",
            "sklearn, Ball-tree (CPU) -------------\n",
            "  1x100 loops of size    1 : train =   1x100x  50.2 ms, test  =   1x100x    2.2 s, recall = 100%\n",
            "  1x 10 loops of size    2 : train =   1x 10x  49.2 ms, test  =   1x 10x    2.3 s, recall = 100%\n",
            "  1x  1 loops of size    5 : train =   1x  1x  49.4 ms, test  =   1x  1x    2.6 s, recall = 100%\n",
            "  1x  1 loops of size   10 : train =   1x  1x  49.9 ms, test  =   1x  1x    3.3 s, recall = 100%\n",
            "  1x  1 loops of size   20 : train =   1x  1x  49.8 ms, test  =   1x  1x    4.1 s, recall = 100%\n",
            "  1x  1 loops of size   50 : train =   1x  1x  49.7 ms, test  =   1x  1x    6.5 s, recall = 100%\n",
            "  1x  1 loops of size  100 : train =   1x  1x  55.8 ms, test  =   1x  1x   10.5 s, recall = 100%\n",
            "sklearn, KD-tree (CPU) -------------\n",
            "  1x100 loops of size    1 : train =   1x100x  54.0 ms, test  =   1x100x 202.3 ms, recall = 100%\n",
            "  1x 10 loops of size    2 : train =   1x 10x  54.7 ms, test  =   1x 10x 202.6 ms, recall = 100%\n",
            "  1x  1 loops of size    5 : train =   1x  1x  56.4 ms, test  =   1x  1x 304.1 ms, recall = 100%\n",
            "  1x  1 loops of size   10 : train =   1x  1x  54.6 ms, test  =   1x  1x 406.2 ms, recall = 100%\n",
            "  1x  1 loops of size   20 : train =   1x  1x  54.7 ms, test  =   1x  1x 519.9 ms, recall = 100%\n",
            "  1x  1 loops of size   50 : train =   1x  1x  53.4 ms, test  =   1x  1x 855.5 ms, recall = 100%\n",
            "  1x  1 loops of size  100 : train =   1x  1x  54.1 ms, test  =   1x  1x    1.6 s, recall = 100%\n",
            "sklearn, bruteforce (CPU) -------------\n",
            "** Too slow!\n",
            "PyTorch (GPU) -------------\n",
            "CUDA out of memory. Tried to allocate 37.25 GiB (GPU 0; 14.76 GiB total capacity; 6.11 MiB already allocated; 13.80 GiB free; 8.00 MiB reserved in total by PyTorch)\n",
            "** Runtime error!\n",
            "PyTorch (small batches, GPU) -------------\n",
            "  1x100 loops of size    1 : train =   1x100x  68.8 µs, test  =   1x100x    2.5 s, recall = 100%\n",
            "  1x 10 loops of size    2 : train =   1x 10x  86.5 µs, test  =   1x 10x    2.8 s, recall = 100%\n",
            "  1x  1 loops of size    5 : train =   1x  1x 166.7 µs, test  =   1x  1x    2.9 s, recall = 100%\n",
            "  1x  1 loops of size   10 : train =   1x  1x 137.2 µs, test  =   1x  1x    3.1 s, recall = 100%\n",
            "  1x  1 loops of size   20 : train =   1x  1x 171.1 µs, test  =   1x  1x    3.2 s, recall = 100%\n",
            "  1x  1 loops of size   50 : train =   1x  1x 138.8 µs, test  =   1x  1x    3.4 s, recall = 100%\n",
            "  1x  1 loops of size  100 : train =   1x  1x 160.6 µs, test  =   1x  1x    3.5 s, recall = 100%\n",
            "KeOps (GPU) -------------\n",
            "  1x100 loops of size    1 : train =   1x100x  55.2 µs, test  =   1x100x  24.4 ms, recall = 100%\n",
            "  1x 10 loops of size    2 : train =   1x 10x  63.4 µs, test  =   1x 10x  29.8 ms, recall = 100%\n",
            "  1x  1 loops of size    5 : train =   1x  1x  79.5 µs, test  =   1x  1x  35.8 ms, recall = 100%\n",
            "  1x  1 loops of size   10 : train =   1x  1x  77.5 µs, test  =   1x  1x  47.8 ms, recall = 100%\n",
            "  1x  1 loops of size   20 : train =   1x  1x 104.9 µs, test  =   1x  1x  52.2 ms, recall = 100%\n",
            "  1x  1 loops of size   50 : train =   1x  1x 106.3 µs, test  =   1x  1x  99.8 ms, recall = 100%\n",
            "  1x  1 loops of size  100 : train =   1x  1x 154.5 µs, test  =   1x  1x    9.0 s, recall = 100%\n",
            "JAX (GPU) -------------\n",
            "Resource exhausted: Out of memory while trying to allocate 40016777216 bytes.\n",
            "** Runtime error!\n",
            "JAX (small batches, GPU) -------------\n"
          ],
          "name": "stdout"
        },
        {
          "output_type": "error",
          "ename": "KeyboardInterrupt",
          "evalue": "ignored",
          "traceback": [
            "\u001b[0;31m---------------------------------------------------------------------------\u001b[0m",
            "\u001b[0;31mKeyboardInterrupt\u001b[0m                         Traceback (most recent call last)",
            "\u001b[0;32m<ipython-input-23-f9ffafcc8ad7>\u001b[0m in \u001b[0;36m<module>\u001b[0;34m()\u001b[0m\n\u001b[0;32m----> 1\u001b[0;31m \u001b[0mrun_KNN_benchmark\u001b[0m\u001b[0;34m(\u001b[0m\u001b[0mmetric\u001b[0m\u001b[0;34m=\u001b[0m\u001b[0;34m'euclidean'\u001b[0m\u001b[0;34m,\u001b[0m\u001b[0mntrain\u001b[0m\u001b[0;34m=\u001b[0m\u001b[0;36m10\u001b[0m\u001b[0;34m**\u001b[0m\u001b[0;36m5\u001b[0m\u001b[0;34m,\u001b[0m\u001b[0mntest\u001b[0m\u001b[0;34m=\u001b[0m\u001b[0;36m10\u001b[0m\u001b[0;34m**\u001b[0m\u001b[0;36m5\u001b[0m\u001b[0;34m,\u001b[0m\u001b[0md\u001b[0m\u001b[0;34m=\u001b[0m\u001b[0;36m2\u001b[0m\u001b[0;34m)\u001b[0m\u001b[0;34m\u001b[0m\u001b[0;34m\u001b[0m\u001b[0m\n\u001b[0m",
            "\u001b[0;32m<ipython-input-19-82625f1012b8>\u001b[0m in \u001b[0;36mrun_KNN_benchmark\u001b[0;34m(name, **kwargs)\u001b[0m\n\u001b[1;32m     29\u001b[0m         \u001b[0mmax_time\u001b[0m\u001b[0;34m=\u001b[0m\u001b[0;36m60\u001b[0m\u001b[0;34m,\u001b[0m\u001b[0;34m\u001b[0m\u001b[0;34m\u001b[0m\u001b[0m\n\u001b[1;32m     30\u001b[0m         \u001b[0mproblem_sizes\u001b[0m\u001b[0;34m=\u001b[0m\u001b[0mKs\u001b[0m\u001b[0;34m,\u001b[0m\u001b[0;34m\u001b[0m\u001b[0;34m\u001b[0m\u001b[0m\n\u001b[0;32m---> 31\u001b[0;31m         \u001b[0mxlabel\u001b[0m\u001b[0;34m=\u001b[0m\u001b[0;34m\"Number of neighbours K\"\u001b[0m\u001b[0;34m,\u001b[0m\u001b[0;34m\u001b[0m\u001b[0;34m\u001b[0m\u001b[0m\n\u001b[0m\u001b[1;32m     32\u001b[0m     )\n",
            "\u001b[0;32m/content/drive/My Drive/keops/benchmark_utils.py\u001b[0m in \u001b[0;36mfull_benchmark\u001b[0;34m(to_plot, routines, generate_samples, problem_sizes, min_time, max_time, red_time, loops, xlabel, ylabel, frequency, legend_location, linestyles)\u001b[0m\n\u001b[1;32m    416\u001b[0m             \u001b[0mloops\u001b[0m\u001b[0;34m=\u001b[0m\u001b[0mloops\u001b[0m\u001b[0;34m,\u001b[0m\u001b[0;34m\u001b[0m\u001b[0;34m\u001b[0m\u001b[0m\n\u001b[1;32m    417\u001b[0m         )\n\u001b[0;32m--> 418\u001b[0;31m         \u001b[0;32mfor\u001b[0m \u001b[0mroutine\u001b[0m \u001b[0;32min\u001b[0m \u001b[0mroutines\u001b[0m\u001b[0;34m\u001b[0m\u001b[0;34m\u001b[0m\u001b[0m\n\u001b[0m\u001b[1;32m    419\u001b[0m     ]\n\u001b[1;32m    420\u001b[0m     \u001b[0mbenches\u001b[0m \u001b[0;34m=\u001b[0m \u001b[0mnp\u001b[0m\u001b[0;34m.\u001b[0m\u001b[0marray\u001b[0m\u001b[0;34m(\u001b[0m\u001b[0mlines\u001b[0m\u001b[0;34m)\u001b[0m\u001b[0;34m.\u001b[0m\u001b[0mT\u001b[0m\u001b[0;34m\u001b[0m\u001b[0;34m\u001b[0m\u001b[0m\n",
            "\u001b[0;32m/content/drive/My Drive/keops/benchmark_utils.py\u001b[0m in \u001b[0;36m<listcomp>\u001b[0;34m(.0)\u001b[0m\n\u001b[1;32m    416\u001b[0m             \u001b[0mloops\u001b[0m\u001b[0;34m=\u001b[0m\u001b[0mloops\u001b[0m\u001b[0;34m,\u001b[0m\u001b[0;34m\u001b[0m\u001b[0;34m\u001b[0m\u001b[0m\n\u001b[1;32m    417\u001b[0m         )\n\u001b[0;32m--> 418\u001b[0;31m         \u001b[0;32mfor\u001b[0m \u001b[0mroutine\u001b[0m \u001b[0;32min\u001b[0m \u001b[0mroutines\u001b[0m\u001b[0;34m\u001b[0m\u001b[0;34m\u001b[0m\u001b[0m\n\u001b[0m\u001b[1;32m    419\u001b[0m     ]\n\u001b[1;32m    420\u001b[0m     \u001b[0mbenches\u001b[0m \u001b[0;34m=\u001b[0m \u001b[0mnp\u001b[0m\u001b[0;34m.\u001b[0m\u001b[0marray\u001b[0m\u001b[0;34m(\u001b[0m\u001b[0mlines\u001b[0m\u001b[0;34m)\u001b[0m\u001b[0;34m.\u001b[0m\u001b[0mT\u001b[0m\u001b[0;34m\u001b[0m\u001b[0;34m\u001b[0m\u001b[0m\n",
            "\u001b[0;32m/content/drive/My Drive/keops/benchmark_utils.py\u001b[0m in \u001b[0;36mbench_config\u001b[0;34m(routine, label, kwargs, generate_samples, problem_sizes, max_time, red_time, loops)\u001b[0m\n\u001b[1;32m    327\u001b[0m                 \u001b[0mloops\u001b[0m\u001b[0;34m=\u001b[0m\u001b[0mnloops\u001b[0m\u001b[0;34m,\u001b[0m\u001b[0;34m\u001b[0m\u001b[0;34m\u001b[0m\u001b[0m\n\u001b[1;32m    328\u001b[0m                 \u001b[0mgenerate_samples\u001b[0m\u001b[0;34m=\u001b[0m\u001b[0mgenerate_samples\u001b[0m\u001b[0;34m,\u001b[0m\u001b[0;34m\u001b[0m\u001b[0;34m\u001b[0m\u001b[0m\n\u001b[0;32m--> 329\u001b[0;31m                 \u001b[0;34m**\u001b[0m\u001b[0mkwargs\u001b[0m\u001b[0;34m,\u001b[0m\u001b[0;34m\u001b[0m\u001b[0;34m\u001b[0m\u001b[0m\n\u001b[0m\u001b[1;32m    330\u001b[0m             )\n\u001b[1;32m    331\u001b[0m \u001b[0;34m\u001b[0m\u001b[0m\n",
            "\u001b[0;32m/content/drive/My Drive/keops/benchmark_utils.py\u001b[0m in \u001b[0;36mbenchmark\u001b[0;34m(routine, label, N, max_time, loops, generate_samples, **kwargs)\u001b[0m\n\u001b[1;32m    291\u001b[0m \u001b[0;34m\u001b[0m\u001b[0m\n\u001b[1;32m    292\u001b[0m     \u001b[0;31m# Actual benchmark:\u001b[0m\u001b[0;34m\u001b[0m\u001b[0;34m\u001b[0m\u001b[0;34m\u001b[0m\u001b[0m\n\u001b[0;32m--> 293\u001b[0;31m     \u001b[0melapsed\u001b[0m \u001b[0;34m=\u001b[0m \u001b[0mbenchmark_loop\u001b[0m\u001b[0;34m(\u001b[0m\u001b[0mN\u001b[0m\u001b[0;34m,\u001b[0m \u001b[0mloops\u001b[0m\u001b[0;34m,\u001b[0m \u001b[0mroutine\u001b[0m\u001b[0;34m,\u001b[0m \u001b[0mmax_time\u001b[0m\u001b[0;34m,\u001b[0m \u001b[0margs\u001b[0m\u001b[0;34m,\u001b[0m \u001b[0mkwargs\u001b[0m\u001b[0;34m)\u001b[0m\u001b[0;34m\u001b[0m\u001b[0;34m\u001b[0m\u001b[0m\n\u001b[0m\u001b[1;32m    294\u001b[0m \u001b[0;34m\u001b[0m\u001b[0m\n\u001b[1;32m    295\u001b[0m     \u001b[0;32mif\u001b[0m \u001b[0;32mTrue\u001b[0m\u001b[0;34m:\u001b[0m\u001b[0;34m\u001b[0m\u001b[0;34m\u001b[0m\u001b[0m\n",
            "\u001b[0;32m/content/drive/My Drive/keops/benchmark_utils.py\u001b[0m in \u001b[0;36mtrain_test_loop\u001b[0;34m(N, loops, routine, max_time, args, kwargs)\u001b[0m\n\u001b[1;32m    256\u001b[0m     \u001b[0;32mfor\u001b[0m \u001b[0mi\u001b[0m \u001b[0;32min\u001b[0m \u001b[0mrange\u001b[0m\u001b[0;34m(\u001b[0m\u001b[0mloops\u001b[0m\u001b[0;34m)\u001b[0m\u001b[0;34m:\u001b[0m\u001b[0;34m\u001b[0m\u001b[0;34m\u001b[0m\u001b[0m\n\u001b[1;32m    257\u001b[0m         \u001b[0mclear_gpu_cache\u001b[0m\u001b[0;34m(\u001b[0m\u001b[0;34m)\u001b[0m\u001b[0;34m\u001b[0m\u001b[0;34m\u001b[0m\u001b[0m\n\u001b[0;32m--> 258\u001b[0;31m         \u001b[0moutput\u001b[0m\u001b[0;34m,\u001b[0m \u001b[0melapsed\u001b[0m \u001b[0;34m=\u001b[0m \u001b[0mmodel\u001b[0m\u001b[0;34m(\u001b[0m\u001b[0mx_test\u001b[0m\u001b[0;34m)\u001b[0m\u001b[0;34m\u001b[0m\u001b[0;34m\u001b[0m\u001b[0m\n\u001b[0m\u001b[1;32m    259\u001b[0m         \u001b[0mtest_time\u001b[0m \u001b[0;34m+=\u001b[0m \u001b[0melapsed\u001b[0m\u001b[0;34m\u001b[0m\u001b[0;34m\u001b[0m\u001b[0m\n\u001b[1;32m    260\u001b[0m \u001b[0;34m\u001b[0m\u001b[0m\n",
            "\u001b[0;32m<ipython-input-13-2aca51ad669a>\u001b[0m in \u001b[0;36mf\u001b[0;34m(x_test)\u001b[0m\n\u001b[1;32m     25\u001b[0m                 \u001b[0mx_test_k\u001b[0m \u001b[0;34m=\u001b[0m \u001b[0mx_test\u001b[0m\u001b[0;34m[\u001b[0m\u001b[0mNtest_loop\u001b[0m \u001b[0;34m*\u001b[0m \u001b[0mk\u001b[0m \u001b[0;34m:\u001b[0m \u001b[0mNtest_loop\u001b[0m \u001b[0;34m*\u001b[0m \u001b[0;34m(\u001b[0m\u001b[0mk\u001b[0m \u001b[0;34m+\u001b[0m \u001b[0;36m1\u001b[0m\u001b[0;34m)\u001b[0m\u001b[0;34m,\u001b[0m \u001b[0;34m:\u001b[0m\u001b[0;34m]\u001b[0m\u001b[0;34m\u001b[0m\u001b[0;34m\u001b[0m\u001b[0m\n\u001b[1;32m     26\u001b[0m                 indices[Ntest_loop * k : Ntest_loop * (k + 1), :] = knn_jax_fun(\n\u001b[0;32m---> 27\u001b[0;31m                     \u001b[0mx_train\u001b[0m\u001b[0;34m,\u001b[0m \u001b[0mx_test_k\u001b[0m\u001b[0;34m,\u001b[0m \u001b[0mK\u001b[0m\u001b[0;34m,\u001b[0m \u001b[0mmetric\u001b[0m\u001b[0;34m\u001b[0m\u001b[0;34m\u001b[0m\u001b[0m\n\u001b[0m\u001b[1;32m     28\u001b[0m                 )\n\u001b[1;32m     29\u001b[0m             \u001b[0melapsed\u001b[0m \u001b[0;34m=\u001b[0m \u001b[0mtimer\u001b[0m\u001b[0;34m(\u001b[0m\u001b[0muse_torch\u001b[0m\u001b[0;34m=\u001b[0m\u001b[0;32mFalse\u001b[0m\u001b[0;34m)\u001b[0m \u001b[0;34m-\u001b[0m \u001b[0mstart\u001b[0m\u001b[0;34m\u001b[0m\u001b[0;34m\u001b[0m\u001b[0m\n",
            "\u001b[0;32m/usr/local/lib/python3.6/dist-packages/jax/interpreters/xla.py\u001b[0m in \u001b[0;36m__array__\u001b[0;34m(self, dtype, context)\u001b[0m\n\u001b[1;32m   1237\u001b[0m \u001b[0;34m\u001b[0m\u001b[0m\n\u001b[1;32m   1238\u001b[0m   \u001b[0;32mdef\u001b[0m \u001b[0m__array__\u001b[0m\u001b[0;34m(\u001b[0m\u001b[0mself\u001b[0m\u001b[0;34m,\u001b[0m \u001b[0mdtype\u001b[0m\u001b[0;34m=\u001b[0m\u001b[0;32mNone\u001b[0m\u001b[0;34m,\u001b[0m \u001b[0mcontext\u001b[0m\u001b[0;34m=\u001b[0m\u001b[0;32mNone\u001b[0m\u001b[0;34m)\u001b[0m\u001b[0;34m:\u001b[0m\u001b[0;34m\u001b[0m\u001b[0;34m\u001b[0m\u001b[0m\n\u001b[0;32m-> 1239\u001b[0;31m     \u001b[0;32mreturn\u001b[0m \u001b[0mnp\u001b[0m\u001b[0;34m.\u001b[0m\u001b[0masarray\u001b[0m\u001b[0;34m(\u001b[0m\u001b[0mself\u001b[0m\u001b[0;34m.\u001b[0m\u001b[0m_value\u001b[0m\u001b[0;34m,\u001b[0m \u001b[0mdtype\u001b[0m\u001b[0;34m=\u001b[0m\u001b[0mdtype\u001b[0m\u001b[0;34m)\u001b[0m\u001b[0;34m\u001b[0m\u001b[0;34m\u001b[0m\u001b[0m\n\u001b[0m\u001b[1;32m   1240\u001b[0m \u001b[0;34m\u001b[0m\u001b[0m\n\u001b[1;32m   1241\u001b[0m   \u001b[0msetattr\u001b[0m\u001b[0;34m(\u001b[0m\u001b[0mdevice_array\u001b[0m\u001b[0;34m,\u001b[0m \u001b[0;34m\"__array__\"\u001b[0m\u001b[0;34m,\u001b[0m \u001b[0m__array__\u001b[0m\u001b[0;34m)\u001b[0m\u001b[0;34m\u001b[0m\u001b[0;34m\u001b[0m\u001b[0m\n",
            "\u001b[0;31mKeyboardInterrupt\u001b[0m: "
          ]
        }
      ]
    },
    {
      "cell_type": "markdown",
      "metadata": {
        "id": "RjodIoAMu-HL"
      },
      "source": [
        "Large dataset in $\\mathbb{R}^3$:\n",
        "\n"
      ]
    },
    {
      "cell_type": "code",
      "metadata": {
        "id": "w6CgaZCtu-HL"
      },
      "source": [
        "run_KNN_benchmark(\"R^D b\")\n",
        "plt.show()"
      ],
      "execution_count": null,
      "outputs": []
    }
  ]
}