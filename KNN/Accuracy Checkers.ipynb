{
 "cells": [
  {
   "cell_type": "code",
   "execution_count": null,
   "metadata": {},
   "outputs": [],
   "source": [
    "def ivf_accuracy(indices_test, indices_truth):\n",
    "  '''\n",
    "  Compares the test and ground truth indices (rows = KNN for each point in dataset)\n",
    "  Returns accuracy: proportion of correct nearest neighbours\n",
    "  '''\n",
    "  N, k = indices_test.shape\n",
    "  \n",
    "  # Calculate number of correct nearest neighbours\n",
    "  accuracy = 0\n",
    "  for i in range(k):\n",
    "    accuracy += torch.sum(indices_test == indices_truth).float()/N\n",
    "    indices_truth = torch.roll(indices_truth, 1, -1) # Create a rolling window (index positions may not match)\n",
    "  accuracy = float(accuracy/k) # percentage accuracy\n",
    "\n",
    "  return accuracy"
   ]
  },
  {
   "cell_type": "code",
   "execution_count": null,
   "metadata": {},
   "outputs": [],
   "source": [
    "def knn_accuracy_x_y(indices_test, x, y):\n",
    "  '''\n",
    "  Compares the test and ground truth indices (rows = KNN for each point in dataset)\n",
    "  Returns accuracy: proportion of correct nearest neighbours\n",
    "  '''\n",
    "  N, k = indices_test.shape\n",
    "  \n",
    "  indices_truth = torch.argsort(((y.unsqueeze(1)-x.unsqueeze(0))**2).sum(-1),dim=1)\n",
    "  indices_truth = indices_truth[:,:5]\n",
    "  \n",
    "  # Calculate number of correct nearest neighbours\n",
    "  accuracy = 0\n",
    "  for i in range(k):\n",
    "    accuracy += torch.sum(indices_test == indices_truth).float()/N\n",
    "    indices_truth = torch.roll(indices_truth, 1, -1) # Create a rolling window (index positions may not match)\n",
    "  accuracy = float(accuracy/k) # percentage accuracy\n",
    "\n",
    "  return accuracy"
   ]
  },
  {
   "cell_type": "code",
   "execution_count": null,
   "metadata": {},
   "outputs": [],
   "source": [
    "def init_accuracy(data, graph, k_distances):\n",
    "  '''\n",
    "  Takes in data and graph to check accuracy of graph's assigned k nearest neighbours\n",
    "  Uses torch brute force to find actual k nearest neighbours\n",
    "  Returns accuracy: proportion of correct nearest neighbours\n",
    "  Also returns distance error: (average_distance-true_distances)/true_distance (of k nearest neighbours)\n",
    "  '''\n",
    "  N, k = graph.shape\n",
    "  graph = torch.sort(graph,dim=1)[0] # sort each row of graph\n",
    "\n",
    "  # Calculate true distances, indices\n",
    "  d=((data.unsqueeze(1)-data.unsqueeze(0))**2).sum(-1)+torch.Tensor([float('inf')]).repeat(len(data)).diag() # Infinity is added to diagonal\n",
    "  true_distances, true_indices = torch.sort(d,dim=1)\n",
    "\n",
    "  # get k nearest neighbours\n",
    "  true_indices = true_indices[:,:k]\n",
    "  true_distances = true_distances[:,:k]\n",
    "  \n",
    "  # Calculate number of correct nearest neighbours\n",
    "  accuracy = 0\n",
    "  for i in range(k):\n",
    "    accuracy += torch.sum(graph == true_indices).float()\n",
    "    torch.roll(true_indices, 1, -1) # Create a rolling window (index positions may not match)\n",
    "  accuracy = float(accuracy/(N*k)) # percentage accuracy\n",
    "\n",
    "  # Calculate accuracy of distances\n",
    "  true_average = torch.mean(true_distances)\n",
    "  graph_average = torch.mean(k_distances)\n",
    "  distance_error = float((graph_average-true_average)/true_average)\n",
    "\n",
    "  return accuracy, distance_error"
   ]
  }
 ],
 "metadata": {
  "kernelspec": {
   "display_name": "Python 3",
   "language": "python",
   "name": "python3"
  },
  "language_info": {
   "codemirror_mode": {
    "name": "ipython",
    "version": 3
   },
   "file_extension": ".py",
   "mimetype": "text/x-python",
   "name": "python",
   "nbconvert_exporter": "python",
   "pygments_lexer": "ipython3",
   "version": "3.8.5"
  }
 },
 "nbformat": 4,
 "nbformat_minor": 4
}
