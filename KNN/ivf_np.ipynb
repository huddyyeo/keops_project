{
  "nbformat": 4,
  "nbformat_minor": 0,
  "metadata": {
    "colab": {
      "name": "ivf_np.ipynb",
      "provenance": [],
      "collapsed_sections": []
    },
    "kernelspec": {
      "name": "python3",
      "display_name": "Python 3"
    },
    "accelerator": "GPU"
  },
  "cells": [
    {
      "cell_type": "code",
      "metadata": {
        "colab": {
          "base_uri": "https://localhost:8080/"
        },
        "id": "r_KYgrAPQNiR",
        "outputId": "fa1fc4db-2729-40b8-b3cd-cf5c5a2b40ce"
      },
      "source": [
        "!pip install sphinx\n",
        "!pip install pykeops[colab] > install.log\n",
        "\n",
        "from pykeops.numpy import LazyTensor\n",
        "from pykeops.numpy.cluster import cluster_ranges_centroids\n",
        "from pykeops.numpy.cluster import from_matrix\n",
        "import pykeops.config\n",
        "import numpy as np\n"
      ],
      "execution_count": null,
      "outputs": [
        {
          "output_type": "stream",
          "text": [
            "Requirement already satisfied: sphinx in /usr/local/lib/python3.7/dist-packages (1.8.5)\n",
            "Requirement already satisfied: requests>=2.0.0 in /usr/local/lib/python3.7/dist-packages (from sphinx) (2.23.0)\n",
            "Requirement already satisfied: sphinxcontrib-websupport in /usr/local/lib/python3.7/dist-packages (from sphinx) (1.2.4)\n",
            "Requirement already satisfied: setuptools in /usr/local/lib/python3.7/dist-packages (from sphinx) (54.2.0)\n",
            "Requirement already satisfied: docutils>=0.11 in /usr/local/lib/python3.7/dist-packages (from sphinx) (0.16)\n",
            "Requirement already satisfied: snowballstemmer>=1.1 in /usr/local/lib/python3.7/dist-packages (from sphinx) (2.1.0)\n",
            "Requirement already satisfied: six>=1.5 in /usr/local/lib/python3.7/dist-packages (from sphinx) (1.15.0)\n",
            "Requirement already satisfied: Jinja2>=2.3 in /usr/local/lib/python3.7/dist-packages (from sphinx) (2.11.3)\n",
            "Requirement already satisfied: babel!=2.0,>=1.3 in /usr/local/lib/python3.7/dist-packages (from sphinx) (2.9.0)\n",
            "Requirement already satisfied: imagesize in /usr/local/lib/python3.7/dist-packages (from sphinx) (1.2.0)\n",
            "Requirement already satisfied: Pygments>=2.0 in /usr/local/lib/python3.7/dist-packages (from sphinx) (2.6.1)\n",
            "Requirement already satisfied: alabaster<0.8,>=0.7 in /usr/local/lib/python3.7/dist-packages (from sphinx) (0.7.12)\n",
            "Requirement already satisfied: packaging in /usr/local/lib/python3.7/dist-packages (from sphinx) (20.9)\n",
            "Requirement already satisfied: certifi>=2017.4.17 in /usr/local/lib/python3.7/dist-packages (from requests>=2.0.0->sphinx) (2020.12.5)\n",
            "Requirement already satisfied: idna<3,>=2.5 in /usr/local/lib/python3.7/dist-packages (from requests>=2.0.0->sphinx) (2.10)\n",
            "Requirement already satisfied: urllib3!=1.25.0,!=1.25.1,<1.26,>=1.21.1 in /usr/local/lib/python3.7/dist-packages (from requests>=2.0.0->sphinx) (1.24.3)\n",
            "Requirement already satisfied: chardet<4,>=3.0.2 in /usr/local/lib/python3.7/dist-packages (from requests>=2.0.0->sphinx) (3.0.4)\n",
            "Requirement already satisfied: sphinxcontrib-serializinghtml in /usr/local/lib/python3.7/dist-packages (from sphinxcontrib-websupport->sphinx) (1.1.4)\n",
            "Requirement already satisfied: MarkupSafe>=0.23 in /usr/local/lib/python3.7/dist-packages (from Jinja2>=2.3->sphinx) (1.1.1)\n",
            "Requirement already satisfied: pytz>=2015.7 in /usr/local/lib/python3.7/dist-packages (from babel!=2.0,>=1.3->sphinx) (2018.9)\n",
            "Requirement already satisfied: pyparsing>=2.0.2 in /usr/local/lib/python3.7/dist-packages (from packaging->sphinx) (2.4.7)\n"
          ],
          "name": "stdout"
        }
      ]
    },
    {
      "cell_type": "code",
      "metadata": {
        "id": "rVtA4WGHrZgG"
      },
      "source": [
        "import numpy as np\n",
        "\n",
        "from pykeops.numpy import Genred, default_dtype, KernelSolve\n",
        "from pykeops.numpy.cluster import swap_axes as np_swap_axes\n",
        "import pykeops.config\n",
        "\n",
        "\n",
        "class numpytools:\n",
        "    norm = np.linalg.norm\n",
        "    arraysum = np.sum\n",
        "    exp = np.exp\n",
        "    log = np.log\n",
        "    Genred = Genred\n",
        "    KernelSolve = KernelSolve\n",
        "    swap_axes = np_swap_axes\n",
        "    arraytype = np.ndarray\n",
        "    float_types = [float, np.float16, np.float32, np.float64]\n",
        "\n",
        "    @staticmethod\n",
        "    def is_tensor(x):\n",
        "        return isinstance(x, np.ndarray)\n",
        "\n",
        "    @staticmethod\n",
        "    def copy(x):\n",
        "        return np.copy(x)\n",
        "\n",
        "    @staticmethod\n",
        "    def eq(x, y):\n",
        "        return np.equal(x, y)\n",
        "\n",
        "    @staticmethod\n",
        "    def transpose(x):\n",
        "        return x.T\n",
        "\n",
        "    @staticmethod\n",
        "    def permute(x, *args):\n",
        "        return x.transpose(*args)\n",
        "\n",
        "    @staticmethod\n",
        "    def contiguous(x):\n",
        "        return np.ascontiguousarray(x)\n",
        "\n",
        "    @staticmethod\n",
        "    def numpy(x):\n",
        "        return x\n",
        "\n",
        "    @staticmethod\n",
        "    def tile(*args):\n",
        "        return np.tile(*args)\n",
        "\n",
        "    @staticmethod\n",
        "    def solve(*args):\n",
        "        return np.linalg.solve(*args)\n",
        "\n",
        "    @staticmethod\n",
        "    def size(x):\n",
        "        return x.size\n",
        "\n",
        "    @staticmethod\n",
        "    def view(x, s):\n",
        "        return np.reshape(x, s)\n",
        "\n",
        "    @staticmethod\n",
        "    def long(x):\n",
        "        return x.astype(\"int64\")\n",
        "\n",
        "    @staticmethod\n",
        "    def dtype(x):\n",
        "        return x.dtype.name\n",
        "\n",
        "    @staticmethod\n",
        "    def detect_complex(x):\n",
        "        if type(x) == list:\n",
        "            return any(type(v) == complex for v in x)\n",
        "        elif type(x) == np.ndarray:\n",
        "            return np.iscomplexobj(x)\n",
        "        else:\n",
        "            return type(x) == complex\n",
        "\n",
        "    @staticmethod\n",
        "    def view_as_complex(x):\n",
        "        if x.dtype == \"float32\":\n",
        "            return x.view(\"complex64\")\n",
        "        elif x.dtype == \"float64\":\n",
        "            return x.view(\"complex128\")\n",
        "\n",
        "    @staticmethod\n",
        "    def view_as_real(x):\n",
        "        if x.dtype == \"complex64\":\n",
        "            return x.view(\"float32\")\n",
        "        elif x.dtype == \"complex128\":\n",
        "            return x.view(\"float64\")\n",
        "\n",
        "    @staticmethod\n",
        "    def dtypename(dtype):\n",
        "        return dtype\n",
        "\n",
        "    @staticmethod\n",
        "    def rand(m, n, dtype=default_dtype):\n",
        "        return np.random.rand(m, n).astype(dtype)\n",
        "\n",
        "    @staticmethod\n",
        "    def randn(m, n, dtype=default_dtype):\n",
        "        return np.random.randn(m, n).astype(dtype)\n",
        "\n",
        "    @staticmethod\n",
        "    def zeros(shape, dtype=default_dtype,device=None):\n",
        "        return np.zeros(shape).astype(dtype)\n",
        "\n",
        "    @staticmethod\n",
        "    def eye(n, dtype=default_dtype):\n",
        "        return np.eye(n).astype(dtype)\n",
        "\n",
        "    @staticmethod\n",
        "    def array(x, dtype=default_dtype, device=None):\n",
        "        return np.array(x).astype(dtype)\n",
        "\n",
        "    @staticmethod\n",
        "    def device(x):\n",
        "        return \"cpu\"\n",
        "\n",
        "    @staticmethod\n",
        "    def distance_function(metric):\n",
        "      def euclidean(x,y):\n",
        "        return ((x-y) ** 2).sum(-1)\n",
        "      def manhattan(x,y):\n",
        "        return ((x-y).abs()).sum(-1)\n",
        "      def angular(x,y):\n",
        "        return (x | y)\n",
        "      def hyperbolic(x,y):\n",
        "          return ((x - y) ** 2).sum(-1) / (x[0] * y[0])\n",
        "      if metric=='euclidean':\n",
        "        return euclidean\n",
        "      elif metric=='manhattan':\n",
        "        return manhattan\n",
        "      elif metric=='angular':\n",
        "        return angular\n",
        "      elif metric=='hyperbolic':\n",
        "        return hyperbolic      \n",
        "      else:\n",
        "        raise ValueError('Unknown metric')  \n",
        "\n",
        "    @staticmethod\n",
        "    def sort(x):\n",
        "      perm=np.argsort(x)\n",
        "      return x[perm],perm\n",
        "\n",
        "    @staticmethod\n",
        "    def unsqueeze(x,n):\n",
        "      return np.expand_dims(x,n)\n",
        "\n",
        "    @staticmethod\n",
        "    def arange(n,device=\"cpu\"):\n",
        "      return np.arange(n)\n",
        "\n",
        "    @staticmethod\n",
        "    def repeat(x,n):\n",
        "      return np.repeat(x,n)\n",
        "      \n",
        "    @staticmethod\n",
        "    def to(x,device):\n",
        "      return x\n",
        "      \n",
        "    @staticmethod\n",
        "    def index_select(input,dim,index):\n",
        "      return np.take(input,index,axis=dim)\n",
        "\n",
        "    @staticmethod\n",
        "    def norm(x,p=2,dim=-1):\n",
        "      return np.linalg.norm(x,ord=p,axis=dim)\n",
        "\n",
        "    @staticmethod\n",
        "    def kmeans(x,K=10,Niter=15,metric='euclidean',device='CPU'):\n",
        "      from pykeops.numpy import LazyTensor\n",
        "      distance=numpytools.distance_function(metric)    \n",
        "      N, D = x.shape  \n",
        "      c = np.copy(x[:K, :])  \n",
        "      x_i = LazyTensor(x[:, None, :])  \n",
        "      for i in range(Niter):\n",
        "          c_j = LazyTensor(c[None, :, :])  \n",
        "          D_ij=distance(x_i,c_j)\n",
        "          D_ij.backend=device      \n",
        "          cl = D_ij.argmin(axis=1).astype(int).reshape(N) \n",
        "          Ncl = np.bincount(cl).astype(dtype = \"float32\") \n",
        "          for d in range(D): \n",
        "              c[:, d] = np.bincount(cl, weights=x[:, d]) / Ncl\n",
        "      return cl, c   "
      ],
      "execution_count": null,
      "outputs": []
    },
    {
      "cell_type": "code",
      "metadata": {
        "id": "Mk5i6HpVrgZF"
      },
      "source": [
        "class GenericIVF:\n",
        "    def __init__(\n",
        "        self, k, metric, normalise, LazyTensor, cluster_ranges_centroids, from_matrix\n",
        "    ):\n",
        "        self.__k = k\n",
        "        self.__normalise = normalise\n",
        "        self.__distance = self.tools.distance_function(metric)\n",
        "        self.__metric = metric\n",
        "        self.__LazyTensor = LazyTensor\n",
        "        self.__cluster_ranges_centroids = cluster_ranges_centroids\n",
        "        self.__from_matrix = from_matrix\n",
        "\n",
        "    def __get_tools(self):\n",
        "        pass\n",
        "\n",
        "    def __k_argmin(self, x, y, k=1):\n",
        "        x_LT = self.__LazyTensor(\n",
        "            self.tools.to(self.tools.unsqueeze(x, 1), self.__device)\n",
        "        )\n",
        "        y_LT = self.__LazyTensor(\n",
        "            self.tools.to(self.tools.unsqueeze(y, 0), self.__device)\n",
        "        )\n",
        "\n",
        "        d = self.__distance(x_LT, y_LT)\n",
        "        if not self.tools.is_tensor(x):\n",
        "            if self.__backend:\n",
        "                d.backend = self.__backend\n",
        "\n",
        "        if k == 1:\n",
        "            return self.tools.view(self.tools.long(d.argmin(dim=1)), -1)\n",
        "        else:\n",
        "            return self.tools.long(d.argKmin(K=k, dim=1))\n",
        "\n",
        "    def __sort_clusters(self, x, lab, store_x=True):\n",
        "        lab, perm = self.tools.sort(self.tools.view(lab, -1))\n",
        "        if store_x:\n",
        "            self.__x_perm = perm\n",
        "        else:\n",
        "            self.__y_perm = perm\n",
        "        return x[perm], lab\n",
        "\n",
        "    def __unsort(self, nn):\n",
        "        return self.tools.index_select(self.__x_perm[nn], 0, self.__y_perm.argsort())\n",
        "\n",
        "    def _fit(self, x, clusters=50, a=5, Niter=15, device=None, backend=None):\n",
        "        \"\"\"\n",
        "        Fits the main dataset\n",
        "        \"\"\"\n",
        "        if type(clusters) != int:\n",
        "            raise ValueError(\"Clusters must be an integer\")\n",
        "        if clusters >= len(x):\n",
        "            raise ValueError(\"Number of clusters must be less than length of dataset\")\n",
        "        if type(a) != int:\n",
        "            raise ValueError(\"Number of clusters to search over must be an integer\")\n",
        "        if a > clusters:\n",
        "            raise ValueError(\n",
        "                \"Number of clusters to search over must be less than total number of clusters\"\n",
        "            )\n",
        "        if len(x.shape) != 2:\n",
        "            raise ValueError(\"Input must be a 2D array\")\n",
        "        if self.__normalise:\n",
        "            x = x / self.tools.repeat(self.tools.norm(x, 2, -1), x.shape[1]).reshape(\n",
        "                -1, x.shape[1]\n",
        "            )\n",
        "        x = self.tools.contiguous(x)\n",
        "        self.__device = device\n",
        "        self.__backend = backend\n",
        "\n",
        "        cl, c = self.tools.kmeans(\n",
        "            x, clusters, Niter=Niter, metric=self.__metric, device=self.__device\n",
        "        )\n",
        "\n",
        "        self.__c = c\n",
        "\n",
        "        cl = self.__assign(x)\n",
        "\n",
        "        ncl = self.__k_argmin(c, c, k=a)\n",
        "        self.__x_ranges, _, _ = self.__cluster_ranges_centroids(x, cl)\n",
        "\n",
        "        x, x_labels = self.__sort_clusters(x, cl, store_x=True)\n",
        "        self.__x = x\n",
        "        r = self.tools.repeat(self.tools.arange(clusters, device=self.__device), a)\n",
        "        self.__keep = self.tools.zeros(\n",
        "            [clusters, clusters], dtype=bool, device=self.__device\n",
        "        )\n",
        "        self.__keep[r, ncl.flatten()] = True\n",
        "\n",
        "        return self\n",
        "\n",
        "    def __assign(self, x, c=None):\n",
        "        if c is None:\n",
        "            c = self.__c\n",
        "        return self.__k_argmin(x, c)\n",
        "\n",
        "    def _kneighbors(self, y):\n",
        "        \"\"\"\n",
        "        Obtain the k nearest neighbors of the query dataset y\n",
        "        \"\"\"\n",
        "        if self.__x is None:\n",
        "            raise ValueError(\"Input dataset not fitted yet! Call .fit() first!\")\n",
        "        if self.__device and self.tools.device(y) != self.__device:\n",
        "            raise ValueError(\"Input dataset and query dataset must be on same device\")\n",
        "        if len(y.shape) != 2:\n",
        "            raise ValueError(\"Query dataset must be a 2D tensor\")\n",
        "        if self.__x.shape[-1] != y.shape[-1]:\n",
        "            raise ValueError(\"Query and dataset must have same dimensions\")\n",
        "        if self.__normalise:\n",
        "            y = y / self.tools.repeat(self.tools.norm(y, 2, -1), y.shape[1]).reshape(\n",
        "                -1, y.shape[1]\n",
        "            )\n",
        "        y = self.tools.contiguous(y)\n",
        "        y_labels = self.__assign(y)\n",
        "\n",
        "        y_ranges, _, _ = self.__cluster_ranges_centroids(y, y_labels)\n",
        "        self.__y_ranges = y_ranges\n",
        "        y, y_labels = self.__sort_clusters(y, y_labels, store_x=False)\n",
        "        x_LT = self.__LazyTensor(self.tools.unsqueeze(self.__x, 0))\n",
        "        y_LT = self.__LazyTensor(self.tools.unsqueeze(y, 1))\n",
        "        D_ij = self.__distance(y_LT, x_LT)\n",
        "        ranges_ij = self.__from_matrix(y_ranges, self.__x_ranges, self.__keep)\n",
        "        D_ij.ranges = ranges_ij\n",
        "        nn = D_ij.argKmin(K=self.__k, axis=1)\n",
        "        return self.__unsort(nn)\n",
        "\n",
        "    def brute_force(self, x, y, k=5):\n",
        "        x_LT = self.__LazyTensor(self.tools.unsqueeze(x, 0))\n",
        "        y_LT = self.__LazyTensor(self.tools.unsqueeze(y, 1))\n",
        "        D_ij = self.__distance(y_LT, x_LT)\n",
        "        return D_ij.argKmin(K=k, axis=1)\n",
        "    "
      ],
      "execution_count": null,
      "outputs": []
    },
    {
      "cell_type": "code",
      "metadata": {
        "id": "hV4wJVSYrlso"
      },
      "source": [
        "class IVF(GenericIVF):\n",
        "    def __init__(self, k=5, metric=\"euclidean\", normalise=False):\n",
        "        self.__get_tools()\n",
        "        super().__init__(\n",
        "            k=k,\n",
        "            metric=metric,\n",
        "            normalise=normalise,\n",
        "            LazyTensor=LazyTensor,\n",
        "            cluster_ranges_centroids=cluster_ranges_centroids,\n",
        "            from_matrix=from_matrix,\n",
        "        )\n",
        "\n",
        "    def __get_tools(self):\n",
        "        self.tools = numpytools\n",
        "\n",
        "    def fit(self, x, clusters=50, a=5, Niter=15, backend=\"CPU\"):\n",
        "        if type(x) != np.ndarray:\n",
        "            raise ValueError(\"Input dataset must be a np array\")\n",
        "        return self._fit(x, clusters=clusters, a=a, Niter=Niter, backend=backend)\n",
        "\n",
        "    def kneighbors(self, y):\n",
        "        if type(y) != np.ndarray:\n",
        "            raise ValueError(\"Query dataset must be a np array\")\n",
        "        return self._kneighbors(y)"
      ],
      "execution_count": null,
      "outputs": []
    },
    {
      "cell_type": "markdown",
      "metadata": {
        "id": "No9rut-icN-q"
      },
      "source": [
        "k means cluster\n",
        "take closest a clusters, a=5\n",
        "brute force search"
      ]
    },
    {
      "cell_type": "code",
      "metadata": {
        "id": "7YKUhWJkP75m"
      },
      "source": [
        "#data generation\n",
        "np.random.seed(0)\n",
        "\n",
        "N, D, K , k= 10**4, 3, 50,5\n",
        "x=2*np.random.rand(N,D)+0.3\n",
        "y=2*np.random.rand(N,D)+0.3"
      ],
      "execution_count": null,
      "outputs": []
    },
    {
      "cell_type": "code",
      "metadata": {
        "id": "_gv94ZU16acR"
      },
      "source": [
        "import torch\n",
        "torch.manual_seed(15)\n",
        "device=torch.device(\"cuda\")\n",
        "N, D, K , k= 10**4, 3, 50,5\n",
        "x = 0.7 * torch.randn(N, D)+ 0.3\n",
        "y = 0.7 * torch.randn(N, D)+ 0.3\n",
        "x=x.numpy()\n",
        "y=y.numpy()"
      ],
      "execution_count": null,
      "outputs": []
    },
    {
      "cell_type": "code",
      "metadata": {
        "id": "35zSNEoxhj5J",
        "colab": {
          "base_uri": "https://localhost:8080/"
        },
        "outputId": "62f568e6-a8a3-42ce-c539-2c5ed020aaa9"
      },
      "source": [
        "nn1=np.argsort(((np.expand_dims(y,1)-np.expand_dims(x,0))**2).sum(-1),axis=1)\n",
        "print(nn1)"
      ],
      "execution_count": null,
      "outputs": [
        {
          "output_type": "stream",
          "text": [
            "[[2354 4503 6926 ...   29 8892 7505]\n",
            " [5698 1085 6296 ... 3624 7062 7271]\n",
            " [6456 7506 7576 ... 5944 8570 8838]\n",
            " ...\n",
            " [9559 4046 8921 ... 7505   29 8892]\n",
            " [9330 1222 5984 ...  622 7062 7271]\n",
            " [2284 8269 3810 ... 3624 7062 7271]]\n"
          ],
          "name": "stdout"
        }
      ]
    },
    {
      "cell_type": "code",
      "metadata": {
        "id": "Kt-JMrVSmdm9",
        "colab": {
          "base_uri": "https://localhost:8080/"
        },
        "outputId": "a1936402-5af2-4039-ab6b-ba699bdde425"
      },
      "source": [
        "test=IVF(metric='euclidean',normalise=False)\n",
        "test.fit(x,backend='GPU')\n",
        "nn2=test.kneighbors(y)\n",
        "print(nn2)"
      ],
      "execution_count": null,
      "outputs": [
        {
          "output_type": "stream",
          "text": [
            "[[2354 4503 6926 5799 7265]\n",
            " [5698 1085 6296 6336 8710]\n",
            " [6456 7506 7576 5467 4879]\n",
            " ...\n",
            " [9559 4046 8921  598 1046]\n",
            " [9330 1222 5984 5023  116]\n",
            " [2284 8269 3810  238 6207]]\n"
          ],
          "name": "stdout"
        }
      ]
    },
    {
      "cell_type": "code",
      "metadata": {
        "colab": {
          "base_uri": "https://localhost:8080/"
        },
        "id": "ZzaGTvko9OZe",
        "outputId": "f8a11f27-0c8a-4706-8a19-cce05b80767f"
      },
      "source": [
        "#approximately correct only \n",
        "print(nn1[0:5,:5])\n",
        "print(nn2[0:5])\n",
        "print(np.count_nonzero(nn1[:,:5]==nn2)/(len(nn2)*5))"
      ],
      "execution_count": null,
      "outputs": [
        {
          "output_type": "stream",
          "text": [
            "[[2354 4503 6926 5799 7265]\n",
            " [5698 1085 6296 6336 8710]\n",
            " [6456 7506 7576 5467 4879]\n",
            " [6305 2549 3877 6360 5194]\n",
            " [  46 4347 2605 2419 9014]]\n",
            "[[2354 4503 6926 5799 7265]\n",
            " [5698 1085 6296 6336 8710]\n",
            " [6456 7506 7576 5467 4879]\n",
            " [6305 2549 6360 5194 1655]\n",
            " [  46 4347 2605 2419 9014]]\n",
            "0.87512\n"
          ],
          "name": "stdout"
        }
      ]
    },
    {
      "cell_type": "code",
      "metadata": {
        "colab": {
          "base_uri": "https://localhost:8080/"
        },
        "id": "vkxzEMgoYXsG",
        "outputId": "92b16ce6-b99e-4585-cc90-3febc8da8c50"
      },
      "source": [
        "np.all(test.brute(x,y)==nn1[:,:5])\n",
        "#reduce is fully correct"
      ],
      "execution_count": null,
      "outputs": [
        {
          "output_type": "execute_result",
          "data": {
            "text/plain": [
              "True"
            ]
          },
          "metadata": {
            "tags": []
          },
          "execution_count": 83
        }
      ]
    },
    {
      "cell_type": "code",
      "metadata": {
        "id": "RFG2hS79ZYED"
      },
      "source": [
        "#data generation\n",
        "torch.manual_seed(0)\n",
        "device=torch.device(\"cuda\")\n",
        "N, D, K , k= 10**6, 3, 50,5\n",
        "x = 0.7 * torch.randn(N, D, dtype=dtype).to(device) + 0.3\n",
        "y = 0.7 * torch.randn(N, D, dtype=dtype).to(device) + 0.3\n",
        "ground_truth=test.nn(x,y)"
      ],
      "execution_count": null,
      "outputs": []
    },
    {
      "cell_type": "code",
      "metadata": {
        "colab": {
          "base_uri": "https://localhost:8080/"
        },
        "id": "K_K14Y720uA7",
        "outputId": "51ad4cf4-d1fc-4015-c80b-e51f6dbc528a"
      },
      "source": [
        "#varying a, number of clusters to search over\n",
        "fit_times=[]\n",
        "search_times=[]\n",
        "acc_list=[]\n",
        "r=range(1,11)\n",
        "for a in r:\n",
        "  print('Testing a =',str(a))\n",
        "  start=time.time()\n",
        "  t=IVF_flat()\n",
        "  t.fit(x,a=a)\n",
        "  fit_times.append(time.time()-start)\n",
        "  start=time.time()\n",
        "  z=t.kneighbors(y)\n",
        "  search_times.append(time.time()-start)\n",
        "  acc=torch.count_nonzero(z==ground_truth[:,:k])/(N*k) #naive calculation\n",
        "  acc_list.append(float(acc))"
      ],
      "execution_count": null,
      "outputs": [
        {
          "output_type": "stream",
          "text": [
            "Testing a = 1\n",
            "Testing a = 2\n",
            "Compiling libKeOpstorchc179ea874b in /root/.cache/pykeops-1.4.2-cpython-36:\n",
            "       formula: ArgKMin_Reduction(Sum(Square((Var(0,3,0) - Var(1,3,1)))),2,0)\n",
            "       aliases: Var(0,3,0); Var(1,3,1); \n",
            "       dtype  : float32\n",
            "... Done.\n",
            "Testing a = 3\n",
            "Compiling libKeOpstorch59e507af78 in /root/.cache/pykeops-1.4.2-cpython-36:\n",
            "       formula: ArgKMin_Reduction(Sum(Square((Var(0,3,0) - Var(1,3,1)))),3,0)\n",
            "       aliases: Var(0,3,0); Var(1,3,1); \n",
            "       dtype  : float32\n",
            "... Done.\n",
            "Testing a = 4\n",
            "Compiling libKeOpstorch58540a9ddc in /root/.cache/pykeops-1.4.2-cpython-36:\n",
            "       formula: ArgKMin_Reduction(Sum(Square((Var(0,3,0) - Var(1,3,1)))),4,0)\n",
            "       aliases: Var(0,3,0); Var(1,3,1); \n",
            "       dtype  : float32\n",
            "... Done.\n",
            "Testing a = 5\n",
            "Testing a = 6\n",
            "Compiling libKeOpstorchbd0b296fd6 in /root/.cache/pykeops-1.4.2-cpython-36:\n",
            "       formula: ArgKMin_Reduction(Sum(Square((Var(0,3,0) - Var(1,3,1)))),6,0)\n",
            "       aliases: Var(0,3,0); Var(1,3,1); \n",
            "       dtype  : float32\n",
            "... Done.\n",
            "Testing a = 7\n",
            "Compiling libKeOpstorch13b836830b in /root/.cache/pykeops-1.4.2-cpython-36:\n",
            "       formula: ArgKMin_Reduction(Sum(Square((Var(0,3,0) - Var(1,3,1)))),7,0)\n",
            "       aliases: Var(0,3,0); Var(1,3,1); \n",
            "       dtype  : float32\n",
            "... Done.\n",
            "Testing a = 8\n",
            "Compiling libKeOpstorch6d2775d5e2 in /root/.cache/pykeops-1.4.2-cpython-36:\n",
            "       formula: ArgKMin_Reduction(Sum(Square((Var(0,3,0) - Var(1,3,1)))),8,0)\n",
            "       aliases: Var(0,3,0); Var(1,3,1); \n",
            "       dtype  : float32\n",
            "... Done.\n",
            "Testing a = 9\n",
            "Compiling libKeOpstorch0fc9860b55 in /root/.cache/pykeops-1.4.2-cpython-36:\n",
            "       formula: ArgKMin_Reduction(Sum(Square((Var(0,3,0) - Var(1,3,1)))),9,0)\n",
            "       aliases: Var(0,3,0); Var(1,3,1); \n",
            "       dtype  : float32\n",
            "... Done.\n",
            "Testing a = 10\n",
            "Compiling libKeOpstorch22e5d25f3d in /root/.cache/pykeops-1.4.2-cpython-36:\n",
            "       formula: ArgKMin_Reduction(Sum(Square((Var(0,3,0) - Var(1,3,1)))),10,0)\n",
            "       aliases: Var(0,3,0); Var(1,3,1); \n",
            "       dtype  : float32\n",
            "... Done.\n"
          ],
          "name": "stdout"
        }
      ]
    },
    {
      "cell_type": "code",
      "metadata": {
        "colab": {
          "base_uri": "https://localhost:8080/",
          "height": 390
        },
        "id": "cJBXJVgzTH-e",
        "outputId": "7013884e-c6c1-4a50-aed2-d9ee4fbadb95"
      },
      "source": [
        "plt.figure(figsize=[18,6])\n",
        "plt.subplot(1,3,1)\n",
        "plt.title('Fit time')\n",
        "\n",
        "plt.plot(list(r),fit_times)\n",
        "plt.subplot(1,3,2)\n",
        "plt.title('Search time')\n",
        "plt.plot(list(r),search_times)\n",
        "plt.subplot(1,3,3)\n",
        "plt.title('Accuracy')\n",
        "plt.plot(list(r),acc_list)\n",
        "plt.show()\n"
      ],
      "execution_count": null,
      "outputs": [
        {
          "output_type": "display_data",
          "data": {
            "image/png": "[encoded data removed]",
            "text/plain": [
              "<Figure size 1296x432 with 3 Axes>"
            ]
          },
          "metadata": {
            "tags": [],
            "needs_background": "light"
          }
        }
      ]
    },
    {
      "cell_type": "code",
      "metadata": {
        "id": "a8IzXXaAdZ0q"
      },
      "source": [
        "#crashed upon size 10**7 \n",
        "#need to fix this or we can't BM large sets\n",
        "torch.manual_seed(0)\n",
        "N, D, K = 10**7, 3, 50\n",
        "\n",
        "x = 0.7 * torch.randn(N, D, dtype=dtype) + 0.3\n",
        "y = 0.7 * torch.randn(N, D, dtype=dtype) + 0.3\n",
        "start=time.time()\n",
        "t=IVF_flat()\n",
        "t.fit(x)\n",
        "print('fit time',time.time()-start)\n",
        "start=time.time()\n",
        "t.kneighbors(y)\n",
        "print('search time:',time.time()-start)"
      ],
      "execution_count": null,
      "outputs": []
    }
  ]
}