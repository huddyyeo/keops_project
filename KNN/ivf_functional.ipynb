{
  "nbformat": 4,
  "nbformat_minor": 0,
  "metadata": {
    "colab": {
      "name": "ivf_functional.ipynb",
      "provenance": [],
      "collapsed_sections": []
    },
    "kernelspec": {
      "name": "python3",
      "display_name": "Python 3"
    },
    "accelerator": "GPU"
  },
  "cells": [
    {
      "cell_type": "code",
      "metadata": {
        "colab": {
          "base_uri": "https://localhost:8080/"
        },
        "id": "r_KYgrAPQNiR",
        "outputId": "bf491b78-94b6-48e5-98b6-a039a331bd6b"
      },
      "source": [
        "!pip install sphinx\n",
        "!pip install pykeops[full] > install.log\n",
        "import matplotlib.pyplot as plt\n",
        "\n",
        "import pykeops\n",
        "pykeops.clean_pykeops()\n",
        "import time\n",
        "import torch\n",
        "from pykeops.torch import LazyTensor\n",
        "import numpy as np\n",
        "from pykeops.torch.cluster import cluster_ranges_centroids\n",
        "from pykeops.torch.cluster import sort_clusters\n",
        "from pykeops.torch.cluster import from_matrix\n",
        "use_cuda = torch.cuda.is_available()\n",
        "dtype = torch.float32 if use_cuda else torch.float64\n",
        "if use_cuda:\n",
        "    torch.cuda.synchronize()"
      ],
      "execution_count": 96,
      "outputs": [
        {
          "output_type": "stream",
          "text": [
            "Requirement already satisfied: sphinx in /usr/local/lib/python3.6/dist-packages (1.8.5)\n",
            "Requirement already satisfied: setuptools in /usr/local/lib/python3.6/dist-packages (from sphinx) (53.0.0)\n",
            "Requirement already satisfied: alabaster<0.8,>=0.7 in /usr/local/lib/python3.6/dist-packages (from sphinx) (0.7.12)\n",
            "Requirement already satisfied: Jinja2>=2.3 in /usr/local/lib/python3.6/dist-packages (from sphinx) (2.11.3)\n",
            "Requirement already satisfied: sphinxcontrib-websupport in /usr/local/lib/python3.6/dist-packages (from sphinx) (1.2.4)\n",
            "Requirement already satisfied: docutils>=0.11 in /usr/local/lib/python3.6/dist-packages (from sphinx) (0.16)\n",
            "Requirement already satisfied: packaging in /usr/local/lib/python3.6/dist-packages (from sphinx) (20.9)\n",
            "Requirement already satisfied: Pygments>=2.0 in /usr/local/lib/python3.6/dist-packages (from sphinx) (2.6.1)\n",
            "Requirement already satisfied: six>=1.5 in /usr/local/lib/python3.6/dist-packages (from sphinx) (1.15.0)\n",
            "Requirement already satisfied: imagesize in /usr/local/lib/python3.6/dist-packages (from sphinx) (1.2.0)\n",
            "Requirement already satisfied: requests>=2.0.0 in /usr/local/lib/python3.6/dist-packages (from sphinx) (2.23.0)\n",
            "Requirement already satisfied: snowballstemmer>=1.1 in /usr/local/lib/python3.6/dist-packages (from sphinx) (2.1.0)\n",
            "Requirement already satisfied: babel!=2.0,>=1.3 in /usr/local/lib/python3.6/dist-packages (from sphinx) (2.9.0)\n",
            "Requirement already satisfied: MarkupSafe>=0.23 in /usr/local/lib/python3.6/dist-packages (from Jinja2>=2.3->sphinx) (1.1.1)\n",
            "Requirement already satisfied: sphinxcontrib-serializinghtml in /usr/local/lib/python3.6/dist-packages (from sphinxcontrib-websupport->sphinx) (1.1.4)\n",
            "Requirement already satisfied: pyparsing>=2.0.2 in /usr/local/lib/python3.6/dist-packages (from packaging->sphinx) (2.4.7)\n",
            "Requirement already satisfied: urllib3!=1.25.0,!=1.25.1,<1.26,>=1.21.1 in /usr/local/lib/python3.6/dist-packages (from requests>=2.0.0->sphinx) (1.24.3)\n",
            "Requirement already satisfied: chardet<4,>=3.0.2 in /usr/local/lib/python3.6/dist-packages (from requests>=2.0.0->sphinx) (3.0.4)\n",
            "Requirement already satisfied: idna<3,>=2.5 in /usr/local/lib/python3.6/dist-packages (from requests>=2.0.0->sphinx) (2.10)\n",
            "Requirement already satisfied: certifi>=2017.4.17 in /usr/local/lib/python3.6/dist-packages (from requests>=2.0.0->sphinx) (2020.12.5)\n",
            "Requirement already satisfied: pytz>=2015.7 in /usr/local/lib/python3.6/dist-packages (from babel!=2.0,>=1.3->sphinx) (2018.9)\n",
            "Cleaning /root/.cache/pykeops-1.4.2-cpython-36/...\n",
            "    - /root/.cache/pykeops-1.4.2-cpython-36/libKeOpstorcha49c4bfa8c.so has been removed.\n",
            "    - /root/.cache/pykeops-1.4.2-cpython-36/libKeOpstorch29a3621b4f.cpython-36m-x86_64-linux-gnu.so has been removed.\n",
            "    - /root/.cache/pykeops-1.4.2-cpython-36/libKeOpstorch29a3621b4f.so has been removed.\n",
            "    - /root/.cache/pykeops-1.4.2-cpython-36/libKeOpstorch12a47ed644.cpython-36m-x86_64-linux-gnu.so has been removed.\n",
            "    - /root/.cache/pykeops-1.4.2-cpython-36/keops_hash.log has been removed.\n",
            "    - /root/.cache/pykeops-1.4.2-cpython-36/libKeOpstorcha49c4bfa8c.cpython-36m-x86_64-linux-gnu.so has been removed.\n",
            "    - /root/.cache/pykeops-1.4.2-cpython-36/libKeOpstorch12a47ed644.so has been removed.\n"
          ],
          "name": "stdout"
        }
      ]
    },
    {
      "cell_type": "code",
      "metadata": {
        "id": "-HNr9MReQVNM"
      },
      "source": [
        "def KMeans(x, K=10, Niter=15, verbose=False):\n",
        "    \"\"\"Implements Lloyd's algorithm for the Euclidean metric.\"\"\"\n",
        "\n",
        "    start = time.time()\n",
        "    N, D = x.shape  # Number of samples, dimension of the ambient space\n",
        "\n",
        "    c = x[:K, :].clone()  # Simplistic initialization for the centroids\n",
        "\n",
        "    x_i = LazyTensor(x.view(N, 1, D))  # (N, 1, D) samples\n",
        "    c_j = LazyTensor(c.view(1, K, D))  # (1, K, D) centroids\n",
        "\n",
        "    # K-means loop:\n",
        "    # - x  is the (N, D) point cloud,\n",
        "    # - cl is the (N,) vector of class labels\n",
        "    # - c  is the (K, D) cloud of cluster centroids\n",
        "    for i in range(Niter):\n",
        "\n",
        "        # E step: assign points to the closest cluster -------------------------\n",
        "        D_ij = ((x_i - c_j) ** 2).sum(-1)  # (N, K) symbolic squared distances\n",
        "        cl = D_ij.argmin(dim=1).long().view(-1)  # Points -> Nearest cluster\n",
        "\n",
        "        # M step: update the centroids to the normalized cluster average: ------\n",
        "        # Compute the sum of points per cluster:\n",
        "        c.zero_() #sets c to 0\n",
        "        #scatter_add_(dim,index,src) \n",
        "        #https://pytorch-scatter.readthedocs.io/en/1.3.0/functions/add.html\n",
        "        #adds elements of a source by allocating using a indexing vector\n",
        "        c.scatter_add_(0, cl[:, None].repeat(1, D), x) #[50,2], obtains the sum of all values that are in the same cluster\n",
        "        #repeat basically duplicates the whole vector once and concatenates to itself\n",
        "\n",
        "        # Divide by the number of points per cluster:\n",
        "        Ncl = torch.bincount(cl, minlength=K).type_as(c).view(K, 1)#bincount gives number of bins per cluster\n",
        "        c /= Ncl  # in-place division to compute the average\n",
        "\n",
        "    if verbose:  # Fancy display -----------------------------------------------\n",
        "        if use_cuda:\n",
        "            torch.cuda.synchronize()\n",
        "        end = time.time()\n",
        "        print(\n",
        "            f\"K-means for the Euclidean metric with {N:,} points in dimension {D:,}, K = {K:,}:\"\n",
        "        )\n",
        "        print(\n",
        "            \"Timing for {} iterations: {:.5f}s = {} x {:.5f}s\\n\".format(\n",
        "                Niter, end - start, Niter, (end - start) / Niter\n",
        "            )\n",
        "        )\n",
        "\n",
        "    return cl, c\n",
        "\n",
        "def k_argmin(x,y,k=5):\n",
        "  x_LT=LazyTensor(x.unsqueeze(1))\n",
        "  y_LT=LazyTensor(y.unsqueeze(0))\n",
        "  d=((x_LT-y_LT)**2).sum(-1)\n",
        "  return d.argmin(dim=1).long().view(-1)   \n",
        "\n",
        "def k_argmin_torch(x,y,k=5):\n",
        "  d=((x.unsqueeze(1)-y.unsqueeze(0))**2).sum(-1)\n",
        "  sort,idx=torch.sort(d,dim=1)\n",
        "  return idx[:,:k]   "
      ],
      "execution_count": 73,
      "outputs": []
    },
    {
      "cell_type": "code",
      "metadata": {
        "id": "Cj5gojqeXthn"
      },
      "source": [
        "class IVF_flat():\n",
        "  def __init__(self,k=5):\n",
        "    self.c=None\n",
        "    self.cl=None\n",
        "    self.k=k\n",
        "    self.ncl=None\n",
        "    self.x=None\n",
        "    self.keep=None\n",
        "    self.x_ranges=None\n",
        "  def fit(self,x,use_torch=True,clusters=50,a=5):\n",
        "    \n",
        "    cl, c = KMeans(x,clusters)\n",
        "\n",
        "    self.c=c\n",
        "    #update cluster assignment\n",
        "    if use_torch:\n",
        "      d=((x.unsqueeze(1)-c.unsqueeze(0))**2).sum(-1)\n",
        "      self.cl=torch.argmin(d,dim=1)\n",
        "    else:\n",
        "      self.cl=k_argmin(x,c)\n",
        "    if use_cuda:\n",
        "        torch.cuda.synchronize()\n",
        "\n",
        "    #get KNN graph for the clusters\n",
        "    if use_torch:\n",
        "\n",
        "      self.ncl=k_argmin_torch(c,c,k=a)\n",
        "    else:\n",
        "        \n",
        "      c1=LazyTensor(c.unsqueeze(1)) \n",
        "      c2=LazyTensor(c.unsqueeze(0))\n",
        "      d=((c1-c2)** 2).sum(-1)\n",
        "      self.ncl=d.argKmin(K=a,dim=1) #get a nearest clusters\n",
        "\n",
        "    #get the ranges and centroids \n",
        "    self.x_ranges, _, _ = cluster_ranges_centroids(x, self.cl)\n",
        "\n",
        "    #\n",
        "    \n",
        "    x, x_labels = sort_clusters(x,self.cl) #sort dataset to match ranges\n",
        "    self.x=LazyTensor(x.unsqueeze(1))#store dataset\n",
        "      \n",
        "    r=torch.arange(clusters).repeat(a,1).T.reshape(-1).long()\n",
        "    self.keep= torch.zeros([clusters,clusters], dtype=torch.bool)    \n",
        "   \n",
        "    self.keep[r,self.ncl.flatten()]=True        \n",
        "\n",
        "    return self\n",
        "  def sorted(self,x,labels=None):\n",
        "    if labels is None:\n",
        "      labels=self.cl\n",
        "    x,_=sort_clusters(x,labels)\n",
        "    return x\n",
        "  def clusters(self):\n",
        "    return self.c\n",
        "  def assign(self,x,c=None):\n",
        "    if c is None:\n",
        "      c=self.c\n",
        "    return k_argmin(x,c,self.k)\n",
        "    \n",
        "  def kneighbors(self,y):\n",
        "    if use_cuda:\n",
        "        torch.cuda.synchronize()\n",
        "    d=((y.unsqueeze(1)-self.c.unsqueeze(0))**2).sum(-1)\n",
        "    y_labels=torch.argmin(d,dim=1)\n",
        "\n",
        "    y_ranges,_,_ = cluster_ranges_centroids(y, self.cl)\n",
        "    \n",
        "    y, y_labels = sort_clusters(y, y_labels)   \n",
        "    \n",
        "    ranges_ij = from_matrix(self.x_ranges, y_ranges, self.keep)    \n",
        "\n",
        "    y_LT=LazyTensor(y.unsqueeze(0))\n",
        "    D_ij=((y_LT-self.x)**2).sum(-1) \n",
        "    D_ij.ranges=ranges_ij\n",
        "    return D_ij.argKmin(K=self.k,axis=1)"
      ],
      "execution_count": 84,
      "outputs": []
    },
    {
      "cell_type": "code",
      "metadata": {
        "id": "gURVF_moKC9N"
      },
      "source": [
        "#get ground truth label\n",
        "torch.manual_seed(0)\n",
        "N, D, K , k= 10**6, 3, 50,5\n",
        "x = 0.7 * torch.randn(N, D, dtype=dtype) + 0.3\n",
        "y = 0.7 * torch.randn(N, D, dtype=dtype) + 0.3\n",
        "\n",
        "test=IVF_flat()\n",
        "test.fit(x)\n",
        "x=test.sorted(x)\n",
        "labels=test.assign(y)\n",
        "y=test.sorted(y,labels)\n",
        "test=IVF_flat()\n",
        "test.fit(x)\n",
        "x_LT=LazyTensor(x.unsqueeze(1))\n",
        "y_LT=LazyTensor(y.unsqueeze(0))\n",
        "D_ij=((y_LT-x_LT)**2).sum(-1) \n",
        "ground_truth=D_ij.argKmin(K=k,axis=1)"
      ],
      "execution_count": 112,
      "outputs": []
    },
    {
      "cell_type": "code",
      "metadata": {
        "colab": {
          "base_uri": "https://localhost:8080/"
        },
        "id": "-1v_VyGAO_7S",
        "outputId": "44a8c44a-b026-45fc-a549-34af918b7b6a"
      },
      "source": [
        "ground_truth"
      ],
      "execution_count": 113,
      "outputs": [
        {
          "output_type": "execute_result",
          "data": {
            "text/plain": [
              "tensor([[  6329,   9831,   9597,  10811,   4563],\n",
              "        [  4832,   5524,  12924,   3853,   9790],\n",
              "        [  7903,   5699,  12175,   7535,   3580],\n",
              "        ...,\n",
              "        [993170, 990414, 997962, 988703, 995487],\n",
              "        [993393, 992175, 989179, 992743, 988151],\n",
              "        [987228, 998257, 987172, 996429, 990372]])"
            ]
          },
          "metadata": {
            "tags": []
          },
          "execution_count": 113
        }
      ]
    },
    {
      "cell_type": "code",
      "metadata": {
        "id": "7YKUhWJkP75m"
      },
      "source": [
        "#reset sorted data\n",
        "torch.manual_seed(0)\n",
        "N, D, K , k= 10**6, 3, 50,5\n",
        "x = 0.7 * torch.randn(N, D, dtype=dtype) + 0.3\n",
        "y = 0.7 * torch.randn(N, D, dtype=dtype) + 0.3"
      ],
      "execution_count": 118,
      "outputs": []
    },
    {
      "cell_type": "code",
      "metadata": {
        "colab": {
          "base_uri": "https://localhost:8080/"
        },
        "id": "K_K14Y720uA7",
        "outputId": "8aee164f-94af-41e6-b880-ca098f045137"
      },
      "source": [
        "#varying a, number of clusters to search over\n",
        "fit_times=[]\n",
        "search_times=[]\n",
        "acc_list=[]\n",
        "r=range(1,11)\n",
        "for a in r:\n",
        "  print('Testing a =',str(a))\n",
        "  start=time.time()\n",
        "  t=IVF_flat()\n",
        "  t.fit(x,a=a)\n",
        "  fit_times.append(time.time()-start)\n",
        "  start=time.time()\n",
        "  z=t.kneighbors(y)\n",
        "  search_times.append(time.time()-start)\n",
        "  acc=torch.count_nonzero(z==ground_truth[:,:k])/(N*k)\n",
        "  acc_list.append(float(acc))"
      ],
      "execution_count": 119,
      "outputs": [
        {
          "output_type": "stream",
          "text": [
            "Testing a = 1\n",
            "Testing a = 2\n",
            "Testing a = 3\n",
            "Testing a = 4\n",
            "Testing a = 5\n",
            "Testing a = 6\n",
            "Testing a = 7\n",
            "Testing a = 8\n",
            "Testing a = 9\n",
            "Testing a = 10\n"
          ],
          "name": "stdout"
        }
      ]
    },
    {
      "cell_type": "code",
      "metadata": {
        "colab": {
          "base_uri": "https://localhost:8080/",
          "height": 390
        },
        "id": "cJBXJVgzTH-e",
        "outputId": "8dc369ac-21eb-411a-e578-81e59851e454"
      },
      "source": [
        "plt.figure(figsize=[18,6])\n",
        "plt.subplot(1,3,1)\n",
        "plt.title('Fit time')\n",
        "\n",
        "plt.plot(list(r),fit_times)\n",
        "plt.subplot(1,3,2)\n",
        "plt.title('Search time')\n",
        "plt.plot(list(r),search_times)\n",
        "plt.subplot(1,3,3)\n",
        "plt.title('Accuracy')\n",
        "plt.plot(list(r),acc_list)\n",
        "plt.show()\n",
        "\n",
        "#this is NOT accurate, as it does not include compiling time\n",
        "#how do I get the compiling time? is there a reset?"
      ],
      "execution_count": 120,
      "outputs": [
        {
          "output_type": "display_data",
          "data": {
            "image/png": "[encoded data removed]",
            "text/plain": [
              "<Figure size 1296x432 with 3 Axes>"
            ]
          },
          "metadata": {
            "tags": [],
            "needs_background": "light"
          }
        }
      ]
    },
    {
      "cell_type": "code",
      "metadata": {
        "id": "RozhDkey05AK"
      },
      "source": [
        "#crashed upon size 10**7 \n",
        "#need to fix this or we can't BM large sets\n",
        "torch.manual_seed(0)\n",
        "N, D, K = 10**7, 3, 50\n",
        "\n",
        "x = 0.7 * torch.randn(N, D, dtype=dtype) + 0.3\n",
        "y = 0.7 * torch.randn(N, D, dtype=dtype) + 0.3\n",
        "start=time.time()\n",
        "t=IVF_flat()\n",
        "t.fit(x)\n",
        "print('fit time',time.time()-start)\n",
        "start=time.time()\n",
        "t.kneighbors(y)\n",
        "print('search time:',time.time()-start)"
      ],
      "execution_count": null,
      "outputs": []
    },
    {
      "cell_type": "code",
      "metadata": {
        "id": "XvKsng0-XF5q"
      },
      "source": [
        ""
      ],
      "execution_count": null,
      "outputs": []
    }
  ]
}