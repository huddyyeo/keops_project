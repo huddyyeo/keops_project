{
  "nbformat": 4,
  "nbformat_minor": 0,
  "metadata": {
    "colab": {
      "name": "Copy of Unit_tests_nystrom.ipynb",
      "provenance": [],
      "collapsed_sections": [],
      "toc_visible": true
    },
    "kernelspec": {
      "name": "python3",
      "display_name": "Python 3"
    }
  },
  "cells": [
    {
      "cell_type": "code",
      "metadata": {
        "id": "WwBYxIOJsElO"
      },
      "source": [
        "!pip install pykeops[colab] > log.log"
      ],
      "execution_count": null,
      "outputs": []
    },
    {
      "cell_type": "code",
      "metadata": {
        "id": "9kqgHl1brDZ4"
      },
      "source": [
        "import pykeops\n",
        "pykeops.clean_pykeops()          # just in case old build files are still present"
      ],
      "execution_count": null,
      "outputs": []
    },
    {
      "cell_type": "code",
      "metadata": {
        "id": "sJbnm2EYdaAh"
      },
      "source": [
        "from google.colab import drive\n",
        "drive.mount('/content/drive')"
      ],
      "execution_count": null,
      "outputs": []
    },
    {
      "cell_type": "code",
      "metadata": {
        "id": "sdlG6vVpsbq6"
      },
      "source": [
        "import numpy as np\n",
        "import torch\n",
        "\n",
        "import time\n",
        "\n",
        "from nystrom_numpy import Nystrom as Nystrom_NK\n",
        "from nystrom_torch import Nystrom as Nystrom_TK\n",
        "\n",
        "\n",
        "test_data = np.random.randint(1,10,(100,4)).astype(np.float32)\n",
        "test_data_t = torch.tensor(test_data, dtype=torch.float32)"
      ],
      "execution_count": null,
      "outputs": []
    },
    {
      "cell_type": "code",
      "metadata": {
        "id": "l-R2lOTET-4l"
      },
      "source": [
        "test_data64 = np.random.randint(1,10,(100,4)).astype(np.float64)\n",
        "test_data_t64 = torch.tensor(test_data, dtype=torch.float64)"
      ],
      "execution_count": null,
      "outputs": []
    },
    {
      "cell_type": "markdown",
      "metadata": {
        "id": "_SDV-GTZvh0G"
      },
      "source": [
        "###Unit tests: Numpy"
      ]
    },
    {
      "cell_type": "code",
      "metadata": {
        "id": "1YdGwTvT8w0T",
        "colab": {
          "base_uri": "https://localhost:8080/"
        },
        "outputId": "100f2da6-781e-463f-fc4d-4756589cb110"
      },
      "source": [
        "class UnitTestCaseNumpy():\n",
        "\n",
        "\n",
        "    # add these to the init part in keops\n",
        "    def __init__(self, data, dtype):\n",
        "        self.length = 100\n",
        "        self.num_sampling = 40\n",
        "        self.x = data\n",
        "        self.dtype = dtype\n",
        "\n",
        "        # self.k_rbf = None\n",
        "        # self.k_exp = None\n",
        "\n",
        "    ############################################################    \n",
        "    def Nystrom_K_approx_test(self):\n",
        "        ############################################################\n",
        "        \n",
        "        # from pykeops.numpy.nystrom import Nystrom_NK\n",
        "        ''' \n",
        "        Function to test K_approx method.\n",
        "        We expect K_approx(x) ~ X_new @ X_new^T.\n",
        "    \n",
        "        '''\n",
        "        kernels = ['rbf', 'exp']\n",
        "        \n",
        "        for kernel in kernels:\n",
        "\n",
        "            N_truth = Nystrom_NK(n_components=self.length, kernel = kernel, random_state=0).fit(self.x)\n",
        "            x_truth = N_truth.transform(self.x, dense=True)\n",
        "            K = x_truth @ x_truth.T\n",
        "            # if kernel == 'rbf':\n",
        "            #     self.k_rbf = K\n",
        "            # else:\n",
        "            #     self.k_exp = K\n",
        "            # print(f\"{kernel} true kernel \\n\", K, \"\\n\")\n",
        "\n",
        "            N_NK = Nystrom_NK(n_components=self.num_sampling, kernel = kernel, random_state=0).fit(self.x)\n",
        "            K_approx_1 = N_NK.K_approx(self.x)\n",
        "            K_approx_1 = K_approx_1 @ np.identity(K_approx_1.shape[0], dtype=self.dtype)\n",
        "\n",
        "            x_new = N_NK.transform(self.x, dense=True)\n",
        "            K_approx_2 = x_new @ x_new.T\n",
        "\n",
        "            # print(f\"{kernel} kernel K_approx 1 \\n\", K_approx_1, \"\\n\")\n",
        "            # print(f\"{kernel} kernel K_approx 2 \\n\", K_approx_2, \"\\n\")\n",
        "\n",
        "            approx_1_e = np.linalg.norm(K-K_approx_1) / K.size\n",
        "            approx_2_e = np.linalg.norm(K-K_approx_2) / K.size\n",
        "            print(f\"{kernel} kernel K_approx 1 error\", np.linalg.norm(K-K_approx_1) / K.size )\n",
        "            print(f\"{kernel} kernel K_approx 2 error\", np.linalg.norm(K-K_approx_2) / K.size )\n",
        "            ML2_error = np.linalg.norm(K_approx_1 - K_approx_2) / K.size\n",
        "            print(f\"ML2 error for {kernel} kernel:\", ML2_error, \"\\n\")\n",
        "            # print(\"-\"*100, \"\\n\")\n",
        "\n",
        "            assert approx_1_e < 0.1\n",
        "            assert approx_2_e < 0.1\n",
        "            assert ML2_error < 0.01\n",
        "            #self.assertTrue(ML2_error < 0.01)\n",
        "\n",
        "    ############################################################ \n",
        "    def Nystrom_K_shape_test(self):\n",
        "        ############################################################\n",
        "\n",
        "        # from pykeops.numpy.nystrom import Nystrom_NK \n",
        "        ''' \n",
        "        Function to check that data shapes are correct.\n",
        "    \n",
        "        '''\n",
        "        kernels = ['rbf', 'exp']\n",
        "        \n",
        "        for kernel in kernels:\n",
        "            N_NK = Nystrom_NK(n_components=self.num_sampling, kernel = kernel, random_state=0).fit(self.x)\n",
        "\n",
        "            assert N_NK.normalization_.shape == (self.num_sampling, self.num_sampling)\n",
        "            assert N_NK.transform(self.x).shape == (self.length, self.num_sampling)\n",
        "\n",
        "            #self.assertTrue(N_NK.normalization_.shape == (self.num_sampling, self.num_sampling))\n",
        "            #self.assertTrue(N_NK.transform(self.x).shape == (self.length, self.num_sampling))\n",
        "\n",
        "print(\"float32 data\")     \n",
        "test_np = UnitTestCaseNumpy(test_data, np.float32)    \n",
        "test_np.Nystrom_K_approx_test()\n",
        "test_np.Nystrom_K_shape_test()\n",
        "\n",
        "print(\"\\n\", \"float64 data\") \n",
        "test_np = UnitTestCaseNumpy(test_data64, np.float64)    \n",
        "test_np.Nystrom_K_approx_test()\n",
        "test_np.Nystrom_K_shape_test()"
      ],
      "execution_count": null,
      "outputs": [
        {
          "output_type": "stream",
          "text": [
            "float32 data\n",
            "rbf kernel K_approx 1 error 0.0007300935745239257\n",
            "rbf kernel K_approx 2 error 0.0007300935745239257\n",
            "ML2 error for rbf kernel: 1.541538608762494e-10 \n",
            "\n",
            "exp kernel K_approx 1 error 0.0006973778247833252\n",
            "exp kernel K_approx 2 error 0.0006973778247833252\n",
            "ML2 error for exp kernel: 2.3594138838234357e-10 \n",
            "\n",
            "\n",
            " float64 data\n",
            "rbf kernel K_approx 1 error 0.0007384496675632467\n",
            "rbf kernel K_approx 2 error 0.0007384496675632467\n",
            "ML2 error for rbf kernel: 2.744249517285973e-19 \n",
            "\n",
            "exp kernel K_approx 1 error 0.0006970258422272258\n",
            "exp kernel K_approx 2 error 0.0006970258422272258\n",
            "ML2 error for exp kernel: 3.9925512931787905e-19 \n",
            "\n"
          ],
          "name": "stdout"
        }
      ]
    },
    {
      "cell_type": "markdown",
      "metadata": {
        "id": "2U_uTf3nvlPr"
      },
      "source": [
        "###Unit tests: Torch"
      ]
    },
    {
      "cell_type": "code",
      "metadata": {
        "id": "2jCV9gf6voXl",
        "colab": {
          "base_uri": "https://localhost:8080/"
        },
        "outputId": "94979429-b515-449b-a90a-87c1f1030d7d"
      },
      "source": [
        "class UnitTestCase():\n",
        "    \n",
        "    def __init__(self, data, dtype):\n",
        "\n",
        "        # add these to the init part in keops\n",
        "        self.length = 100\n",
        "        self.num_sampling = 40\n",
        "        self.x = data\n",
        "        self.dtype = dtype\n",
        "\n",
        "        # self.k_rbf = None\n",
        "        # self.k_exp = None\n",
        "\n",
        "    ############################################################         \n",
        "    def Nystrom_K_approx_test(self):\n",
        "        ############################################################ \n",
        "\n",
        "        # from pykeops.torch.nystrom import LazyNystrom_TK as Nystrom_TK\n",
        "        ''' \n",
        "        Function to test K_approx method.\n",
        "        We expect K_approx(x) ~ X_new @ X_new^T.\n",
        "    \n",
        "        '''\n",
        "        kernels = ['rbf', 'exp']\n",
        "        \n",
        "        for kernel in kernels:\n",
        "\n",
        "            N_truth = Nystrom_TK(n_components=self.length, kernel = kernel, random_state=0).fit(self.x)\n",
        "            x_truth = N_truth.transform(self.x, dense=True)\n",
        "            K = x_truth @ x_truth.T\n",
        "\n",
        "            # if kernel == 'rbf':\n",
        "            #     self.k_rbf = K\n",
        "            # else:\n",
        "            #     self.k_exp = K\n",
        "            # print(f\"{kernel} true kernel \\n\", K, \"\\n\")\n",
        "\n",
        "            N_TK = Nystrom_TK(n_components=self.num_sampling, kernel = kernel, random_state=0).fit(self.x)\n",
        "            K_approx_ = N_TK.K_approx(self.x)\n",
        "            id = torch.tensor(torch.diag(torch.ones(self.length)), dtype=self.dtype)\n",
        "            K_approx_1 = K_approx_ @ id\n",
        "\n",
        "            x_new = N_TK.transform(self.x, dense=True)\n",
        "            K_approx_2 = x_new @ x_new.T\n",
        "\n",
        "            # print(f\"{kernel} kernel K_approx 1 \\n\", K_approx_1, \"\\n\")\n",
        "            # print(f\"{kernel} kernel K_approx 2 \\n\", K_approx_2, \"\\n\")\n",
        "            print(f\"{kernel} kernel K_approx 1 error\", (torch.linalg.norm(K-K_approx_1)/ (K.shape[0]*K.shape[1])).item())\n",
        "            print(f\"{kernel} kernel K_approx 2 error\", (torch.linalg.norm(K-K_approx_2) / (K.shape[0]*K.shape[1])).item() )\n",
        "            \n",
        "            approx_1_e = torch.linalg.norm(K-K_approx_1) / (K.shape[0]*K.shape[1])\n",
        "            approx_2_e = torch.linalg.norm(K-K_approx_2) / (K.shape[0]*K.shape[1])\n",
        "\n",
        "            ML2_error = torch.linalg.norm(K_approx_2 - K_approx_1) / (K.shape[0]*K.shape[1])\n",
        "            print(f\"ML2 error for {kernel} kernel:\", ML2_error.item())\n",
        "            # print(kernel, K)\n",
        "            \n",
        "            assert approx_1_e < 0.1\n",
        "            assert approx_2_e < 0.1\n",
        "            assert ML2_error < 0.01\n",
        "            #self.assertTrue(ML2_error < 0.01)\n",
        "\n",
        "    ############################################################ \n",
        "    def Nystrom_K_shape_test(self):\n",
        "        ############################################################ \n",
        "\n",
        "        # from pykeops.torch.nystrom import LazyNystrom_TK as Nystrom_TK\n",
        "        ''' \n",
        "        Function to check that data shapes are correct.\n",
        "    \n",
        "        '''\n",
        "        kernels = ['rbf', 'exp']\n",
        "        \n",
        "        for kernel in kernels:\n",
        "            N_NT = Nystrom_TK(n_components=self.num_sampling, kernel = 'rbf', random_state=0).fit(self.x)\n",
        "\n",
        "            assert N_NT.normalization_.shape == (self.num_sampling, self.num_sampling)\n",
        "            assert N_NT.transform(self.x).shape == (self.length, self.num_sampling)\n",
        "            #self.assertTrue(N_NT.normalization_.shape == (self.num_sampling, 1))\n",
        "            #self.assertTrue(N_NT.transform(self.x).shape == (self.length, self.num_sampling))\n",
        "\n",
        "print(\"float32 data\")    \n",
        "test_t = UnitTestCase(test_data_t, torch.float32)    \n",
        "test_t.Nystrom_K_approx_test()\n",
        "test_t.Nystrom_K_shape_test()\n",
        "\n",
        "print(\"\\n\", \"float64 data\") \n",
        "test_t = UnitTestCase(test_data_t64, torch.float64)    \n",
        "test_t.Nystrom_K_approx_test()\n",
        "test_t.Nystrom_K_shape_test()"
      ],
      "execution_count": null,
      "outputs": [
        {
          "output_type": "stream",
          "text": [
            "float32 data\n",
            "rbf kernel K_approx 1 error 0.0007318102288991213\n",
            "rbf kernel K_approx 2 error 0.0007318102288991213\n",
            "ML2 error for rbf kernel: 2.0052039195750382e-10\n",
            "exp kernel K_approx 1 error 0.0006974013522267342\n",
            "exp kernel K_approx 2 error 0.0006974013522267342\n",
            "ML2 error for exp kernel: 3.3612479466427203e-10\n",
            "\n",
            " float64 data\n",
            "rbf kernel K_approx 1 error 0.0007318082706981316\n",
            "rbf kernel K_approx 2 error 0.0007318082706981316\n",
            "ML2 error for rbf kernel: 5.503805929069723e-19\n",
            "exp kernel K_approx 1 error 0.0006974229535207323\n",
            "exp kernel K_approx 2 error 0.0006974229535207322\n",
            "ML2 error for exp kernel: 6.800603873377772e-19\n"
          ],
          "name": "stdout"
        },
        {
          "output_type": "stream",
          "text": [
            "/usr/local/lib/python3.7/dist-packages/ipykernel_launcher.py:40: UserWarning: To copy construct from a tensor, it is recommended to use sourceTensor.clone().detach() or sourceTensor.clone().detach().requires_grad_(True), rather than torch.tensor(sourceTensor).\n"
          ],
          "name": "stderr"
        }
      ]
    }
  ]
}