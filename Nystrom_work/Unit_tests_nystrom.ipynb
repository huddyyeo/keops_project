{
  "nbformat": 4,
  "nbformat_minor": 0,
  "metadata": {
    "colab": {
      "name": "Unit_tests_nystrom.ipynb",
      "provenance": [],
      "collapsed_sections": []
    },
    "kernelspec": {
      "name": "python3",
      "display_name": "Python 3"
    },
    "accelerator": "GPU"
  },
  "cells": [
    {
      "cell_type": "code",
      "metadata": {
        "id": "WwBYxIOJsElO"
      },
      "source": [
        "# If using colab, make sure you install via:  !pip install pykeops[full] > log.log\r\n",
        "# makes plot outputs appear and be stored within the notebook\r\n",
        "%matplotlib inline \r\n",
        "!pip install si_prefix\r\n",
        "!pip install sphinx\r\n",
        "!pip install pykeops[full] > log.log"
      ],
      "execution_count": null,
      "outputs": []
    },
    {
      "cell_type": "code",
      "metadata": {
        "id": "sdlG6vVpsbq6"
      },
      "source": [
        "import numpy as np\r\n",
        "import torch\r\n",
        "\r\n",
        "from pykeops.numpy import LazyTensor as LazyTensor_n\r\n",
        "from pykeops.numpy.cluster import grid_cluster\r\n",
        "from pykeops.numpy.cluster import from_matrix\r\n",
        "from pykeops.numpy.cluster import cluster_ranges_centroids\r\n",
        "from pykeops.numpy.cluster import sort_clusters\r\n",
        "from pykeops.torch import LazyTensor\r\n",
        "\r\n",
        "from sklearn.utils import check_random_state, as_float_array\r\n",
        "from scipy.linalg import svd\r\n",
        "\r\n",
        "from scipy.sparse.linalg import aslinearoperator, eigsh\r\n",
        "from scipy.sparse.linalg.interface import IdentityOperator\r\n",
        "\r\n",
        "import matplotlib.pyplot as plt\r\n",
        "import time\r\n",
        "\r\n",
        "from nystrom_master_code import Nystrom_NK\r\n",
        "from Nystrom_TK import LazyNystrom_TK as Nystrom_TK"
      ],
      "execution_count": null,
      "outputs": []
    },
    {
      "cell_type": "markdown",
      "metadata": {
        "id": "162x2Qj0wyHT"
      },
      "source": [
        "**Note:**\r\n",
        "\r\n",
        "The linear kernel doesn't pass the unit test (not only in terms of accuracy but it gives an error), so it should probably be removed from the master code."
      ]
    },
    {
      "cell_type": "markdown",
      "metadata": {
        "id": "_SDV-GTZvh0G"
      },
      "source": [
        "###Unit tests: Numpy"
      ]
    },
    {
      "cell_type": "code",
      "metadata": {
        "id": "1YdGwTvT8w0T",
        "colab": {
          "base_uri": "https://localhost:8080/"
        },
        "outputId": "50109e83-0e13-4d56-981d-8a750d02d07c"
      },
      "source": [
        "class UnitTestCase():\r\n",
        "\r\n",
        "\r\n",
        "    # add these to the init part in keops\r\n",
        "    def __init__(self):\r\n",
        "        self.length = 100\r\n",
        "        self.num_sampling = 20\r\n",
        "        self.x = np.random.randint(1,10,(self.length,3)).astype(np.float32)\r\n",
        "\r\n",
        "\r\n",
        "    ############################################################    \r\n",
        "    def Nystrom_K_approx_test(self):\r\n",
        "        ############################################################\r\n",
        "        \r\n",
        "        # from pykeops.numpy.nystrom import Nystrom_NK\r\n",
        "        ''' \r\n",
        "        Function to test K_approx method.\r\n",
        "        We expect K_approx(x) ~ X_new @ X_new^T.\r\n",
        "    \r\n",
        "        '''\r\n",
        "        kernels = ['rbf', 'exp']\r\n",
        "        \r\n",
        "        for kernel in kernels:\r\n",
        "            N_NK = Nystrom_NK(n_components=self.num_sampling, kernel = kernel, random_state=0).fit(self.x)\r\n",
        "            K = N_NK.K_approx(self.x)\r\n",
        "            x_new = N_NK.transform(self.x)\r\n",
        "            \r\n",
        "            ML2_error = np.linalg.norm(x_new @ x_new.T - K) / K.size\r\n",
        "\r\n",
        "            assert ML2_error < 0.01\r\n",
        "            #self.assertTrue(ML2_error < 0.01)\r\n",
        "\r\n",
        "    ############################################################ \r\n",
        "    def Nystrom_K_shape_test(self):\r\n",
        "        ############################################################\r\n",
        "\r\n",
        "        # from pykeops.numpy.nystrom import Nystrom_NK \r\n",
        "        ''' \r\n",
        "        Function to check that data shapes are correct.\r\n",
        "    \r\n",
        "        '''\r\n",
        "        kernels = ['rbf', 'exp']\r\n",
        "        \r\n",
        "        for kernel in kernels:\r\n",
        "            N_NK = Nystrom_NK(n_components=self.num_sampling, kernel = 'rbf', random_state=0).fit(self.x)\r\n",
        "\r\n",
        "            assert N_NK.normalization_.shape == (self.num_sampling, self.num_sampling)\r\n",
        "            assert N_NK.transform(self.x).shape == (self.length, self.num_sampling)\r\n",
        "\r\n",
        "            #self.assertTrue(N_NK.normalization_.shape == (self.num_sampling, self.num_sampling))\r\n",
        "            #self.assertTrue(N_NK.transform(self.x).shape == (self.length, self.num_sampling))\r\n",
        "    \r\n",
        "test = UnitTestCase()    \r\n",
        "test.Nystrom_K_approx_test()\r\n",
        "test.Nystrom_K_shape_test()"
      ],
      "execution_count": null,
      "outputs": [
        {
          "output_type": "stream",
          "text": [
            "Compiling libKeOpsnumpy29bc30da24 in /root/.cache/pykeops-1.4.2-cpython-37:\n",
            "       formula: Sum_Reduction((Exp((IntCst(-1) * Sum(Square((Var(0,3,0) - Var(1,3,1)))))) * Var(2,1,1)),0)\n",
            "       aliases: Var(0,3,0); Var(1,3,1); Var(2,1,1); \n",
            "       dtype  : float32\n",
            "... Done.\n",
            "Compiling libKeOpsnumpy035d0ea20d in /root/.cache/pykeops-1.4.2-cpython-37:\n",
            "       formula: Sum_Reduction((Exp((IntCst(-1) * Sum(Square((Var(0,3,0) - Var(1,3,1)))))) * Var(2,20,1)),0)\n",
            "       aliases: Var(0,3,0); Var(1,3,1); Var(2,20,1); \n",
            "       dtype  : float32\n",
            "... Done.\n",
            "Compiling libKeOpsnumpy101566db1a in /root/.cache/pykeops-1.4.2-cpython-37:\n",
            "       formula: Sum_Reduction((Exp((IntCst(-1) * Sum(Square((Var(0,3,0) - Var(1,3,1)))))) * Var(2,100,1)),0)\n",
            "       aliases: Var(0,3,0); Var(1,3,1); Var(2,100,1); \n",
            "       dtype  : float32\n",
            "... Done.\n",
            "Compiling libKeOpsnumpy633ea54cc1 in /root/.cache/pykeops-1.4.2-cpython-37:\n",
            "       formula: Sum_Reduction((Exp((IntCst(-1) * Sum(Sqrt(Square((Var(0,3,0) - Var(1,3,1))))))) * Var(2,1,1)),0)\n",
            "       aliases: Var(0,3,0); Var(1,3,1); Var(2,1,1); \n",
            "       dtype  : float32\n",
            "... Done.\n",
            "Compiling libKeOpsnumpy859e3db9a4 in /root/.cache/pykeops-1.4.2-cpython-37:\n",
            "       formula: Sum_Reduction((Exp((IntCst(-1) * Sum(Sqrt(Square((Var(0,3,0) - Var(1,3,1))))))) * Var(2,20,1)),0)\n",
            "       aliases: Var(0,3,0); Var(1,3,1); Var(2,20,1); \n",
            "       dtype  : float32\n",
            "... Done.\n",
            "Compiling libKeOpsnumpyccb3d04a11 in /root/.cache/pykeops-1.4.2-cpython-37:\n",
            "       formula: Sum_Reduction((Exp((IntCst(-1) * Sum(Sqrt(Square((Var(0,3,0) - Var(1,3,1))))))) * Var(2,100,1)),0)\n",
            "       aliases: Var(0,3,0); Var(1,3,1); Var(2,100,1); \n",
            "       dtype  : float32\n",
            "... Done.\n"
          ],
          "name": "stdout"
        }
      ]
    },
    {
      "cell_type": "markdown",
      "metadata": {
        "id": "2U_uTf3nvlPr"
      },
      "source": [
        "###Unit tests: Torch"
      ]
    },
    {
      "cell_type": "code",
      "metadata": {
        "colab": {
          "base_uri": "https://localhost:8080/"
        },
        "id": "2jCV9gf6voXl",
        "outputId": "9b7eaeff-a2ce-4a87-98e4-9bc8d5e9e25b"
      },
      "source": [
        "class UnitTestCase():\r\n",
        "    \r\n",
        "    def __init__(self):\r\n",
        "\r\n",
        "        # add these to the init part in keops\r\n",
        "        self.length = 100\r\n",
        "        self.num_sampling = 20\r\n",
        "        self.x = torch.rand(self.length,3)*100\r\n",
        "        print(self.x.shape)\r\n",
        "\r\n",
        "    ############################################################         \r\n",
        "    def Nystrom_K_approx_test(self):\r\n",
        "        ############################################################ \r\n",
        "\r\n",
        "        # from pykeops.torch.nystrom import LazyNystrom_TK as Nystrom_TK\r\n",
        "        ''' \r\n",
        "        Function to test K_approx method.\r\n",
        "        We expect K_approx(x) ~ X_new @ X_new^T.\r\n",
        "    \r\n",
        "        '''\r\n",
        "        kernels = ['rbf', 'exp']\r\n",
        "        \r\n",
        "        for kernel in kernels:\r\n",
        "            N_TK = Nystrom_TK(n_components=self.num_sampling, kernel = kernel, random_state=0).fit(self.x)\r\n",
        "            K = N_TK.K_approx(self.x)\r\n",
        "            x_new = N_TK.transform(self.x)\r\n",
        "            \r\n",
        "            ML2_error = torch.linalg.norm(x_new @ x_new.T - K) / K.shape[0]\r\n",
        "\r\n",
        "            print('k approx shape', K.shape)\r\n",
        "            assert ML2_error < 0.01\r\n",
        "            #self.assertTrue(ML2_error < 0.01)\r\n",
        "\r\n",
        "    ############################################################ \r\n",
        "    def Nystrom_K_shape_test(self):\r\n",
        "        ############################################################ \r\n",
        "\r\n",
        "        # from pykeops.torch.nystrom import LazyNystrom_TK as Nystrom_TK\r\n",
        "        ''' \r\n",
        "        Function to check that data shapes are correct.\r\n",
        "    \r\n",
        "        '''\r\n",
        "        kernels = ['rbf', 'exp']\r\n",
        "        \r\n",
        "        for kernel in kernels:\r\n",
        "            N_NT = Nystrom_TK(n_components=self.num_sampling, kernel = 'rbf', random_state=0).fit(self.x)\r\n",
        "\r\n",
        "            print('N_NT shape', N_NT.normalization_.shape)\r\n",
        "            print('num sampling', self.num_sampling)\r\n",
        "\r\n",
        "            print('transform shape', N_NT.transform(self.x).shape)\r\n",
        "            K_nq = N_NT._pairwise_kernels(self.x, N_NT.components_, N_NT.kernel)\r\n",
        "            print('K_nq shape shoudl be 100x20', K_nq.shape)\r\n",
        "\r\n",
        "            assert N_NT.normalization_.shape == (self.num_sampling, self.num_sampling)\r\n",
        "            assert N_NT.transform(self.x).shape == (self.length, self.num_sampling)\r\n",
        "            #self.assertTrue(N_NT.normalization_.shape == (self.num_sampling, 1))\r\n",
        "            #self.assertTrue(N_NT.transform(self.x).shape == (self.length, self.num_sampling))\r\n",
        "    \r\n",
        "test = UnitTestCase()    \r\n",
        "test.Nystrom_K_approx_test()\r\n",
        "test.Nystrom_K_shape_test()"
      ],
      "execution_count": null,
      "outputs": [
        {
          "output_type": "stream",
          "text": [
            "torch.Size([100, 3])\n",
            "k approx shape torch.Size([100, 100])\n",
            "k approx shape torch.Size([100, 100])\n",
            "N_NT shape torch.Size([20, 20])\n",
            "num sampling 20\n",
            "transform shape torch.Size([100, 20])\n",
            "K_nq shape shoudl be 100x20 torch.Size([100, 20])\n",
            "N_NT shape torch.Size([20, 20])\n",
            "num sampling 20\n",
            "transform shape torch.Size([100, 20])\n",
            "K_nq shape shoudl be 100x20 torch.Size([100, 20])\n"
          ],
          "name": "stdout"
        }
      ]
    }
  ]
}