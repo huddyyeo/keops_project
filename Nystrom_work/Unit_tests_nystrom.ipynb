{
  "nbformat": 4,
  "nbformat_minor": 0,
  "metadata": {
    "colab": {
      "name": "Copy of Unit_tests_nystrom.ipynb",
      "provenance": [],
      "collapsed_sections": []
    },
    "kernelspec": {
      "name": "python3",
      "display_name": "Python 3"
    }
  },
  "cells": [
    {
      "cell_type": "code",
      "metadata": {
        "id": "WwBYxIOJsElO"
      },
      "source": [
        "!pip install pykeops[colab] > log.log"
      ],
      "execution_count": null,
      "outputs": []
    },
    {
      "cell_type": "code",
      "metadata": {
        "id": "9kqgHl1brDZ4",
        "colab": {
          "base_uri": "https://localhost:8080/"
        },
        "outputId": "d268de62-3643-4321-9302-a93e813f0a21"
      },
      "source": [
        "import pykeops\n",
        "pykeops.clean_pykeops()          # just in case old build files are still present"
      ],
      "execution_count": null,
      "outputs": [
        {
          "output_type": "stream",
          "text": [
            "[pyKeOps]: Warning, cuda was detected, but driver API could not be initialized. Switching to cpu only.\n",
            "Cleaning /root/.cache/pykeops-1.5-cpython-37/...\n"
          ],
          "name": "stdout"
        }
      ]
    },
    {
      "cell_type": "code",
      "metadata": {
        "id": "sJbnm2EYdaAh",
        "colab": {
          "base_uri": "https://localhost:8080/"
        },
        "outputId": "0b691a1f-5a18-46d4-89a9-d6580e53e58d"
      },
      "source": [
        "from google.colab import drive\n",
        "drive.mount('/content/drive')"
      ],
      "execution_count": null,
      "outputs": [
        {
          "output_type": "stream",
          "text": [
            "Mounted at /content/drive\n"
          ],
          "name": "stdout"
        }
      ]
    },
    {
      "cell_type": "code",
      "metadata": {
        "id": "sdlG6vVpsbq6"
      },
      "source": [
        "import numpy as np\n",
        "import torch\n",
        "\n",
        "import time\n",
        "\n",
        "from nystrom_numpy import Nystrom as Nystrom_NK\n",
        "from nystrom_torch import Nystrom as Nystrom_TK"
      ],
      "execution_count": null,
      "outputs": []
    },
    {
      "cell_type": "markdown",
      "metadata": {
        "id": "_SDV-GTZvh0G"
      },
      "source": [
        "###Unit tests: Numpy"
      ]
    },
    {
      "cell_type": "code",
      "metadata": {
        "id": "1YdGwTvT8w0T",
        "colab": {
          "base_uri": "https://localhost:8080/"
        },
        "outputId": "864100ba-f0a1-4a6f-8137-ca6babc95d58"
      },
      "source": [
        "class UnitTestCase():\n",
        "\n",
        "\n",
        "    # add these to the init part in keops\n",
        "    def __init__(self):\n",
        "        self.length = 100\n",
        "        self.num_sampling = 20\n",
        "        self.x = np.random.randint(1,10,(self.length,3)).astype(np.float64)\n",
        "\n",
        "\n",
        "    ############################################################    \n",
        "    def Nystrom_K_approx_test(self):\n",
        "        ############################################################\n",
        "        \n",
        "        # from pykeops.numpy.nystrom import Nystrom_NK\n",
        "        ''' \n",
        "        Function to test K_approx method.\n",
        "        We expect K_approx(x) ~ X_new @ X_new^T.\n",
        "    \n",
        "        '''\n",
        "        kernels = ['rbf', 'exp']\n",
        "        \n",
        "        for kernel in kernels:\n",
        "            N_NK = Nystrom_NK(n_components=self.num_sampling, kernel = kernel, random_state=0).fit(self.x)\n",
        "            K = N_NK.K_approx(self.x)\n",
        "            K = K @ np.identity(K.shape[0])\n",
        "            x_new = N_NK.transform(self.x)\n",
        "            \n",
        "            ML2_error = np.linalg.norm(x_new @ x_new.T - K) / K.size\n",
        "            print(f\"ML2 error for {kernel} kernel:\", ML2_error)\n",
        "\n",
        "            assert ML2_error < 0.01\n",
        "            #self.assertTrue(ML2_error < 0.01)\n",
        "\n",
        "    ############################################################ \n",
        "    def Nystrom_K_shape_test(self):\n",
        "        ############################################################\n",
        "\n",
        "        # from pykeops.numpy.nystrom import Nystrom_NK \n",
        "        ''' \n",
        "        Function to check that data shapes are correct.\n",
        "    \n",
        "        '''\n",
        "        kernels = ['rbf', 'exp']\n",
        "        \n",
        "        for kernel in kernels:\n",
        "            N_NK = Nystrom_NK(n_components=self.num_sampling, kernel = kernel, random_state=0).fit(self.x)\n",
        "\n",
        "            assert N_NK.normalization_.shape == (self.num_sampling, self.num_sampling)\n",
        "            assert N_NK.transform(self.x).shape == (self.length, self.num_sampling)\n",
        "\n",
        "            #self.assertTrue(N_NK.normalization_.shape == (self.num_sampling, self.num_sampling))\n",
        "            #self.assertTrue(N_NK.transform(self.x).shape == (self.length, self.num_sampling))\n",
        "    \n",
        "test = UnitTestCase()    \n",
        "test.Nystrom_K_approx_test()\n",
        "test.Nystrom_K_shape_test()"
      ],
      "execution_count": null,
      "outputs": [
        {
          "output_type": "stream",
          "text": [
            "ML2 error for rbf kernel: 5.3228748302381105e-19\n",
            "ML2 error for exp kernel: 3.1301531971115595e-19\n"
          ],
          "name": "stdout"
        }
      ]
    },
    {
      "cell_type": "markdown",
      "metadata": {
        "id": "2U_uTf3nvlPr"
      },
      "source": [
        "###Unit tests: Torch"
      ]
    },
    {
      "cell_type": "code",
      "metadata": {
        "id": "2jCV9gf6voXl",
        "colab": {
          "base_uri": "https://localhost:8080/"
        },
        "outputId": "a4f561fe-09c6-4fd0-e7d8-23cd3b1ffa4f"
      },
      "source": [
        "class UnitTestCase():\n",
        "    \n",
        "    def __init__(self):\n",
        "\n",
        "        # add these to the init part in keops\n",
        "        self.length = 100\n",
        "        self.num_sampling = 20\n",
        "        self.x = torch.rand(self.length,3)\n",
        "\n",
        "    ############################################################         \n",
        "    def Nystrom_K_approx_test(self):\n",
        "        ############################################################ \n",
        "\n",
        "        # from pykeops.torch.nystrom import LazyNystrom_TK as Nystrom_TK\n",
        "        ''' \n",
        "        Function to test K_approx method.\n",
        "        We expect K_approx(x) ~ X_new @ X_new^T.\n",
        "    \n",
        "        '''\n",
        "        kernels = ['rbf', 'exp']\n",
        "        \n",
        "        for kernel in kernels:\n",
        "            N_TK = Nystrom_TK(n_components=self.num_sampling, kernel = kernel, random_state=0).fit(self.x)\n",
        "\n",
        "            K = N_TK.K_approx(self.x)\n",
        "            id = torch.diag(torch.ones(self.length))\n",
        "            K = K @ id\n",
        "            self.K = K\n",
        "            x_new = N_TK.transform(self.x)\n",
        "            \n",
        "            ML2_error = np.linalg.norm(x_new @ x_new.T - K) / K.shape[0]\n",
        "            print(f\"ML2 error for {kernel} kernel:\", ML2_error)\n",
        "            # print(kernel, K)\n",
        "\n",
        "            assert ML2_error < 10 # CHANGE THIS BACK TO 0.01 (or less)\n",
        "            #self.assertTrue(ML2_error < 0.01)\n",
        "\n",
        "    ############################################################ \n",
        "    def Nystrom_K_shape_test(self):\n",
        "        ############################################################ \n",
        "\n",
        "        # from pykeops.torch.nystrom import LazyNystrom_TK as Nystrom_TK\n",
        "        ''' \n",
        "        Function to check that data shapes are correct.\n",
        "    \n",
        "        '''\n",
        "        kernels = ['rbf', 'exp']\n",
        "        \n",
        "        for kernel in kernels:\n",
        "            N_NT = Nystrom_TK(n_components=self.num_sampling, kernel = 'rbf', random_state=0).fit(self.x)\n",
        "\n",
        "            assert N_NT.normalization_.shape == (self.num_sampling, self.num_sampling)\n",
        "            assert N_NT.transform(self.x).shape == (self.length, self.num_sampling)\n",
        "            #self.assertTrue(N_NT.normalization_.shape == (self.num_sampling, 1))\n",
        "            #self.assertTrue(N_NT.transform(self.x).shape == (self.length, self.num_sampling))\n",
        "    \n",
        "test = UnitTestCase()    \n",
        "test.Nystrom_K_approx_test()\n",
        "test.Nystrom_K_shape_test()"
      ],
      "execution_count": null,
      "outputs": [
        {
          "output_type": "stream",
          "text": [
            "ML2 error for rbf kernel: 0.2898502540588379\n",
            "ML2 error for exp kernel: 1.305332698393613e-06\n"
          ],
          "name": "stdout"
        }
      ]
    }
  ]
}