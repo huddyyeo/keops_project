{
  "nbformat": 4,
  "nbformat_minor": 0,
  "metadata": {
    "colab": {
      "name": "Copy of Unit_tests_nystrom.ipynb",
      "provenance": [],
      "collapsed_sections": []
    },
    "kernelspec": {
      "name": "python3",
      "display_name": "Python 3"
    }
  },
  "cells": [
    {
      "cell_type": "code",
      "metadata": {
        "id": "WwBYxIOJsElO"
      },
      "source": [
        "!pip install pykeops[colab] > log.log"
      ],
      "execution_count": null,
      "outputs": []
    },
    {
      "cell_type": "code",
      "metadata": {
        "id": "9kqgHl1brDZ4"
      },
      "source": [
        "import pykeops\n",
        "pykeops.clean_pykeops()          # just in case old build files are still present"
      ],
      "execution_count": null,
      "outputs": []
    },
    {
      "cell_type": "code",
      "metadata": {
        "id": "5eN3MKKxawow"
      },
      "source": [
        "from google.colab import drive\n",
        "drive.mount('/content/drive')"
      ],
      "execution_count": null,
      "outputs": []
    },
    {
      "cell_type": "code",
      "metadata": {
        "id": "sdlG6vVpsbq6"
      },
      "source": [
        "import numpy as np\n",
        "import torch\n",
        "\n",
        "import time\n",
        "\n",
        "from nystrom_numpy import Nystrom as Nystrom_NK\n",
        "from nystrom_torch import Nystrom as Nystrom_TK"
      ],
      "execution_count": null,
      "outputs": []
    },
    {
      "cell_type": "markdown",
      "metadata": {
        "id": "_SDV-GTZvh0G"
      },
      "source": [
        "###Unit tests: Numpy"
      ]
    },
    {
      "cell_type": "code",
      "metadata": {
        "id": "1YdGwTvT8w0T",
        "colab": {
          "base_uri": "https://localhost:8080/"
        },
        "outputId": "ef9f0c5f-506b-4335-eb92-4ded61f1f02b"
      },
      "source": [
        "class UnitTestCase():\n",
        "\n",
        "\n",
        "    # add these to the init part in keops\n",
        "    def __init__(self):\n",
        "        self.length = 100\n",
        "        self.num_sampling = 20\n",
        "        self.x = np.random.randint(1,10,(self.length,3)).astype(np.float64)\n",
        "\n",
        "\n",
        "    ############################################################    \n",
        "    def Nystrom_K_approx_test(self):\n",
        "        ############################################################\n",
        "        \n",
        "        # from pykeops.numpy.nystrom import Nystrom_NK\n",
        "        ''' \n",
        "        Function to test K_approx method.\n",
        "        We expect K_approx(x) ~ X_new @ X_new^T.\n",
        "    \n",
        "        '''\n",
        "        kernels = ['rbf', 'exp']\n",
        "        \n",
        "        for kernel in kernels:\n",
        "            N_NK = Nystrom_NK(n_components=self.num_sampling, kernel = kernel, random_state=0).fit(self.x)\n",
        "            K = N_NK.K_approx(self.x)\n",
        "            K = K @ np.identity(K.shape[0])\n",
        "            x_new = N_NK.transform(self.x)\n",
        "            \n",
        "            ML2_error = np.linalg.norm(x_new @ x_new.T - K) / K.size\n",
        "            print(f\"ML2 error for {kernel} kernel:\", ML2_error)\n",
        "\n",
        "            assert ML2_error < 0.01\n",
        "            #self.assertTrue(ML2_error < 0.01)\n",
        "\n",
        "    ############################################################ \n",
        "    def Nystrom_K_shape_test(self):\n",
        "        ############################################################\n",
        "\n",
        "        # from pykeops.numpy.nystrom import Nystrom_NK \n",
        "        ''' \n",
        "        Function to check that data shapes are correct.\n",
        "    \n",
        "        '''\n",
        "        kernels = ['rbf', 'exp']\n",
        "        \n",
        "        for kernel in kernels:\n",
        "            N_NK = Nystrom_NK(n_components=self.num_sampling, kernel = kernel, random_state=0).fit(self.x)\n",
        "\n",
        "            assert N_NK.normalization_.shape == (self.num_sampling, self.num_sampling)\n",
        "            assert N_NK.transform(self.x).shape == (self.length, self.num_sampling)\n",
        "\n",
        "            #self.assertTrue(N_NK.normalization_.shape == (self.num_sampling, self.num_sampling))\n",
        "            #self.assertTrue(N_NK.transform(self.x).shape == (self.length, self.num_sampling))\n",
        "    \n",
        "test = UnitTestCase()    \n",
        "test.Nystrom_K_approx_test()\n",
        "test.Nystrom_K_shape_test()"
      ],
      "execution_count": null,
      "outputs": [
        {
          "output_type": "stream",
          "text": [
            "ML2 error for rbf kernel: 7.192235545223149e-19\n",
            "ML2 error for exp kernel: 9.475832966012057e-19\n"
          ],
          "name": "stdout"
        }
      ]
    },
    {
      "cell_type": "markdown",
      "metadata": {
        "id": "2U_uTf3nvlPr"
      },
      "source": [
        "###Unit tests: Torch"
      ]
    },
    {
      "cell_type": "code",
      "metadata": {
        "id": "2jCV9gf6voXl",
        "colab": {
          "base_uri": "https://localhost:8080/"
        },
        "outputId": "e3c48637-5626-4c2c-f1a9-0e45940af099"
      },
      "source": [
        "class UnitTestCase():\n",
        "    \n",
        "    def __init__(self):\n",
        "\n",
        "        # add these to the init part in keops\n",
        "        self.length = 100\n",
        "        self.num_sampling = 20\n",
        "        self.x = torch.rand(self.length,3)*100\n",
        "\n",
        "    ############################################################         \n",
        "    def Nystrom_K_approx_test(self):\n",
        "        ############################################################ \n",
        "\n",
        "        # from pykeops.torch.nystrom import LazyNystrom_TK as Nystrom_TK\n",
        "        ''' \n",
        "        Function to test K_approx method.\n",
        "        We expect K_approx(x) ~ X_new @ X_new^T.\n",
        "    \n",
        "        '''\n",
        "        kernels = ['rbf', 'exp']\n",
        "        \n",
        "        for kernel in kernels:\n",
        "            N_TK = Nystrom_TK(n_components=self.num_sampling, kernel = kernel, random_state=0).fit(self.x)\n",
        "            K = N_TK.K_approx(self.x)\n",
        "            x_new = N_TK.transform(self.x)\n",
        "            \n",
        "            ML2_error = np.linalg.norm(x_new @ x_new.T - K) / K.shape[0]\n",
        "            print(f\"ML2 error for {kernel} kernel:\", ML2_error)\n",
        "            print(kernel, K)\n",
        "\n",
        "            assert ML2_error < 0.05 # CHANGE THIS BACK TO 0.01 (or less)\n",
        "            #self.assertTrue(ML2_error < 0.01)\n",
        "\n",
        "    ############################################################ \n",
        "    def Nystrom_K_shape_test(self):\n",
        "        ############################################################ \n",
        "\n",
        "        # from pykeops.torch.nystrom import LazyNystrom_TK as Nystrom_TK\n",
        "        ''' \n",
        "        Function to check that data shapes are correct.\n",
        "    \n",
        "        '''\n",
        "        kernels = ['rbf', 'exp']\n",
        "        \n",
        "        for kernel in kernels:\n",
        "            N_NT = Nystrom_TK(n_components=self.num_sampling, kernel = 'rbf', random_state=0).fit(self.x)\n",
        "\n",
        "            assert N_NT.normalization_.shape == (self.num_sampling, self.num_sampling)\n",
        "            assert N_NT.transform(self.x).shape == (self.length, self.num_sampling)\n",
        "            #self.assertTrue(N_NT.normalization_.shape == (self.num_sampling, 1))\n",
        "            #self.assertTrue(N_NT.transform(self.x).shape == (self.length, self.num_sampling))\n",
        "    \n",
        "test = UnitTestCase()    \n",
        "test.Nystrom_K_approx_test()\n",
        "test.Nystrom_K_shape_test()"
      ],
      "execution_count": null,
      "outputs": [
        {
          "output_type": "stream",
          "text": [
            "ML2 error for rbf kernel: 0.044721360206604006\n",
            "rbf tensor([[0., 0., 0.,  ..., 0., 0., 0.],\n",
            "        [0., 0., 0.,  ..., 0., 0., 0.],\n",
            "        [0., 0., 1.,  ..., 0., 0., 0.],\n",
            "        ...,\n",
            "        [0., 0., 0.,  ..., 0., 0., 0.],\n",
            "        [0., 0., 0.,  ..., 0., 0., 0.],\n",
            "        [0., 0., 0.,  ..., 0., 0., 0.]])\n",
            "ML2 error for exp kernel: 1.686000388190223e-09\n",
            "exp tensor([[ 3.2932e-12,  1.0124e-19,  4.7879e-08,  ...,  2.1314e-20,\n",
            "          6.5320e-13,  6.5566e-26],\n",
            "        [ 1.0124e-19,  4.1169e-15,  1.8964e-12,  ...,  1.1009e-22,\n",
            "          2.1668e-21,  8.1138e-20],\n",
            "        [ 4.7879e-08,  1.8964e-12,  1.0000e+00,  ..., -7.4398e-18,\n",
            "          2.0324e-13,  3.8743e-20],\n",
            "        ...,\n",
            "        [ 2.1314e-20,  1.1009e-22, -7.4398e-18,  ...,  4.5122e-19,\n",
            "          1.1459e-22,  1.1280e-25],\n",
            "        [ 6.5320e-13,  2.1668e-21,  2.0324e-13,  ...,  1.1459e-22,\n",
            "          1.4769e-13,  1.4723e-26],\n",
            "        [ 6.5566e-26,  8.1138e-20,  3.8743e-20,  ...,  1.1280e-25,\n",
            "          1.4723e-26,  1.6006e-24]])\n"
          ],
          "name": "stdout"
        }
      ]
    }
  ]
}