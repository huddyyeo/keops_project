{
  "nbformat": 4,
  "nbformat_minor": 0,
  "metadata": {
    "colab": {
      "name": "Unit_tests_nystrom.ipynb",
      "provenance": []
    },
    "kernelspec": {
      "name": "python3",
      "display_name": "Python 3"
    }
  },
  "cells": [
    {
      "cell_type": "code",
      "metadata": {
        "colab": {
          "base_uri": "https://localhost:8080/"
        },
        "id": "1YdGwTvT8w0T",
        "outputId": "2f99b1ce-d0e1-4c74-8929-cdd6b015df27"
      },
      "source": [
        "import numpy as np\r\n",
        "from nystrom_master_code import Nystrom_NK\r\n",
        "\r\n",
        "class UnitTestCase():\r\n",
        "    \r\n",
        "    def __init__(self):\r\n",
        "        self.length = 100\r\n",
        "        self.num_sampling = 20\r\n",
        "        self.x = np.random.randint(1,10,(self.length,3)).astype(np.float32)\r\n",
        "        \r\n",
        "    def Nystrom_K_approx_test(self):\r\n",
        "        ''' \r\n",
        "        Function to test K_approx method.\r\n",
        "        We expect K_approx(x) ~ X_new @ X_new^T.\r\n",
        "    \r\n",
        "        '''\r\n",
        "        kernels = ['linear', 'rbf', 'exp']\r\n",
        "        \r\n",
        "        for kernel in kernels:\r\n",
        "            N_NK = Nystrom_NK(n_components=self.num_sampling, kernel = kernel, random_state=0).fit(self.x)\r\n",
        "            K = N_NK.K_approx(self.x)\r\n",
        "            x_new = N_NK.transform(self.x)\r\n",
        "            \r\n",
        "            ML2_error = np.linalg.norm(x_new @ x_new.T - K) / K.size\r\n",
        "\r\n",
        "            assert ML2_error < 0.5\r\n",
        "\r\n",
        "    def Nystrom_K_shape_test(self):\r\n",
        "        ''' \r\n",
        "        Function to check that data shapes are correct.\r\n",
        "    \r\n",
        "        '''\r\n",
        "        N_NK = Nystrom_NK(n_components=self.num_sampling, kernel = 'rbf', random_state=0).fit(self.x)\r\n",
        "        \r\n",
        "        assert N_NK.normalization_.shape == (self.num_sampling, self.num_sampling)\r\n",
        "        assert N_NK.transform(self.x).shape == (self.length, self.num_sampling)\r\n",
        "    \r\n",
        "test = UnitTestCase()    \r\n",
        "test.Nystrom_K_approx_test()\r\n",
        "test.Nystrom_K_shape_test()"
      ],
      "execution_count": 11,
      "outputs": [
        {
          "output_type": "stream",
          "text": [
            "0.2227592041015625\n",
            "Compiling libKeOpsnumpyfd35c8a80d in /root/.cache/pykeops-1.4.2-cpython-36:\n",
            "       formula: Sum_Reduction((Exp((IntCst(-1) * Sum(Square((Var(0,3,0) - Var(1,3,1)))))) * Var(2,1,1)),0)\n",
            "       aliases: Var(0,3,0); Var(1,3,1); Var(2,1,1); \n",
            "       dtype  : float32\n",
            "... Done.\n",
            "Compiling libKeOpsnumpye3569f8fe8 in /root/.cache/pykeops-1.4.2-cpython-36:\n",
            "       formula: Sum_Reduction((Exp((IntCst(-1) * Sum(Square((Var(0,3,0) - Var(1,3,1)))))) * Var(2,20,1)),0)\n",
            "       aliases: Var(0,3,0); Var(1,3,1); Var(2,20,1); \n",
            "       dtype  : float32\n",
            "... Done.\n",
            "Compiling libKeOpsnumpyd0341f3f34 in /root/.cache/pykeops-1.4.2-cpython-36:\n",
            "       formula: Sum_Reduction((Exp((IntCst(-1) * Sum(Square((Var(0,3,0) - Var(1,3,1)))))) * Var(2,100,1)),0)\n",
            "       aliases: Var(0,3,0); Var(1,3,1); Var(2,100,1); \n",
            "       dtype  : float32\n",
            "... Done.\n",
            "2.5813937654106667e-12\n",
            "Compiling libKeOpsnumpy1453b954c8 in /root/.cache/pykeops-1.4.2-cpython-36:\n",
            "       formula: Sum_Reduction((Exp((IntCst(-1) * Sum(Abs((Var(0,3,0) - Var(1,3,1)))))) * Var(2,1,1)),0)\n",
            "       aliases: Var(0,3,0); Var(1,3,1); Var(2,1,1); \n",
            "       dtype  : float32\n",
            "... Done.\n",
            "Compiling libKeOpsnumpyd72476e188 in /root/.cache/pykeops-1.4.2-cpython-36:\n",
            "       formula: Sum_Reduction((Exp((IntCst(-1) * Sum(Abs((Var(0,3,0) - Var(1,3,1)))))) * Var(2,20,1)),0)\n",
            "       aliases: Var(0,3,0); Var(1,3,1); Var(2,20,1); \n",
            "       dtype  : float32\n",
            "... Done.\n",
            "Compiling libKeOpsnumpy5b2540763c in /root/.cache/pykeops-1.4.2-cpython-36:\n",
            "       formula: Sum_Reduction((Exp((IntCst(-1) * Sum(Abs((Var(0,3,0) - Var(1,3,1)))))) * Var(2,100,1)),0)\n",
            "       aliases: Var(0,3,0); Var(1,3,1); Var(2,100,1); \n",
            "       dtype  : float32\n",
            "... Done.\n",
            "6.518436901359337e-13\n"
          ],
          "name": "stdout"
        }
      ]
    }
  ]
}