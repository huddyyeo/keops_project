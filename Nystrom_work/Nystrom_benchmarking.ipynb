{
  "nbformat": 4,
  "nbformat_minor": 0,
  "metadata": {
    "colab": {
      "name": "Nystrom_benchmarking.ipynb",
      "provenance": [],
      "toc_visible": true
    },
    "kernelspec": {
      "name": "python3",
      "display_name": "Python 3"
    },
    "accelerator": "GPU"
  },
  "cells": [
    {
      "cell_type": "markdown",
      "metadata": {
        "id": "Pfv_lzilZ5kc"
      },
      "source": [
        "#Nystrom Approximation in KeOps: Benchmarking\n",
        "\n",
        "**Other Libraries**\n",
        "\n",
        "In terms of other libraries, we only compare KeOps to Scikit learn, as that is the only commonly used library that has implemented the Nystrom approximation method. We will compare performance both in terms of speed & precision.\n",
        "\n",
        "**Benchmarking within KeOps**\n",
        "\n",
        "We will analyze performance on randomly generated data of varying sizes as well as performance on well-known datasets (e.g. MNIST)."
      ]
    },
    {
      "cell_type": "code",
      "metadata": {
        "id": "4Y-UZ1mbZ2yj"
      },
      "source": [
        "# If using colab, make sure you install via:  !pip install pykeops[full] > log.log\n",
        "# makes plot outputs appear and be stored within the notebook\n",
        "%matplotlib inline \n",
        "\n",
        "!apt-get install cuda=10.2.89-1\n",
        "!pip install si_prefix\n",
        "!pip install sphinx\n",
        "!pip install pykeops[full] > log.log"
      ],
      "execution_count": null,
      "outputs": []
    },
    {
      "cell_type": "code",
      "metadata": {
        "id": "yjXZ9vkbsfI0"
      },
      "source": [
        "import pykeops\n",
        "pykeops.clean_pykeops()          # just in case old build files are still present\n",
        "pykeops.test_numpy_bindings()    # perform the compilation"
      ],
      "execution_count": null,
      "outputs": []
    },
    {
      "cell_type": "code",
      "metadata": {
        "colab": {
          "base_uri": "https://localhost:8080/"
        },
        "id": "S-R9c-XVuuh2",
        "outputId": "f2acbda2-4afd-4302-ba4e-82fc26645235"
      },
      "source": [
        "from google.colab import drive\n",
        "drive.mount('/content/drive')"
      ],
      "execution_count": 4,
      "outputs": [
        {
          "output_type": "stream",
          "text": [
            "Mounted at /content/drive\n"
          ],
          "name": "stdout"
        }
      ]
    },
    {
      "cell_type": "code",
      "metadata": {
        "colab": {
          "base_uri": "https://localhost:8080/"
        },
        "id": "UFbhQyq8uvCA",
        "outputId": "6fe93f83-00ac-45fa-d329-af283376a3f2"
      },
      "source": [
        "cd /content/drive/MyDrive/keops"
      ],
      "execution_count": 7,
      "outputs": [
        {
          "output_type": "stream",
          "text": [
            "/content/drive/MyDrive/keops\n"
          ],
          "name": "stdout"
        }
      ]
    },
    {
      "cell_type": "code",
      "metadata": {
        "id": "7d3Bvmwruwr3"
      },
      "source": [
        "import sys\n",
        "sys.path.append('/content/drive/MyDrive/keops')"
      ],
      "execution_count": 8,
      "outputs": []
    },
    {
      "cell_type": "code",
      "metadata": {
        "id": "UWolKtCyaWyj"
      },
      "source": [
        "import numpy as np\n",
        "import torch\n",
        "#import pykeops\n",
        "\n",
        "import matplotlib.pyplot as plt\n",
        "import time\n",
        "\n",
        "from sklearn.kernel_approximation import Nystroem\n",
        "from sklearn.datasets import make_blobs\n",
        "\n",
        "from nystrom_numpy import Nystrom_NK\n",
        "from nystrom_torch import Nystrom_TK\n",
        "from numpy_utils import numpytools\n",
        "from torch_utils import torchtools\n",
        "\n",
        "from torchvision.datasets import MNIST\n",
        "from torchvision.transforms import ToTensor, Normalize, Compose\n",
        "from torch.utils.data import DataLoader"
      ],
      "execution_count": 9,
      "outputs": []
    },
    {
      "cell_type": "markdown",
      "metadata": {
        "id": "jgMEPQLwe6i2"
      },
      "source": [
        "###Benchmark Specifications"
      ]
    },
    {
      "cell_type": "code",
      "metadata": {
        "id": "fHt1rWpQapvt",
        "colab": {
          "base_uri": "https://localhost:8080/"
        },
        "outputId": "1024f2ed-3016-4326-f2c0-606416579a81"
      },
      "source": [
        "# Number of sub-samples we want to test the algorithm speed on\n",
        "\n",
        "# Add more later, the benchmarks on the KeOps website go up to 5M (in the 1 / 2 / 5 fashion)\n",
        "\n",
        "NS = [\n",
        "    100,\n",
        "    200,\n",
        "    500,\n",
        "    1000,\n",
        "    2000,\n",
        "    5000\n",
        "]\n",
        "\n",
        "kernels = ['rbf', 'exp']\n",
        "\n",
        "length = 10000\n",
        "\n",
        "use_cuda = torch.cuda.is_available()\n",
        "print(use_cuda)"
      ],
      "execution_count": 10,
      "outputs": [
        {
          "output_type": "stream",
          "text": [
            "True\n"
          ],
          "name": "stdout"
        }
      ]
    },
    {
      "cell_type": "markdown",
      "metadata": {
        "id": "zWY1qg7t88Ex"
      },
      "source": [
        "####Data sets"
      ]
    },
    {
      "cell_type": "code",
      "metadata": {
        "id": "eFdm8yX1rf5l"
      },
      "source": [
        "# data set 1: basic\n",
        "random_data = np.random.uniform(0,100,size = (length,3))\n",
        "random_data_t = torch.tensor(random_data, dtype=torch.float32)\n",
        "\n",
        "# data set 2: with clusters\n",
        "data_clustered, _ = make_blobs(n_samples= length, n_features=3, centers=5)\n",
        "data_clustered_t = torch.tensor(data_clustered, dtype=torch.float32)"
      ],
      "execution_count": 11,
      "outputs": []
    },
    {
      "cell_type": "code",
      "metadata": {
        "id": "hzo90aJq4Z5B"
      },
      "source": [
        "# data set 3: MNIST\n",
        "\n",
        "train_loader = DataLoader(MNIST('/files/', train=True, download=True,\n",
        "                                transform=Compose([ToTensor(), Normalize((0.1307,), (0.3081,))])),\n",
        "                          batch_size=length, shuffle=True)\n",
        "\n",
        "examples = enumerate(train_loader)\n",
        "_, (example_data, _) = next(examples)\n",
        "\n",
        "# create two versions of the data set, on\n",
        "#MNIST_t = example_data.permute(1,0,2,3)\n",
        "MNIST_t = example_data\n",
        "MNIST = MNIST_t.numpy()"
      ],
      "execution_count": null,
      "outputs": []
    },
    {
      "cell_type": "markdown",
      "metadata": {
        "id": "tvkLKhmerjLN"
      },
      "source": [
        "Benchmarking: Main"
      ]
    },
    {
      "cell_type": "code",
      "metadata": {
        "id": "aRLzjLDefMeU"
      },
      "source": [
        "def get_runtime(X, X_t, data_name):\n",
        "    keops_t = []\n",
        "    keops_torch_t = []\n",
        "    sklearn_t  = []\n",
        "\n",
        "    for n_components in NS:\n",
        "        # keops Numpy\n",
        "        nystrom = Nystrom_NK(kernel = 'rbf', random_state = 0, n_components=n_components)\n",
        "        start = time.time()\n",
        "        n_fit = nystrom.fit(X)\n",
        "        end = time.time()\n",
        "        elapsed = end - start\n",
        "        print(f\"KeOps NumPy, {n_components} components, time taken: {round(elapsed, 2)}s.\")\n",
        "        keops_t.append(elapsed)\n",
        "\n",
        "        # keops Torch\n",
        "        nystrom = Nystrom_TK(kernel = 'rbf', random_state = 0, n_components=n_components)\n",
        "        start = time.time()\n",
        "        n_fit = nystrom.fit(X_t)\n",
        "        end = time.time()\n",
        "        elapsed = end - start\n",
        "        print(f\"KeOps Torch, {n_components} components, time taken: {round(elapsed, 2)}s.\")\n",
        "        keops_torch_t.append(elapsed)\n",
        "\n",
        "        # sklearn\n",
        "        start = time.time()\n",
        "        sk_n = Nystroem(kernel='rbf', gamma=1., n_components=n_components, random_state=0).fit(X)\n",
        "        end = time.time()\n",
        "        elapsed = end - start\n",
        "        print(f\"Sklearn, {n_components} components, time taken: {round(elapsed, 2)}s.\")\n",
        "        sklearn_t.append(elapsed)\n",
        "\n",
        "    plt.plot(NS, keops_t, marker =\"o\", label = 'KeOps NumPy')\n",
        "    plt.plot(NS, sklearn_t, marker = \"x\", label = 'Sklearn')\n",
        "    plt.plot(NS, keops_torch_t, marker = \"*\", label = 'KeOps Torch')\n",
        "    plt.legend()\n",
        "    plt.xlabel(\"Number of components\")\n",
        "    plt.ylabel(\"Time elapsed (s)\")\n",
        "    plt.title(f\"KeOps vs Scikit-learn runtimes on {data_name}\")\n",
        "    plt.grid(True, which=\"major\", linestyle=\"dotted\")\n",
        "    plt.show()"
      ],
      "execution_count": 13,
      "outputs": []
    },
    {
      "cell_type": "code",
      "metadata": {
        "colab": {
          "base_uri": "https://localhost:8080/",
          "height": 1000
        },
        "id": "PPdOFzYVz8K_",
        "outputId": "bd27afcb-500a-40af-ba2a-74cff20ed073"
      },
      "source": [
        "get_runtime(random_data, random_data_t, 'Random unclustered data')\n",
        "get_runtime(data_clustered, data_clustered_t, 'Random clustered data')"
      ],
      "execution_count": 14,
      "outputs": [
        {
          "output_type": "stream",
          "text": [
            "KeOps NumPy, 100 components, time taken: 0.04s.\n",
            "KeOps Torch, 100 components, time taken: 0.25s.\n",
            "Sklearn, 100 components, time taken: 0.07s.\n",
            "KeOps NumPy, 200 components, time taken: 0.06s.\n",
            "KeOps Torch, 200 components, time taken: 0.08s.\n",
            "Sklearn, 200 components, time taken: 0.04s.\n",
            "KeOps NumPy, 500 components, time taken: 0.6s.\n",
            "KeOps Torch, 500 components, time taken: 0.49s.\n",
            "Sklearn, 500 components, time taken: 0.19s.\n",
            "KeOps NumPy, 1000 components, time taken: 2.65s.\n",
            "KeOps Torch, 1000 components, time taken: 2.18s.\n",
            "Sklearn, 1000 components, time taken: 0.79s.\n",
            "KeOps NumPy, 2000 components, time taken: 22.51s.\n",
            "KeOps Torch, 2000 components, time taken: 8.42s.\n",
            "Sklearn, 2000 components, time taken: 4.55s.\n",
            "KeOps NumPy, 5000 components, time taken: 521.73s.\n",
            "KeOps Torch, 5000 components, time taken: 57.61s.\n",
            "Sklearn, 5000 components, time taken: 76.89s.\n"
          ],
          "name": "stdout"
        },
        {
          "output_type": "display_data",
          "data": {
            "image/png": "[encoded data removed]",
            "text/plain": [
              "<Figure size 432x288 with 1 Axes>"
            ]
          },
          "metadata": {
            "tags": [],
            "needs_background": "light"
          }
        },
        {
          "output_type": "stream",
          "text": [
            "KeOps NumPy, 100 components, time taken: 0.02s.\n",
            "KeOps Torch, 100 components, time taken: 0.01s.\n",
            "Sklearn, 100 components, time taken: 0.01s.\n",
            "KeOps NumPy, 200 components, time taken: 0.05s.\n",
            "KeOps Torch, 200 components, time taken: 0.02s.\n",
            "Sklearn, 200 components, time taken: 0.01s.\n",
            "KeOps NumPy, 500 components, time taken: 0.58s.\n",
            "KeOps Torch, 500 components, time taken: 0.14s.\n",
            "Sklearn, 500 components, time taken: 0.13s.\n",
            "KeOps NumPy, 1000 components, time taken: 3.38s.\n",
            "KeOps Torch, 1000 components, time taken: 0.5s.\n",
            "Sklearn, 1000 components, time taken: 0.69s.\n",
            "KeOps NumPy, 2000 components, time taken: 22.94s.\n",
            "KeOps Torch, 2000 components, time taken: 2.73s.\n",
            "Sklearn, 2000 components, time taken: 4.28s.\n",
            "KeOps NumPy, 5000 components, time taken: 468.17s.\n",
            "KeOps Torch, 5000 components, time taken: 37.61s.\n",
            "Sklearn, 5000 components, time taken: 78.56s.\n"
          ],
          "name": "stdout"
        },
        {
          "output_type": "display_data",
          "data": {
            "image/png": "[encoded data removed]",
            "text/plain": [
              "<Figure size 432x288 with 1 Axes>"
            ]
          },
          "metadata": {
            "tags": [],
            "needs_background": "light"
          }
        }
      ]
    },
    {
      "cell_type": "code",
      "metadata": {
        "id": "UHYv-8ePGxJf"
      },
      "source": [
        "# TO DO\n",
        "# Currently does not run, not sure if it's the data or our code\n",
        "\n",
        "# get_runtime(MNIST, MNIST_t, 'MNIST data set (10k samples)')"
      ],
      "execution_count": 15,
      "outputs": []
    },
    {
      "cell_type": "markdown",
      "metadata": {
        "id": "FlNlsAvzEVnr"
      },
      "source": [
        "**Something to look into!!!**\n",
        "\n",
        "The below illustrates that there's something strange going on with X_ transform.\n",
        "For unclustered data, Nystrom_NK returns practically a zero matrix.\n",
        "\n",
        "For the clustered data, the results of our and Sklearn data sets are wildly different."
      ]
    },
    {
      "cell_type": "code",
      "metadata": {
        "colab": {
          "base_uri": "https://localhost:8080/"
        },
        "id": "6Kj0jzQFqmti",
        "outputId": "11177cac-5036-4389-a570-ad473280c071"
      },
      "source": [
        "n_samples = 1000\n",
        "n_components = 100\n",
        "\n",
        "data_clustered_s, _ = make_blobs(n_samples= 1000, n_features=3, centers=5)\n",
        "random_data_s = np.random.uniform(0,100,size = (length,3))\n",
        "\n",
        "print('Random unclustered data')\n",
        "print('')\n",
        "nystrom = Nystrom_NK(kernel = 'rbf', random_state = 0, n_components=n_components).fit(random_data_s)\n",
        "x_new = nystrom.transform(random_data_s)\n",
        "print('keops shape', x_new.shape)\n",
        "print('keops sum', x_new.sum())\n",
        "\n",
        "sk_n = Nystroem(kernel='rbf', gamma=1., n_components=n_components, random_state=0).fit(random_data_s)\n",
        "x_new_sk = sk_n.transform(random_data_s)\n",
        "print('sklearn shape', x_new_sk.shape)\n",
        "print('sklearn sum', x_new_sk.sum())\n",
        "\n",
        "print('Random clustered data')\n",
        "print('')\n",
        "nystrom = Nystrom_NK(kernel = 'rbf', random_state = 0, n_components=n_components).fit(data_clustered_s)\n",
        "x_new = nystrom.transform(data_clustered_s)\n",
        "print('keops shape', x_new.shape)\n",
        "print('keops sum', x_new.sum())\n",
        "\n",
        "sk_n = Nystroem(kernel='rbf', gamma=1., n_components=n_components, random_state=0).fit(data_clustered_s)\n",
        "x_new_sk = sk_n.transform(data_clustered_s)\n",
        "print('sklearn shape', x_new_sk.shape)\n",
        "print('sklearn sum', x_new_sk.sum())"
      ],
      "execution_count": 16,
      "outputs": [
        {
          "output_type": "stream",
          "text": [
            "Random unclustered data\n",
            "\n",
            "keops shape (10000, 100)\n",
            "keops sum 127.02875654513214\n",
            "sklearn shape (10000, 100)\n",
            "sklearn sum 104.55688134703367\n",
            "Random clustered data\n",
            "\n",
            "keops shape (1000, 100)\n",
            "keops sum 2261.4491689047936\n",
            "sklearn shape (1000, 100)\n",
            "sklearn sum 1154.5034878092997\n"
          ],
          "name": "stdout"
        }
      ]
    },
    {
      "cell_type": "markdown",
      "metadata": {
        "id": "4DXGBaA6Igha"
      },
      "source": [
        "How can we assess the quality of the kernel approximation?\n",
        "\n",
        "- simple method: take average distance between each point x and the closes basis point\n",
        "\n",
        "- more advanced methods discussed in papers below:\n",
        "\n",
        "https://www.jmlr.org/papers/volume6/drineas05a/drineas05a.pdf \\\\\n",
        "http://citeseerx.ist.psu.edu/viewdoc/download?doi=10.1.1.149.6869&rep=rep1&type=pdf\n",
        "\n",
        "To Do:\n",
        "- look at how sampling affects the approximation quality (looks like it makes quite some difference, sklearn does random sampling though)"
      ]
    },
    {
      "cell_type": "code",
      "metadata": {
        "id": "faulV2kz3_pl"
      },
      "source": [
        "def get_avg_dist(data, data_t, data_name):\n",
        "    ns = [50, 100, 200, 500, 1000] # corresponds to 5%, 10%, 20%, 50% and the full data set\n",
        "\n",
        "    avg_dists = []\n",
        "    for n_comp in ns:\n",
        "        distances = []\n",
        "        nystrom = Nystrom_NK(kernel = 'rbf', random_state = 0, n_components=n_comp).fit(X)\n",
        "        for sample in X:\n",
        "            dist = min([np.linalg.norm(sample-b_sample) for b_sample in nystrom.components_])\n",
        "            distances.append(dist)\n",
        "        mean_dist = sum(distances) / len(distances)\n",
        "        print(f\"The mean distance when sampling {n_comp} components is {round(mean_dist, 2)}.\")\n",
        "        avg_dists.append(mean_dist)\n",
        "\n",
        "    avg_dists_3 = []\n",
        "    for n_comp in ns:\n",
        "        distances = []\n",
        "        nystrom = Nystrom_TK(kernel = 'rbf', random_state = 0, n_components=n_comp).fit(X_t)\n",
        "        for sample in X_t:\n",
        "            dist = min([np.linalg.norm(sample-b_sample) for b_sample in nystrom.components_])\n",
        "            distances.append(dist)\n",
        "        mean_dist = sum(distances) / len(distances)\n",
        "        print(f\"The mean distance when sampling {n_comp} components is {round(mean_dist, 2)}.\")\n",
        "        avg_dists_3.append(mean_dist)\n",
        "\n",
        "    plt.plot(ns, avg_dists, marker =\"o\", label = 'KeOps NumPy')\n",
        "    plt.plot(ns, avg_dists_3, marker = \"x\", label = 'KeOps Torch')\n",
        "    plt.legend()\n",
        "    plt.xlabel(\"Number of components\")\n",
        "    plt.ylabel(\"Distance (absolute)\")\n",
        "    plt.title(\"Mean distance from nearest neighbour based on n_components\")\n",
        "    plt.grid(True, which=\"major\", linestyle=\"dotted\")\n",
        "    plt.show()"
      ],
      "execution_count": 17,
      "outputs": []
    },
    {
      "cell_type": "code",
      "metadata": {
        "id": "qN97wpALAS7R"
      },
      "source": [
        "# TO DO\n",
        "\n",
        "# get_avg_dist(random_data[:1000], random_data_t[:1000], 'Random unclustered data (1k samples)')\n",
        "# get_runtime(data_clustered[:1000], data_clustered_t[:1000], 'Random clustered data (1k samples)')\n",
        "# get_runtime(MNIST[:1000], MNIST_t[:1000], 'MNIST (1k samples)')"
      ],
      "execution_count": 18,
      "outputs": []
    },
    {
      "cell_type": "markdown",
      "metadata": {
        "id": "iB0GBv0lQHtI"
      },
      "source": [
        "Differences resulting from random seed selection are minor. \\\\\n",
        "As of now, this is not saying as much because it depends on the data scale etc, but if we implement more sophisticated sampling, it will be useful to compare the mean distance given the same data but different sampling."
      ]
    },
    {
      "cell_type": "markdown",
      "metadata": {
        "id": "MQpCuBoqoKF7"
      },
      "source": [
        "###Average distance in Scikit-learn"
      ]
    },
    {
      "cell_type": "code",
      "metadata": {
        "colab": {
          "base_uri": "https://localhost:8080/"
        },
        "id": "p1Lggrr2m38R",
        "outputId": "0599df8b-df22-421c-9dc5-5207e381d6d2"
      },
      "source": [
        "ns = [50, 100, 200, 500, 1000]\n",
        "avg_dists = []\n",
        "X = data_clustered\n",
        "\n",
        "for n_comp in ns:\n",
        "    distances = []\n",
        "    nystrom = Nystroem(kernel='rbf', gamma=1., n_components=n_comp, random_state=0).fit(X)\n",
        "    for sample in X:\n",
        "        dist = min([np.linalg.norm(sample-b_sample) for b_sample in nystrom.components_])\n",
        "        distances.append(dist)\n",
        "    mean_dist = sum(distances) / len(distances)\n",
        "    print(f\"The mean distance when sampling {n_comp} components is {round(mean_dist, 2)}.\")\n",
        "    avg_dists.append(mean_dist)"
      ],
      "execution_count": 20,
      "outputs": [
        {
          "output_type": "stream",
          "text": [
            "The mean distance when sampling 50 components is 1.08.\n",
            "The mean distance when sampling 100 components is 0.87.\n",
            "The mean distance when sampling 200 components is 0.68.\n",
            "The mean distance when sampling 500 components is 0.49.\n",
            "The mean distance when sampling 1000 components is 0.37.\n"
          ],
          "name": "stdout"
        }
      ]
    },
    {
      "cell_type": "markdown",
      "metadata": {
        "id": "TP9CTfqGorc3"
      },
      "source": [
        "Right now Sklearn hasthe same distances, but we could improve by better sampling."
      ]
    },
    {
      "cell_type": "markdown",
      "metadata": {
        "id": "D0DmB4BYZu_W"
      },
      "source": [
        "### Kernel approximation Error"
      ]
    },
    {
      "cell_type": "code",
      "metadata": {
        "id": "PleSFaPaP9DF",
        "colab": {
          "base_uri": "https://localhost:8080/",
          "height": 522
        },
        "outputId": "75fd5106-0817-4f8d-f7a9-74c405b4cdf0"
      },
      "source": [
        "from sklearn.metrics.pairwise import rbf_kernel\n",
        "from sklearn.kernel_approximation import Nystroem\n",
        "\n",
        "length = 5000\n",
        "\n",
        "use_cuda = torch.cuda.is_available()\n",
        "\n",
        "X = np.random.uniform(0,100,size = (length,3))\n",
        "X_t = torch.rand(size = (length,3))*100\n",
        "NS = [50, 100, 200, 500, 1000, 2000, 5000]\n",
        "errors_n = []\n",
        "errors_t = []\n",
        "\n",
        "k = rbf_kernel(X)\n",
        "\n",
        "   \n",
        "for n_comps in NS:\n",
        "\n",
        "    # keops Torch\n",
        "    nystrom = Nystrom_TK(kernel = 'rbf', random_state = 0, n_components=n_comps).fit(X_t)\n",
        "    k_approx = nystrom.K_approx(X_t).detach().cpu().numpy()\n",
        "    error = np.linalg.norm(k-k_approx)\n",
        "    errors_t.append(error)\n",
        "    print(f\"For {n_comps} components the approximation error is {error}.\")\n",
        "\n",
        "    # keops Numpy\n",
        "    nystrom = Nystrom_NK(kernel = 'rbf', random_state = 0, n_components=n_comps).fit(X)\n",
        "    k_approx = nystrom.K_approx(X)\n",
        "    error = np.linalg.norm(k-k_approx)\n",
        "    errors_n.append(error)\n",
        "    print(f\"For {n_comps} components the approximation error is {error}.\")\n",
        "\n",
        "plt.plot(NS, errors_n, marker =\"o\", label = 'rbf kernel')\n",
        "plt.legend()\n",
        "plt.xlabel(\"Number of components\")\n",
        "plt.ylabel(\"Approximation error\")\n",
        "plt.title(\"Kernel approximation error based on n_components\")\n",
        "plt.grid(True, which=\"major\", linestyle=\"dotted\")\n",
        "plt.show()"
      ],
      "execution_count": 24,
      "outputs": [
        {
          "output_type": "stream",
          "text": [
            "For 50 components the approximation error is 71.93107284655683.\n",
            "For 50 components the approximation error is 71.88552408145065.\n",
            "For 100 components the approximation error is 71.59959860553559.\n",
            "For 100 components the approximation error is 71.43979938468442.\n",
            "For 200 components the approximation error is 70.9291138510395.\n",
            "For 200 components the approximation error is 70.64532412923379.\n",
            "For 500 components the approximation error is 68.81656712000122.\n",
            "For 500 components the approximation error is 68.25280177478069.\n",
            "For 1000 components the approximation error is 65.24008198206685.\n",
            "For 1000 components the approximation error is 63.966960991484605.\n",
            "For 2000 components the approximation error is 57.79692823528997.\n",
            "For 2000 components the approximation error is 54.797858722712284.\n",
            "For 5000 components the approximation error is 27.312062530065706.\n",
            "For 5000 components the approximation error is 0.031901232083593245.\n"
          ],
          "name": "stdout"
        },
        {
          "output_type": "display_data",
          "data": {
            "image/png": "[encoded data removed]",
            "text/plain": [
              "<Figure size 432x288 with 1 Axes>"
            ]
          },
          "metadata": {
            "tags": [],
            "needs_background": "light"
          }
        }
      ]
    }
  ]
}