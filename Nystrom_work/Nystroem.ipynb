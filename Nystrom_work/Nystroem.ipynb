{
  "nbformat": 4,
  "nbformat_minor": 0,
  "metadata": {
    "colab": {
      "name": "Nystroem.ipynb",
      "provenance": []
    },
    "kernelspec": {
      "display_name": "Python 3",
      "name": "python3"
    },
    "accelerator": "GPU"
  },
  "cells": [
    {
      "cell_type": "code",
      "metadata": {
        "id": "sWuFPkopIETu",
        "colab": {
          "base_uri": "https://localhost:8080/"
        },
        "outputId": "78deaac0-f6d9-4936-eba3-923a2595639f"
      },
      "source": [
        "!pip install pykeops[full] > install.log\r\n"
      ],
      "execution_count": 1,
      "outputs": [
        {
          "output_type": "stream",
          "text": [
            "\u001b[31mERROR: breathe 4.26.1 has requirement Sphinx<3.5,>=3.0, but you'll have sphinx 1.8.5 which is incompatible.\u001b[0m\n"
          ],
          "name": "stdout"
        }
      ]
    },
    {
      "cell_type": "markdown",
      "metadata": {
        "id": "O0FOh2d-0RH1"
      },
      "source": [
        "Nystrom implementation"
      ]
    },
    {
      "cell_type": "code",
      "metadata": {
        "id": "ocj9Fw-MOigF"
      },
      "source": [
        "from sklearn import datasets, svm\r\n",
        "#from sklearn.kernel_approximation import Nystroem\r\n",
        "import time\r\n",
        "import numpy as np\r\n",
        "import torch\r\n",
        "from matplotlib import pyplot as plt\r\n",
        "from pykeops.torch import LazyTensor\r\n",
        "from scipy.linalg import svd"
      ],
      "execution_count": 2,
      "outputs": []
    },
    {
      "cell_type": "code",
      "metadata": {
        "id": "cad0xd283T2c"
      },
      "source": [
        "def pairwise_kernels_keops(x,y=None, sigma=0.1):\r\n",
        "  \"\"\"A kernel matrix K such that K_{i, j} is the kernel between the ith and jth \r\n",
        "  vectors of the given matrix X\"\"\"\r\n",
        "  #TODO: check pairwise arrays etc for Value Error\r\n",
        "  if y==None:\r\n",
        "    y=x\r\n",
        "  x_i = LazyTensor(x[:, None, :])  # (M, 1, 1)\r\n",
        "  y_j = LazyTensor(y[None, :, :])  # (1, N, 1)\r\n",
        "  print(123)\r\n",
        "  D_ij = ((x_i - y_j) ** 2).sum(-1)  # (M, N) symbolic matrix of squared distances\r\n",
        "  print(type(D_ij))\r\n",
        "  return (-D_ij / (2 * sigma ** 2)).exp()  # (M, N) symbolic Gaussian kernel matrix\r\n",
        "  \r\n",
        "\r\n",
        "\r\n",
        "def pairwise_kernels(x, y=None, sigma =0.1):\r\n",
        "  if y==None:\r\n",
        "    y=x\r\n",
        "  x_i = x[:, None, :]  # (M, 1, 1)\r\n",
        "  y_j = y[None, :, :] # (1, N, 1)\r\n",
        "  D_ij = ((x_i-y_j) ** 2).sum(-1)  # (M, N) symbolic matrix of squared distances\r\n",
        "  print(type(D_ij))\r\n",
        "  return (-D_ij / (2 * sigma ** 2)).exp()  # (M, N) symbolic Gaussian kernel matrix\r\n",
        "    \r\n",
        "\r\n"
      ],
      "execution_count": 3,
      "outputs": []
    },
    {
      "cell_type": "code",
      "metadata": {
        "id": "eWEhAh_jxQUG"
      },
      "source": [
        "#generate data\r\n",
        "use_cuda = torch.cuda.is_available()\r\n",
        "dtype = torch.cuda.FloatTensor if use_cuda else torch.FloatTensor\r\n",
        "\r\n",
        "N = 10000 if use_cuda else 1000  # Number of samples\r\n",
        "\r\n",
        "# Sampling locations:\r\n",
        "x = torch.rand(N, 1).type(dtype)\r\n",
        "\r\n",
        "# Some random-ish 1D signal:\r\n",
        "b = (\r\n",
        "    x\r\n",
        "    + 0.5 * (6 * x).sin()\r\n",
        "    + 0.1 * (20 * x).sin()\r\n",
        "    + 0.05 * torch.randn(N, 1).type(dtype)\r\n",
        ")"
      ],
      "execution_count": 4,
      "outputs": []
    },
    {
      "cell_type": "code",
      "metadata": {
        "id": "ug3qG8k05obM"
      },
      "source": [
        "class Nystrom:\r\n",
        "  def __init__(self, n_components=100):\r\n",
        "    self.n_components = n_components\r\n",
        "    #self.normalization_=None\r\n",
        "\r\n",
        "  def fit(self, X, y):\r\n",
        "    #number of samples. must be greater than n_components\r\n",
        "    n_samples = X.shape[0]\r\n",
        "\r\n",
        "    #define basis\r\n",
        "    n_components = min(n_samples, self.n_components) #should be = n_samples\r\n",
        "    inds = torch.randperm(n_samples) #rnd.permutation(n_samples)\r\n",
        "    basis_inds = inds[:n_components]\r\n",
        "    basis = X[basis_inds]\r\n",
        "    #print(basis.shape)\r\n",
        "    # get rbf kernel matrix\r\n",
        "    basis_kernel = pairwise_kernels(basis, y)\r\n",
        "\r\n",
        "    #get svd\r\n",
        "    #basis_kernel_torch = torch.LazyTensor(basis_kernel)\r\n",
        "    U, S, V = torch.svd(basis_kernel) # svd(basis_kernel.numpy())\r\n",
        "    #S = torch.maximum(S, torch.constant(1e-12))\r\n",
        "    #print(U.shape,S.shape, V.shape)\r\n",
        "    u = U * 1. / torch.sqrt(S)\r\n",
        "    self.normalization_ = torch.dot(u[:,0], V[:,0]) #????\r\n",
        "    self.components_ = basis\r\n",
        "    self.component_indices_ = inds\r\n",
        "    print(self.normalization_)\r\n",
        "    return basis_kernel\r\n",
        "\r\n",
        "\r\n"
      ],
      "execution_count": 7,
      "outputs": []
    },
    {
      "cell_type": "code",
      "metadata": {
        "id": "qdlDANRqrnfW"
      },
      "source": [
        "#print(x)\r\n",
        "feature_map_nystrom = Nystrom()\r\n",
        "#feature_map_nystrom.fit(x)\r\n"
      ],
      "execution_count": 8,
      "outputs": []
    },
    {
      "cell_type": "code",
      "metadata": {
        "id": "j8Dbwo-XeqcD",
        "outputId": "19381e8a-ab9b-40a9-ed5d-95dbf266cbcb",
        "colab": {
          "base_uri": "https://localhost:8080/",
          "height": 261
        }
      },
      "source": [
        "from matplotlib import pyplot as plt\r\n",
        "t = torch.linspace(0, 1, 1001).type(dtype)[:, None]\r\n",
        "alpha = 1.0  # Ridge regularization\r\n",
        "K_xx = feature_map_nystrom.fit(x,x)\r\n",
        "print(K_xx.shape)\r\n",
        "a = K_xx.solve(b, x)\r\n",
        "K_tx = feature_map_nystrom.fit(t,x)\r\n",
        "mean_t = K_tx @ a\r\n",
        "\r\n",
        "# 1D plot:\r\n",
        "plt.figure(figsize=(8, 6))\r\n",
        "\r\n",
        "plt.scatter(x.cpu()[:, 0], b.cpu()[:, 0], s=100 / len(x))  # Noisy samples\r\n",
        "plt.plot(t.cpu().numpy(), mean_t.cpu().numpy(), \"r\")\r\n",
        "\r\n",
        "plt.axis([0, 1, 0, 1])\r\n",
        "plt.tight_layout()"
      ],
      "execution_count": 10,
      "outputs": [
        {
          "output_type": "stream",
          "text": [
            "<class 'torch.Tensor'>\n",
            "torch.Size([100, 1000])\n"
          ],
          "name": "stdout"
        },
        {
          "output_type": "error",
          "ename": "TypeError",
          "evalue": "ignored",
          "traceback": [
            "\u001b[0;31m---------------------------------------------------------------------------\u001b[0m",
            "\u001b[0;31mTypeError\u001b[0m                                 Traceback (most recent call last)",
            "\u001b[0;32m<ipython-input-10-2486cf73f9fe>\u001b[0m in \u001b[0;36m<module>\u001b[0;34m()\u001b[0m\n\u001b[1;32m      4\u001b[0m \u001b[0mK_xx\u001b[0m \u001b[0;34m=\u001b[0m \u001b[0mfeature_map_nystrom\u001b[0m\u001b[0;34m.\u001b[0m\u001b[0mfit\u001b[0m\u001b[0;34m(\u001b[0m\u001b[0mx\u001b[0m\u001b[0;34m,\u001b[0m\u001b[0mx\u001b[0m\u001b[0;34m)\u001b[0m\u001b[0;34m\u001b[0m\u001b[0;34m\u001b[0m\u001b[0m\n\u001b[1;32m      5\u001b[0m \u001b[0mprint\u001b[0m\u001b[0;34m(\u001b[0m\u001b[0mK_xx\u001b[0m\u001b[0;34m.\u001b[0m\u001b[0mshape\u001b[0m\u001b[0;34m)\u001b[0m\u001b[0;34m\u001b[0m\u001b[0;34m\u001b[0m\u001b[0m\n\u001b[0;32m----> 6\u001b[0;31m \u001b[0ma\u001b[0m \u001b[0;34m=\u001b[0m \u001b[0mK_xx\u001b[0m\u001b[0;34m.\u001b[0m\u001b[0msolve\u001b[0m\u001b[0;34m(\u001b[0m\u001b[0mb\u001b[0m\u001b[0;34m,\u001b[0m \u001b[0mx\u001b[0m\u001b[0;34m)\u001b[0m\u001b[0;34m\u001b[0m\u001b[0;34m\u001b[0m\u001b[0m\n\u001b[0m\u001b[1;32m      7\u001b[0m \u001b[0mK_tx\u001b[0m \u001b[0;34m=\u001b[0m \u001b[0mfeature_map_nystrom\u001b[0m\u001b[0;34m.\u001b[0m\u001b[0mfit\u001b[0m\u001b[0;34m(\u001b[0m\u001b[0mt\u001b[0m\u001b[0;34m,\u001b[0m\u001b[0mx\u001b[0m\u001b[0;34m)\u001b[0m\u001b[0;34m\u001b[0m\u001b[0;34m\u001b[0m\u001b[0m\n\u001b[1;32m      8\u001b[0m \u001b[0mmean_t\u001b[0m \u001b[0;34m=\u001b[0m \u001b[0mK_tx\u001b[0m \u001b[0;34m@\u001b[0m \u001b[0ma\u001b[0m\u001b[0;34m\u001b[0m\u001b[0;34m\u001b[0m\u001b[0m\n",
            "\u001b[0;31mTypeError\u001b[0m: solve() takes 1 positional argument but 2 were given"
          ]
        }
      ]
    },
    {
      "cell_type": "code",
      "metadata": {
        "id": "7YoUzJlKOmAz"
      },
      "source": [
        "X = torch.randn(1000000, 3, requires_grad=True).cuda()\r\n",
        "y = torch.randn(2000000, 3).cuda()\r\n",
        "data = X \r\n",
        "\r\n",
        "clf = svm.LinearSVC()\r\n",
        "feature_map_nystroem = Nystroem(gamma=.2,\r\n",
        "                                random_state=1,\r\n",
        "                                n_components=300)\r\n",
        "\r\n",
        "data_transformed = feature_map_nystroem.fit_transform(data)"
      ],
      "execution_count": null,
      "outputs": []
    },
    {
      "cell_type": "code",
      "metadata": {
        "id": "qlttnwrrephs"
      },
      "source": [
        ""
      ],
      "execution_count": null,
      "outputs": []
    },
    {
      "cell_type": "markdown",
      "metadata": {
        "id": "85eFM0uS0ZOM"
      },
      "source": [
        "SKLearn nystroem example"
      ]
    },
    {
      "cell_type": "code",
      "metadata": {
        "colab": {
          "base_uri": "https://localhost:8080/"
        },
        "id": "jmlQ5wfvA2wz",
        "outputId": "3096eb7f-9313-42aa-a7c0-fd2c8fb6d0bd"
      },
      "source": [
        "type(X)"
      ],
      "execution_count": null,
      "outputs": [
        {
          "output_type": "execute_result",
          "data": {
            "text/plain": [
              "numpy.ndarray"
            ]
          },
          "metadata": {
            "tags": []
          },
          "execution_count": 19
        }
      ]
    },
    {
      "cell_type": "code",
      "metadata": {
        "colab": {
          "base_uri": "https://localhost:8080/",
          "height": 308
        },
        "id": "F5b1Bi9xIo24",
        "outputId": "150721f7-9586-45ab-a20a-df914cbcd9f2"
      },
      "source": [
        "from sklearn.datasets import load_digits\r\n",
        "digits = load_digits()\r\n",
        "print(digits.data.shape)\r\n",
        "\r\n",
        "import matplotlib.pyplot as plt \r\n",
        "plt.gray() \r\n",
        "plt.matshow(digits.images[0]) \r\n",
        "plt.show() "
      ],
      "execution_count": null,
      "outputs": [
        {
          "output_type": "stream",
          "text": [
            "(1797, 64)\n"
          ],
          "name": "stdout"
        },
        {
          "output_type": "display_data",
          "data": {
            "text/plain": [
              "<Figure size 432x288 with 0 Axes>"
            ]
          },
          "metadata": {
            "tags": []
          }
        },
        {
          "output_type": "display_data",
          "data": {
            "image/png": "[encoded data removed]",
            "text/plain": [
              "<Figure size 288x288 with 1 Axes>"
            ]
          },
          "metadata": {
            "tags": [],
            "needs_background": "light"
          }
        }
      ]
    },
    {
      "cell_type": "code",
      "metadata": {
        "colab": {
          "base_uri": "https://localhost:8080/"
        },
        "id": "CQbMduK1Orh6",
        "outputId": "50dcf87e-c447-4bc3-be7c-174723485b88"
      },
      "source": [
        "%%timeit\r\n",
        "clf.fit(data_transformed, y)\r\n"
      ],
      "execution_count": null,
      "outputs": [
        {
          "output_type": "stream",
          "text": [
            "10 loops, best of 3: 150 ms per loop\n"
          ],
          "name": "stdout"
        }
      ]
    },
    {
      "cell_type": "code",
      "metadata": {
        "colab": {
          "base_uri": "https://localhost:8080/"
        },
        "id": "fQt6LVoRhlTY",
        "outputId": "61a218a5-e15f-4038-e2aa-1a797bf5c191"
      },
      "source": [
        "data_transformed.shape"
      ],
      "execution_count": null,
      "outputs": [
        {
          "output_type": "execute_result",
          "data": {
            "text/plain": [
              "(1617, 300)"
            ]
          },
          "metadata": {
            "tags": []
          },
          "execution_count": 23
        }
      ]
    },
    {
      "cell_type": "code",
      "metadata": {
        "colab": {
          "base_uri": "https://localhost:8080/"
        },
        "id": "teaCAW8NOtg_",
        "outputId": "293b8e12-3570-4aae-a486-d1e2a61d50ef"
      },
      "source": [
        "%%timeit\r\n",
        "clf.score(data_transformed, y)"
      ],
      "execution_count": null,
      "outputs": [
        {
          "output_type": "stream",
          "text": [
            "The slowest run took 4.38 times longer than the fastest. This could mean that an intermediate result is being cached.\n",
            "100 loops, best of 3: 2.28 ms per loop\n"
          ],
          "name": "stdout"
        }
      ]
    },
    {
      "cell_type": "code",
      "metadata": {
        "id": "io6gaA3C0dW-"
      },
      "source": [
        ""
      ],
      "execution_count": null,
      "outputs": []
    },
    {
      "cell_type": "markdown",
      "metadata": {
        "id": "N8JIkkP70d4V"
      },
      "source": [
        "Nyst"
      ]
    },
    {
      "cell_type": "code",
      "metadata": {
        "id": "iJlztu4yQdbd"
      },
      "source": [
        "def gaussian_kernel(x, y, sigma=0.1):\r\n",
        "  print(x)\r\n",
        "  print(123)\r\n",
        "  x= torch.tensor(x)\r\n",
        "  x_i = LazyTensor(x[:, None, :])  # (M, 1, 1)\r\n",
        "  y_j = LazyTensor(y[None, :, :])  # (1, N, 1)\r\n",
        "  print(123)\r\n",
        "  D_ij = ((x_i - y_j) ** 2).sum(-1)  # (M, N) symbolic matrix of squared distances\r\n",
        "  print(type(D_ij))\r\n",
        "  return (-D_ij / (2 * sigma ** 2)).exp()  # (M, N) symbolic Gaussian kernel matrix"
      ],
      "execution_count": null,
      "outputs": []
    },
    {
      "cell_type": "code",
      "metadata": {
        "id": "M6l41fCdOuAA"
      },
      "source": [
        "class Nystroem_keops(Nystroem):\r\n",
        "  def __init__(self, kernel=\"rbf\", gamma=None, coef0=1, degree=3,\r\n",
        "                 kernel_params=None, n_components=100, random_state=None):\r\n",
        "    \r\n",
        "    super().__init__( kernel=\"rbf\", gamma=None, coef0=1, degree=3,\r\n",
        "                 kernel_params=None, n_components=100, random_state=None)\r\n",
        "    \r\n",
        "  def pairwise_kernels(X,y, metric=\"rbf\",\r\n",
        "                                    filter_params=True,\r\n",
        "                                    **kernel_params):\r\n",
        "    \r\n",
        "    alpha = 1.0  # Ridge regularization\r\n",
        "\r\n",
        "    K_xx = gaussian_kernel(X,X)\r\n",
        "    #a = K_xx.solve(y, alpha=alpha)\r\n",
        "\r\n",
        "    return K_xx\r\n",
        "    "
      ],
      "execution_count": null,
      "outputs": []
    },
    {
      "cell_type": "code",
      "metadata": {
        "colab": {
          "base_uri": "https://localhost:8080/",
          "height": 352
        },
        "id": "f35NLwAXgbDw",
        "outputId": "c598639a-c023-4198-c804-0b81e79b5154"
      },
      "source": [
        "print(feature_map_nystroem_keops.pairwise_kernels(X,y))"
      ],
      "execution_count": null,
      "outputs": [
        {
          "output_type": "stream",
          "text": [
            "Nystroem_keops(coef0=1, degree=3, gamma=None, kernel='rbf', kernel_params=None,\n",
            "               n_components=100, random_state=None)\n",
            "123\n"
          ],
          "name": "stdout"
        },
        {
          "output_type": "error",
          "ename": "RuntimeError",
          "evalue": "ignored",
          "traceback": [
            "\u001b[0;31m---------------------------------------------------------------------------\u001b[0m",
            "\u001b[0;31mRuntimeError\u001b[0m                              Traceback (most recent call last)",
            "\u001b[0;32m<ipython-input-43-171560bfbe14>\u001b[0m in \u001b[0;36m<module>\u001b[0;34m()\u001b[0m\n\u001b[0;32m----> 1\u001b[0;31m \u001b[0mprint\u001b[0m\u001b[0;34m(\u001b[0m\u001b[0mfeature_map_nystroem_keops\u001b[0m\u001b[0;34m.\u001b[0m\u001b[0mpairwise_kernels\u001b[0m\u001b[0;34m(\u001b[0m\u001b[0mX\u001b[0m\u001b[0;34m,\u001b[0m\u001b[0my\u001b[0m\u001b[0;34m)\u001b[0m\u001b[0;34m)\u001b[0m\u001b[0;34m\u001b[0m\u001b[0;34m\u001b[0m\u001b[0m\n\u001b[0m",
            "\u001b[0;32m<ipython-input-35-01fd032b5f50>\u001b[0m in \u001b[0;36mpairwise_kernels\u001b[0;34m(X, y, metric, filter_params, **kernel_params)\u001b[0m\n\u001b[1;32m     12\u001b[0m     \u001b[0malpha\u001b[0m \u001b[0;34m=\u001b[0m \u001b[0;36m1.0\u001b[0m  \u001b[0;31m# Ridge regularization\u001b[0m\u001b[0;34m\u001b[0m\u001b[0;34m\u001b[0m\u001b[0m\n\u001b[1;32m     13\u001b[0m \u001b[0;34m\u001b[0m\u001b[0m\n\u001b[0;32m---> 14\u001b[0;31m     \u001b[0mK_xx\u001b[0m \u001b[0;34m=\u001b[0m \u001b[0mgaussian_kernel\u001b[0m\u001b[0;34m(\u001b[0m\u001b[0mX\u001b[0m\u001b[0;34m,\u001b[0m\u001b[0mX\u001b[0m\u001b[0;34m)\u001b[0m\u001b[0;34m\u001b[0m\u001b[0;34m\u001b[0m\u001b[0m\n\u001b[0m\u001b[1;32m     15\u001b[0m     \u001b[0;31m#a = K_xx.solve(y, alpha=alpha)\u001b[0m\u001b[0;34m\u001b[0m\u001b[0;34m\u001b[0m\u001b[0;34m\u001b[0m\u001b[0m\n\u001b[1;32m     16\u001b[0m \u001b[0;34m\u001b[0m\u001b[0m\n",
            "\u001b[0;32m<ipython-input-41-923a2fe6963a>\u001b[0m in \u001b[0;36mgaussian_kernel\u001b[0;34m(x, y, sigma)\u001b[0m\n\u001b[1;32m      2\u001b[0m   \u001b[0mprint\u001b[0m\u001b[0;34m(\u001b[0m\u001b[0mx\u001b[0m\u001b[0;34m)\u001b[0m\u001b[0;34m\u001b[0m\u001b[0;34m\u001b[0m\u001b[0m\n\u001b[1;32m      3\u001b[0m   \u001b[0mprint\u001b[0m\u001b[0;34m(\u001b[0m\u001b[0;36m123\u001b[0m\u001b[0;34m)\u001b[0m\u001b[0;34m\u001b[0m\u001b[0;34m\u001b[0m\u001b[0m\n\u001b[0;32m----> 4\u001b[0;31m   \u001b[0mx\u001b[0m\u001b[0;34m=\u001b[0m \u001b[0mtorch\u001b[0m\u001b[0;34m.\u001b[0m\u001b[0mtensor\u001b[0m\u001b[0;34m(\u001b[0m\u001b[0mx\u001b[0m\u001b[0;34m)\u001b[0m\u001b[0;34m\u001b[0m\u001b[0;34m\u001b[0m\u001b[0m\n\u001b[0m\u001b[1;32m      5\u001b[0m   \u001b[0mx_i\u001b[0m \u001b[0;34m=\u001b[0m \u001b[0mLazyTensor\u001b[0m\u001b[0;34m(\u001b[0m\u001b[0mx\u001b[0m\u001b[0;34m[\u001b[0m\u001b[0;34m:\u001b[0m\u001b[0;34m,\u001b[0m \u001b[0;32mNone\u001b[0m\u001b[0;34m,\u001b[0m \u001b[0;34m:\u001b[0m\u001b[0;34m]\u001b[0m\u001b[0;34m)\u001b[0m  \u001b[0;31m# (M, 1, 1)\u001b[0m\u001b[0;34m\u001b[0m\u001b[0;34m\u001b[0m\u001b[0m\n\u001b[1;32m      6\u001b[0m   \u001b[0my_j\u001b[0m \u001b[0;34m=\u001b[0m \u001b[0mLazyTensor\u001b[0m\u001b[0;34m(\u001b[0m\u001b[0my\u001b[0m\u001b[0;34m[\u001b[0m\u001b[0;32mNone\u001b[0m\u001b[0;34m,\u001b[0m \u001b[0;34m:\u001b[0m\u001b[0;34m,\u001b[0m \u001b[0;34m:\u001b[0m\u001b[0;34m]\u001b[0m\u001b[0;34m)\u001b[0m  \u001b[0;31m# (1, N, 1)\u001b[0m\u001b[0;34m\u001b[0m\u001b[0;34m\u001b[0m\u001b[0m\n",
            "\u001b[0;31mRuntimeError\u001b[0m: Could not infer dtype of Nystroem_keops"
          ]
        }
      ]
    },
    {
      "cell_type": "code",
      "metadata": {
        "id": "DWGRAdiZQoUg"
      },
      "source": [
        "clf = svm.LinearSVC()\r\n",
        "feature_map_nystroem_keops = Nystroem_keops(gamma=.2,\r\n",
        "                                random_state=1,\r\n",
        "                                n_components=300)\r\n",
        "data_transformed_keops = feature_map_nystroem_keops.fit_transform(data)"
      ],
      "execution_count": null,
      "outputs": []
    },
    {
      "cell_type": "code",
      "metadata": {
        "colab": {
          "base_uri": "https://localhost:8080/"
        },
        "id": "tGj5p63dMQPL",
        "outputId": "b706b26a-cf40-4306-ed5f-d136f51fe4aa"
      },
      "source": [
        "%%timeit\r\n",
        "clf.fit(data_transformed_keops, y)"
      ],
      "execution_count": null,
      "outputs": [
        {
          "output_type": "stream",
          "text": [
            "10 loops, best of 3: 87.1 ms per loop\n"
          ],
          "name": "stdout"
        }
      ]
    },
    {
      "cell_type": "code",
      "metadata": {
        "colab": {
          "base_uri": "https://localhost:8080/"
        },
        "id": "HIT1d-dyMTpH",
        "outputId": "0494a2a9-92f6-4f5d-c42c-3e2283c16095"
      },
      "source": [
        "%%timeit\r\n",
        "clf.score(data_transformed_keops, y)"
      ],
      "execution_count": null,
      "outputs": [
        {
          "output_type": "stream",
          "text": [
            "1000 loops, best of 3: 1.22 ms per loop\n"
          ],
          "name": "stdout"
        }
      ]
    },
    {
      "cell_type": "code",
      "metadata": {
        "id": "YQBtC09nMex9"
      },
      "source": [
        "use_cuda = torch.cuda.is_available()\r\n",
        "dtype = torch.cuda.FloatTensor if use_cuda else torch.FloatTensor\r\n",
        "\r\n",
        "N = 10000 if use_cuda else 1000  # Number of samples\r\n",
        "\r\n",
        "# Sampling locations:\r\n",
        "x = torch.rand(N, 1).type(dtype)\r\n",
        "\r\n",
        "# Some random-ish 1D signal:\r\n",
        "y = (\r\n",
        "    x\r\n",
        "    + 0.5 * (6 * x).sin()\r\n",
        "    + 0.1 * (20 * x).sin()\r\n",
        "    + 0.05 * torch.randn(N, 1).type(dtype)\r\n",
        ")"
      ],
      "execution_count": 39,
      "outputs": []
    },
    {
      "cell_type": "code",
      "metadata": {
        "id": "tioClOeQ5Vmv"
      },
      "source": [
        "def gaussian_kernel(x, y, sigma=0.1):\r\n",
        "    x_i = LazyTensor(x[:, None, :])  # (M, 1, 1)\r\n",
        "    y_j = LazyTensor(y[None, :, :])  # (1, N, 1)\r\n",
        "    D_ij = ((x_i - y_j) ** 2).sum(-1)  # (M, N) symbolic matrix of squared distances\r\n",
        "    return (-D_ij / (2 * sigma ** 2)).exp()  # (M, N) symbolic Gaussian kernel matrix"
      ],
      "execution_count": 40,
      "outputs": []
    },
    {
      "cell_type": "code",
      "metadata": {
        "colab": {
          "base_uri": "https://localhost:8080/"
        },
        "id": "nv5VjDwq5XoE",
        "outputId": "69e54b73-717f-4cf3-d49e-084396ffcc20"
      },
      "source": [
        "alpha = 1.0  # Ridge regularization\r\n",
        "\r\n",
        "start = time.time()\r\n",
        "\r\n",
        "K_xx = gaussian_kernel(x, x)\r\n",
        "print(K_xx)\r\n",
        "a = K_xx.solve(b, alpha=alpha)\r\n",
        "\r\n",
        "end = time.time()\r\n",
        "\r\n",
        "print(\r\n",
        "    \"Time to perform an RBF interpolation with {:,} samples in 1D: {:.5f}s\".format(\r\n",
        "        N, end - start\r\n",
        "    )\r\n",
        ")"
      ],
      "execution_count": 43,
      "outputs": [
        {
          "output_type": "stream",
          "text": [
            "KeOps LazyTensor\n",
            "    formula: Exp((Minus(Sum(Square((Var(0,1,0) - Var(1,1,1))))) / Var(2,1,2)))\n",
            "    shape: (10000, 10000)\n",
            "Time to perform an RBF interpolation with 10,000 samples in 1D: 0.06195s\n"
          ],
          "name": "stdout"
        }
      ]
    },
    {
      "cell_type": "code",
      "metadata": {
        "id": "hJc8KfcJ5Zko"
      },
      "source": [
        "# Extrapolate on a uniform sample:\r\n",
        "t = torch.linspace(0, 1, 1001).type(dtype)[:, None]\r\n",
        "\r\n",
        "K_tx = gaussian_kernel(t, x)\r\n",
        "mean_t = K_tx @ a\r\n",
        "\r\n",
        "# 1D plot:\r\n",
        "plt.figure(figsize=(8, 6))\r\n",
        "\r\n",
        "plt.scatter(x.cpu()[:, 0], b.cpu()[:, 0], s=100 / len(x))  # Noisy samples\r\n",
        "plt.plot(t.cpu().numpy(), mean_t.cpu().numpy(), \"r\")\r\n",
        "\r\n",
        "plt.axis([0, 1, 0, 1])\r\n",
        "plt.tight_layout()"
      ],
      "execution_count": null,
      "outputs": []
    },
    {
      "cell_type": "code",
      "metadata": {
        "id": "a4XO8V3s5hYC"
      },
      "source": [
        "# Sampling locations:\r\n",
        "x = torch.rand(N, 2).type(dtype)\r\n",
        "\r\n",
        "# Some random-ish 2D signal:\r\n",
        "b = ((x - 0.5) ** 2).sum(1, keepdim=True)\r\n",
        "b[b > 0.4 ** 2] = 0\r\n",
        "b[b < 0.3 ** 2] = 0\r\n",
        "b[b >= 0.3 ** 2] = 1\r\n",
        "b = b + 0.05 * torch.randn(N, 1).type(dtype)\r\n",
        "\r\n",
        "# Add 25% of outliers:\r\n",
        "Nout = N // 4\r\n",
        "b[-Nout:] = torch.rand(Nout, 1).type(dtype)"
      ],
      "execution_count": null,
      "outputs": []
    },
    {
      "cell_type": "code",
      "metadata": {
        "id": "PX8rF9925lyx"
      },
      "source": [
        "def laplacian_kernel(x, y, sigma=0.1):\r\n",
        "    x_i = LazyTensor(x[:, None, :])  # (M, 1, 1)\r\n",
        "    y_j = LazyTensor(y[None, :, :])  # (1, N, 1)\r\n",
        "    D_ij = ((x_i - y_j) ** 2).sum(-1)  # (M, N) symbolic matrix of squared distances\r\n",
        "    return (-D_ij.sqrt() / sigma).exp()  # (M, N) symbolic Laplacian kernel matrix"
      ],
      "execution_count": null,
      "outputs": []
    },
    {
      "cell_type": "code",
      "metadata": {
        "colab": {
          "base_uri": "https://localhost:8080/"
        },
        "id": "UDMV7R6s5nxH",
        "outputId": "7572e239-e050-413a-892e-66a6ab9069af"
      },
      "source": [
        "alpha = 10  # Ridge regularization\r\n",
        "\r\n",
        "start = time.time()\r\n",
        "\r\n",
        "K_xx = laplacian_kernel(x, x)\r\n",
        "a = K_xx.solve(b, alpha=alpha)\r\n",
        "\r\n",
        "end = time.time()\r\n",
        "\r\n",
        "print(\r\n",
        "    \"Time to perform an RBF interpolation with {:,} samples in 2D: {:.5f}s\".format(\r\n",
        "        N, end - start\r\n",
        "    )\r\n",
        ")"
      ],
      "execution_count": null,
      "outputs": [
        {
          "output_type": "stream",
          "text": [
            "Compiling libKeOpstorch224a96a9e0 in /root/.cache/pykeops-1.4.2-cpython-36:\n",
            "       formula: Sum_Reduction((Exp((Minus(Sqrt(Sum(Square((Var(1,1,0) - Var(2,1,1)))))) / Var(3,1,2))) * Var(0,1,1)),0)\n",
            "       aliases: Var(0,1,1); Var(1,1,0); Var(2,1,1); Var(3,1,2); \n",
            "       dtype  : float32\n",
            "... Done.\n",
            "Time to perform an RBF interpolation with 1,000 samples in 2D: 33.21815s\n"
          ],
          "name": "stdout"
        }
      ]
    },
    {
      "cell_type": "code",
      "metadata": {
        "colab": {
          "base_uri": "https://localhost:8080/",
          "height": 348
        },
        "id": "ywvXr1Bb5q-3",
        "outputId": "5a58e206-c2e5-4188-80f8-8102ea275c6b"
      },
      "source": [
        "# Extrapolate on a uniform sample:\r\n",
        "X = Y = torch.linspace(0, 1, 101).type(dtype)\r\n",
        "X, Y = torch.meshgrid(X, Y)\r\n",
        "t = torch.stack((X.contiguous().view(-1), Y.contiguous().view(-1)), dim=1)\r\n",
        "\r\n",
        "K_tx = laplacian_kernel(t, x)\r\n",
        "mean_t = K_tx @ a\r\n",
        "mean_t = mean_t.view(101, 101)\r\n",
        "\r\n",
        "# 2D plot: noisy samples and interpolation in the background\r\n",
        "plt.figure(figsize=(8, 8))\r\n",
        "\r\n",
        "plt.scatter(\r\n",
        "    x.cpu()[:, 0], x.cpu()[:, 1], c=b.cpu().view(-1), s=25000 / len(x), cmap=\"bwr\"\r\n",
        ")\r\n",
        "plt.imshow(\r\n",
        "    mean_t.cpu().numpy()[::-1, :],\r\n",
        "    interpolation=\"bilinear\",\r\n",
        "    extent=[0, 1, 0, 1],\r\n",
        "    cmap=\"coolwarm\",\r\n",
        ")\r\n",
        "\r\n",
        "# sphinx_gallery_thumbnail_number = 2\r\n",
        "plt.axis([0, 1, 0, 1])\r\n",
        "plt.tight_layout()\r\n",
        "plt.show()"
      ],
      "execution_count": null,
      "outputs": [
        {
          "output_type": "stream",
          "text": [
            "Compiling libKeOpstorch55e6750531 in /root/.cache/pykeops-1.4.2-cpython-36:\n",
            "       formula: Sum_Reduction((Exp((Minus(Sqrt(Sum(Square((Var(0,2,0) - Var(1,1,1)))))) / Var(2,1,2))) * Var(3,1,1)),0)\n",
            "       aliases: Var(0,2,0); Var(1,1,1); Var(2,1,2); Var(3,1,1); \n",
            "       dtype  : float32\n",
            "... Done.\n"
          ],
          "name": "stdout"
        },
        {
          "output_type": "error",
          "ename": "IndexError",
          "evalue": "ignored",
          "traceback": [
            "\u001b[0;31m---------------------------------------------------------------------------\u001b[0m",
            "\u001b[0;31mIndexError\u001b[0m                                Traceback (most recent call last)",
            "\u001b[0;32m<ipython-input-111-b72a4742d362>\u001b[0m in \u001b[0;36m<module>\u001b[0;34m()\u001b[0m\n\u001b[1;32m     12\u001b[0m \u001b[0;34m\u001b[0m\u001b[0m\n\u001b[1;32m     13\u001b[0m plt.scatter(\n\u001b[0;32m---> 14\u001b[0;31m     \u001b[0mx\u001b[0m\u001b[0;34m.\u001b[0m\u001b[0mcpu\u001b[0m\u001b[0;34m(\u001b[0m\u001b[0;34m)\u001b[0m\u001b[0;34m[\u001b[0m\u001b[0;34m:\u001b[0m\u001b[0;34m,\u001b[0m \u001b[0;36m0\u001b[0m\u001b[0;34m]\u001b[0m\u001b[0;34m,\u001b[0m \u001b[0mx\u001b[0m\u001b[0;34m.\u001b[0m\u001b[0mcpu\u001b[0m\u001b[0;34m(\u001b[0m\u001b[0;34m)\u001b[0m\u001b[0;34m[\u001b[0m\u001b[0;34m:\u001b[0m\u001b[0;34m,\u001b[0m \u001b[0;36m1\u001b[0m\u001b[0;34m]\u001b[0m\u001b[0;34m,\u001b[0m \u001b[0mc\u001b[0m\u001b[0;34m=\u001b[0m\u001b[0mb\u001b[0m\u001b[0;34m.\u001b[0m\u001b[0mcpu\u001b[0m\u001b[0;34m(\u001b[0m\u001b[0;34m)\u001b[0m\u001b[0;34m.\u001b[0m\u001b[0mview\u001b[0m\u001b[0;34m(\u001b[0m\u001b[0;34m-\u001b[0m\u001b[0;36m1\u001b[0m\u001b[0;34m)\u001b[0m\u001b[0;34m,\u001b[0m \u001b[0ms\u001b[0m\u001b[0;34m=\u001b[0m\u001b[0;36m25000\u001b[0m \u001b[0;34m/\u001b[0m \u001b[0mlen\u001b[0m\u001b[0;34m(\u001b[0m\u001b[0mx\u001b[0m\u001b[0;34m)\u001b[0m\u001b[0;34m,\u001b[0m \u001b[0mcmap\u001b[0m\u001b[0;34m=\u001b[0m\u001b[0;34m\"bwr\"\u001b[0m\u001b[0;34m\u001b[0m\u001b[0;34m\u001b[0m\u001b[0m\n\u001b[0m\u001b[1;32m     15\u001b[0m )\n\u001b[1;32m     16\u001b[0m plt.imshow(\n",
            "\u001b[0;31mIndexError\u001b[0m: index 1 is out of bounds for dimension 1 with size 1"
          ]
        },
        {
          "output_type": "display_data",
          "data": {
            "text/plain": [
              "<Figure size 576x576 with 0 Axes>"
            ]
          },
          "metadata": {
            "tags": []
          }
        }
      ]
    }
  ]
}